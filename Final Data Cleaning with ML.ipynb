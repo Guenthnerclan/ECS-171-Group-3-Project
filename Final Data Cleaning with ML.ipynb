{
 "cells": [
  {
   "cell_type": "code",
   "execution_count": 1,
   "metadata": {},
   "outputs": [],
   "source": [
    "import numpy as np\n",
    "import pandas as pd\n",
    "from sklearn.model_selection import train_test_split\n",
    "from sklearn.preprocessing import OneHotEncoder\n",
    "from sklearn.preprocessing import MinMaxScaler\n",
    "\n",
    "# !pip install matplotlib\n",
    "# !pip install seaborn\n",
    "\n",
    "from matplotlib import pyplot as plt\n",
    "%matplotlib inline\n",
    "import seaborn as sns"
   ]
  },
  {
   "cell_type": "code",
   "execution_count": 2,
   "metadata": {},
   "outputs": [],
   "source": [
    "df = pd.read_csv(\"train.csv\")\n",
    "categ_df = df.select_dtypes(include=['object'])\n",
    "numer_df =df.select_dtypes(exclude=['object'])"
   ]
  },
  {
   "cell_type": "code",
   "execution_count": 3,
   "metadata": {},
   "outputs": [
    {
     "name": "stdout",
     "output_type": "stream",
     "text": [
      "<class 'pandas.core.frame.DataFrame'>\n",
      "RangeIndex: 1460 entries, 0 to 1459\n",
      "Data columns (total 81 columns):\n",
      " #   Column         Non-Null Count  Dtype  \n",
      "---  ------         --------------  -----  \n",
      " 0   Id             1460 non-null   int64  \n",
      " 1   MSSubClass     1460 non-null   int64  \n",
      " 2   MSZoning       1460 non-null   object \n",
      " 3   LotFrontage    1201 non-null   float64\n",
      " 4   LotArea        1460 non-null   int64  \n",
      " 5   Street         1460 non-null   object \n",
      " 6   Alley          91 non-null     object \n",
      " 7   LotShape       1460 non-null   object \n",
      " 8   LandContour    1460 non-null   object \n",
      " 9   Utilities      1460 non-null   object \n",
      " 10  LotConfig      1460 non-null   object \n",
      " 11  LandSlope      1460 non-null   object \n",
      " 12  Neighborhood   1460 non-null   object \n",
      " 13  Condition1     1460 non-null   object \n",
      " 14  Condition2     1460 non-null   object \n",
      " 15  BldgType       1460 non-null   object \n",
      " 16  HouseStyle     1460 non-null   object \n",
      " 17  OverallQual    1460 non-null   int64  \n",
      " 18  OverallCond    1460 non-null   int64  \n",
      " 19  YearBuilt      1460 non-null   int64  \n",
      " 20  YearRemodAdd   1460 non-null   int64  \n",
      " 21  RoofStyle      1460 non-null   object \n",
      " 22  RoofMatl       1460 non-null   object \n",
      " 23  Exterior1st    1460 non-null   object \n",
      " 24  Exterior2nd    1460 non-null   object \n",
      " 25  MasVnrType     1452 non-null   object \n",
      " 26  MasVnrArea     1452 non-null   float64\n",
      " 27  ExterQual      1460 non-null   object \n",
      " 28  ExterCond      1460 non-null   object \n",
      " 29  Foundation     1460 non-null   object \n",
      " 30  BsmtQual       1423 non-null   object \n",
      " 31  BsmtCond       1423 non-null   object \n",
      " 32  BsmtExposure   1422 non-null   object \n",
      " 33  BsmtFinType1   1423 non-null   object \n",
      " 34  BsmtFinSF1     1460 non-null   int64  \n",
      " 35  BsmtFinType2   1422 non-null   object \n",
      " 36  BsmtFinSF2     1460 non-null   int64  \n",
      " 37  BsmtUnfSF      1460 non-null   int64  \n",
      " 38  TotalBsmtSF    1460 non-null   int64  \n",
      " 39  Heating        1460 non-null   object \n",
      " 40  HeatingQC      1460 non-null   object \n",
      " 41  CentralAir     1460 non-null   object \n",
      " 42  Electrical     1459 non-null   object \n",
      " 43  1stFlrSF       1460 non-null   int64  \n",
      " 44  2ndFlrSF       1460 non-null   int64  \n",
      " 45  LowQualFinSF   1460 non-null   int64  \n",
      " 46  GrLivArea      1460 non-null   int64  \n",
      " 47  BsmtFullBath   1460 non-null   int64  \n",
      " 48  BsmtHalfBath   1460 non-null   int64  \n",
      " 49  FullBath       1460 non-null   int64  \n",
      " 50  HalfBath       1460 non-null   int64  \n",
      " 51  BedroomAbvGr   1460 non-null   int64  \n",
      " 52  KitchenAbvGr   1460 non-null   int64  \n",
      " 53  KitchenQual    1460 non-null   object \n",
      " 54  TotRmsAbvGrd   1460 non-null   int64  \n",
      " 55  Functional     1460 non-null   object \n",
      " 56  Fireplaces     1460 non-null   int64  \n",
      " 57  FireplaceQu    770 non-null    object \n",
      " 58  GarageType     1379 non-null   object \n",
      " 59  GarageYrBlt    1379 non-null   float64\n",
      " 60  GarageFinish   1379 non-null   object \n",
      " 61  GarageCars     1460 non-null   int64  \n",
      " 62  GarageArea     1460 non-null   int64  \n",
      " 63  GarageQual     1379 non-null   object \n",
      " 64  GarageCond     1379 non-null   object \n",
      " 65  PavedDrive     1460 non-null   object \n",
      " 66  WoodDeckSF     1460 non-null   int64  \n",
      " 67  OpenPorchSF    1460 non-null   int64  \n",
      " 68  EnclosedPorch  1460 non-null   int64  \n",
      " 69  3SsnPorch      1460 non-null   int64  \n",
      " 70  ScreenPorch    1460 non-null   int64  \n",
      " 71  PoolArea       1460 non-null   int64  \n",
      " 72  PoolQC         7 non-null      object \n",
      " 73  Fence          281 non-null    object \n",
      " 74  MiscFeature    54 non-null     object \n",
      " 75  MiscVal        1460 non-null   int64  \n",
      " 76  MoSold         1460 non-null   int64  \n",
      " 77  YrSold         1460 non-null   int64  \n",
      " 78  SaleType       1460 non-null   object \n",
      " 79  SaleCondition  1460 non-null   object \n",
      " 80  SalePrice      1460 non-null   int64  \n",
      "dtypes: float64(3), int64(35), object(43)\n",
      "memory usage: 924.0+ KB\n"
     ]
    }
   ],
   "source": [
    "df.info()"
   ]
  },
  {
   "cell_type": "code",
   "execution_count": 4,
   "metadata": {},
   "outputs": [],
   "source": [
    "#Show features with at least some NaN values\n",
    "null_counts = df.isnull().sum()\n",
    "null_cols = []\n",
    "##print(\"Percentage of null values in each column:\\n\")\n",
    "for i in range(len(null_counts)):\n",
    "    if null_counts[i] != 0:\n",
    "        #print(null_counts.index[i], null_counts[i]/len(df))\n",
    "        null_cols.append(null_counts.index[i])"
   ]
  },
  {
   "cell_type": "code",
   "execution_count": 5,
   "metadata": {},
   "outputs": [],
   "source": [
    "#Features with too many NaN values, dropping them\n",
    "#Also Id which has no correlation to houses, just a sample marker\n",
    "df = df.drop([\"Id\",\"Alley\",\"PoolQC\",\"Fence\",\"MiscFeature\"],axis=1)"
   ]
  },
  {
   "cell_type": "code",
   "execution_count": 6,
   "metadata": {},
   "outputs": [],
   "source": [
    "#Show features with at least some NaN values\n",
    "null_counts = df.isnull().sum()\n",
    "null_cols = []\n",
    "#print(\"Number of null values in each column:\\n\")\n",
    "for i in range(len(null_counts)):\n",
    "    if null_counts[i] != 0:\n",
    "        ##print(null_counts.index[i], null_counts[i])\n",
    "        null_cols.append(null_counts.index[i])"
   ]
  },
  {
   "cell_type": "code",
   "execution_count": 7,
   "metadata": {},
   "outputs": [],
   "source": [
    "#Columns that have the data description with an explanation for NaN values\n",
    "##Basically indicates a lack of the feature is specified\n",
    "valid_none_cols = ['BsmtQual','BsmtCond','BsmtExposure','BsmtFinType1','BsmtFinType2','GarageType',\n",
    "                'GarageFinish','GarageQual','FireplaceQu','GarageCond']\n",
    "\n",
    "##Filling in with value 'None' to indicate for machine learning later\n",
    "df[valid_none_cols]= df[valid_none_cols].fillna('None')"
   ]
  },
  {
   "cell_type": "code",
   "execution_count": 8,
   "metadata": {},
   "outputs": [],
   "source": [
    "#Organizing the other features with NaN values into numerical and categorical features\n",
    "#\"Invalid\" simply means the data description didn't specify NaN values\n",
    "\n",
    "invalid_none_cols = np.array(null_cols)\n",
    "#Fill with feature names in null_cols that only are NOT already in valid_none_cols\n",
    "invalid_none_cols = invalid_none_cols[[i not in valid_none_cols for i in invalid_none_cols]]\n",
    "\n",
    "#Splitting\n",
    "invalid_none_categ = invalid_none_cols[[i in categ_df for i in invalid_none_cols]]\n",
    "invalid_none_numer = invalid_none_cols[[i in numer_df for i in invalid_none_cols]]\n",
    "\n",
    "#print(invalid_none_categ)\n",
    "##print(invalid_none_numer)\n",
    "#fill missing values for each column (using its own most frequent value)\n",
    "#object_columns_df[columns_with_lowNA] = object_columns_df[columns_with_lowNA].fillna(object_columns_df.mode().iloc[0])"
   ]
  },
  {
   "cell_type": "markdown",
   "metadata": {},
   "source": [
    "### Dropping rows in MasVnrType and Electrical with NaN values"
   ]
  },
  {
   "cell_type": "code",
   "execution_count": 9,
   "metadata": {},
   "outputs": [],
   "source": [
    "# According to data description file, the most columns uses 'NA' as 'No fireplace', 'No basement' and etc.\n",
    "# However, MasVnrType/Electrical column contains 'NA' without any designation. Then it should be missing value.\n",
    "\n",
    "bad_categ  = pd.concat([df['MasVnrType'],df['Electrical']],axis=1)\n",
    "#Getting the particular rows in the df with NaN values\n",
    "bad_rows = bad_categ[bad_categ.isna().any(axis=1)]\n",
    "#Deleting these rows from the total df\n",
    "df = df.drop(bad_rows.index)\n",
    "#Categories without NaN descriptions should no longer have NaN values"
   ]
  },
  {
   "cell_type": "code",
   "execution_count": 10,
   "metadata": {},
   "outputs": [],
   "source": [
    "##ADJUSTING NUMERICAL FEATURES\n",
    "#For the most part these values can be assumed to indicate 0 when not filled with a number\n",
    "##LotFrontage has many missing values, so all 0 wouldn't be great\n",
    "#GarageYrBlt makes no sense with a value of 0. We'll change these two individually\n",
    "\n",
    "#Adjusting LotFrontage by assuming the fill takes on the median value\n",
    "#Perhaps this can be improved with comparisons to the LotArea feature?\n",
    "df['LotFrontage'] = df['LotFrontage'].fillna(df['LotFrontage'].median())\n",
    "\n",
    "#Adjusting GarageYrBlt based on the year the house was built\n",
    "\n",
    "#plt.plot(df[\"GarageYrBlt\"],df[\"YearBuilt\"],\"b.\")\n",
    "#plt.xticks(np.arange(min(df[\"GarageYrBlt\"]),max(df[\"GarageYrBlt\"]),20.0))\n",
    "#plt.xlabel(\"Year Garage Built\")\n",
    "#plt.ylabel(\"Year Built\")\n",
    "\n",
    "#seems like the garage is built around the same year as the house or a bit later\n",
    "#Again use the median value to fill in\n",
    "df[\"GarageYrBlt\"] = df[\"GarageYrBlt\"].fillna(df['YearBuilt']-(df['GarageYrBlt']-df['YearBuilt']).median())\n",
    "\n",
    "#Fill the rest of the null values to 0\n",
    "for i in invalid_none_numer:\n",
    "    df[i] = df[i].fillna(0)"
   ]
  },
  {
   "cell_type": "markdown",
   "metadata": {},
   "source": [
    "## Removing Outliers based on Plots"
   ]
  },
  {
   "cell_type": "code",
   "execution_count": 11,
   "metadata": {},
   "outputs": [],
   "source": [
    "# GrLivArea and GarageArea columns have relatively large correlation with the SalePrice.\n",
    "# Use scatterplots to detect the outliers.\n",
    "def visualDetectionOutlier(train_df):\n",
    "    sp = train_df['SalePrice']\n",
    "    fig, axes = plt.subplots(nrows=2,ncols=1,figsize=(7,12))\n",
    "    axes[0].scatter(x=train_df['GrLivArea'],y=sp, alpha=0.5)\n",
    "    axes[0].set_title(\"GrLivArea vs SalePrice\")\n",
    "    axes[0].set_xlabel(\"sqft\")\n",
    "    axes[0].set_ylabel(\"Price\")\n",
    "    axes[1].scatter(x=train_df['GarageArea'],y=sp, alpha=0.5)\n",
    "    axes[1].set_title(\"GarageArea vs SalePrice\")\n",
    "    axes[1].set_xlabel(\"sqft\")\n",
    "    axes[1].set_ylabel(\"Price\")\n",
    "    fig.tight_layout()\n",
    "    plt.show()"
   ]
  },
  {
   "cell_type": "code",
   "execution_count": 12,
   "metadata": {},
   "outputs": [
    {
     "data": {
      "image/png": "[encoded data removed]",
      "text/plain": [
       "<Figure size 504x864 with 2 Axes>"
      ]
     },
     "metadata": {
      "needs_background": "light"
     },
     "output_type": "display_data"
    }
   ],
   "source": [
    "# Before removing outliers.\n",
    "visualDetectionOutlier(df)"
   ]
  },
  {
   "cell_type": "code",
   "execution_count": 13,
   "metadata": {},
   "outputs": [],
   "source": [
    "# [Plot 1: GrLivArea vs SalePrice] Bottom right two points look like outliers.\n",
    "ol_plot1_bottomright = df.loc[(df['GrLivArea'] > 4000) & (df['SalePrice'] < 300000)]\n",
    "# [Plot 2: GarageArea vs SalePrice] Bottom right four points look like outliers.\n",
    "ol_plot2_bottomright = df.loc[((df['GarageArea'] > 1200) & (df['SalePrice'] < 300000))]\n",
    "# [Plot 2: GarageArea vs SalePrice] Top middle two points look like outliers.\n",
    "ol_plot2_topmiddle = df.loc[((df['GarageArea'] > 800) & (df['GarageArea'] < 1000)) &\n",
    "                                  (df['SalePrice'] > 700000)]\n",
    "# Remove the outliers.\n",
    "df = df.drop(ol_plot1_bottomright.index.append(ol_plot2_bottomright.index).\n",
    "                         append(ol_plot2_topmiddle.index))"
   ]
  },
  {
   "cell_type": "code",
   "execution_count": 14,
   "metadata": {},
   "outputs": [
    {
     "data": {
      "image/png": "[encoded data removed]",
      "text/plain": [
       "<Figure size 504x864 with 2 Axes>"
      ]
     },
     "metadata": {
      "needs_background": "light"
     },
     "output_type": "display_data"
    }
   ],
   "source": [
    "# Check out the linearity again.\n",
    "visualDetectionOutlier(df)"
   ]
  },
  {
   "cell_type": "markdown",
   "metadata": {},
   "source": [
    "# One Hot Encoding Categorical Data, Min-Max Scaling, Correlation Matrix"
   ]
  },
  {
   "cell_type": "code",
   "execution_count": 15,
   "metadata": {},
   "outputs": [
    {
     "data": {
      "image/png": "[encoded data removed]",
      "text/plain": [
       "<Figure size 864x648 with 2 Axes>"
      ]
     },
     "metadata": {
      "needs_background": "light"
     },
     "output_type": "display_data"
    }
   ],
   "source": [
    "corrmat = df.corr()\n",
    "f, ax = plt.subplots(figsize=(12, 9))\n",
    "sns.heatmap(corrmat, vmax=.8, square=True);"
   ]
  },
  {
   "cell_type": "code",
   "execution_count": 16,
   "metadata": {},
   "outputs": [
    {
     "name": "stdout",
     "output_type": "stream",
     "text": [
      "List of parameters that have a good linear model fit to Sale Price\n",
      "OverallQual 0.8002198999238866\n",
      "YearBuilt 0.534894591790901\n",
      "YearRemodAdd 0.5208853115126126\n",
      "TotalBsmtSF 0.6466812085464383\n",
      "1stFlrSF 0.6268726701318775\n",
      "GrLivArea 0.7216771976009544\n",
      "FullBath 0.5606284641370038\n",
      "TotRmsAbvGrd 0.5401086509685642\n",
      "GarageYrBlt 0.5215241554070832\n",
      "GarageCars 0.6532628671016962\n",
      "GarageArea 0.6487457042566283\n"
     ]
    }
   ],
   "source": [
    "#Find out which parameters appear to have an appreciable linear relationship with SalePrice\n",
    "#Arbitrary 0.5 correlation cutoff\n",
    "print(\"List of parameters that have a good linear model fit to Sale Price\")\n",
    "# Correlation between SalePrice and other variables.\n",
    "for i in range(len(corrmat[\"SalePrice\"])-1):\n",
    "    #Likely to be a linear relationship\n",
    "    if((corrmat[\"SalePrice\"][i] > 0.5 or corrmat[\"SalePrice\"][i] < -0.5)):\n",
    "        print(corrmat.columns[i], corrmat[\"SalePrice\"][i])"
   ]
  },
  {
   "cell_type": "code",
   "execution_count": 17,
   "metadata": {},
   "outputs": [
    {
     "data": {
      "text/plain": [
       "BsmtFinSF2       0.007906\n",
       "MiscVal          0.019909\n",
       "YrSold           0.021357\n",
       "LowQualFinSF     0.025068\n",
       "PoolArea         0.033230\n",
       "BsmtHalfBath     0.036153\n",
       "3SsnPorch        0.048127\n",
       "MoSold           0.055596\n",
       "OverallCond      0.079901\n",
       "MSSubClass       0.086673\n",
       "ScreenPorch      0.120061\n",
       "EnclosedPorch    0.130307\n",
       "KitchenAbvGr     0.140698\n",
       "BedroomAbvGr     0.163546\n",
       "BsmtUnfSF        0.221543\n",
       "BsmtFullBath     0.233879\n",
       "LotArea          0.272318\n",
       "HalfBath         0.279980\n",
       "2ndFlrSF         0.300989\n",
       "WoodDeckSF       0.324213\n",
       "OpenPorchSF      0.325154\n",
       "LotFrontage      0.338856\n",
       "BsmtFinSF1       0.394263\n",
       "Fireplaces       0.468391\n",
       "MasVnrArea       0.478326\n",
       "YearRemodAdd     0.520885\n",
       "GarageYrBlt      0.521524\n",
       "YearBuilt        0.534895\n",
       "TotRmsAbvGrd     0.540109\n",
       "FullBath         0.560628\n",
       "1stFlrSF         0.626873\n",
       "TotalBsmtSF      0.646681\n",
       "GarageArea       0.648746\n",
       "GarageCars       0.653263\n",
       "GrLivArea        0.721677\n",
       "OverallQual      0.800220\n",
       "Name: SalePrice, dtype: float64"
      ]
     },
     "execution_count": 17,
     "metadata": {},
     "output_type": "execute_result"
    }
   ],
   "source": [
    "# Correlation between SalePrice and other variables.\n",
    "# Sorted from the least to the most correlated.\n",
    "corrmat.loc['SalePrice'].abs().sort_values()[:-1]"
   ]
  },
  {
   "cell_type": "code",
   "execution_count": 18,
   "metadata": {},
   "outputs": [],
   "source": [
    "# According to the data description, these numeric columns are actually categorical columns.\n",
    "num_to_cat_list = ['MSSubClass','OverallQual','OverallCond','YearBuilt', \n",
    "                             'YearBuilt','YearRemodAdd','MoSold','YrSold']\n",
    "# Transform numeric data types into string data type.\n",
    "df[num_to_cat_list] = df[num_to_cat_list].astype(str)"
   ]
  },
  {
   "cell_type": "code",
   "execution_count": 19,
   "metadata": {},
   "outputs": [],
   "source": [
    "# The data type should be floating point because it indicates sqft.\n",
    "df['MasVnrArea'] = df['MasVnrArea'].astype(np.float)"
   ]
  },
  {
   "cell_type": "code",
   "execution_count": 20,
   "metadata": {},
   "outputs": [],
   "source": [
    "# Transform numerical features by scaling each feature to a given range.\n",
    "categ_df = df.select_dtypes(include=['object'])\n",
    "numer_df = df.select_dtypes(exclude=['object'])\n",
    "numer_df = numer_df.drop(columns=['SalePrice'])\n",
    "\n",
    "#MIN MAX SCALER\n",
    "scaler = MinMaxScaler()\n",
    "df[numer_df.columns] = scaler.fit_transform(df[numer_df.columns])"
   ]
  },
  {
   "cell_type": "code",
   "execution_count": 21,
   "metadata": {},
   "outputs": [],
   "source": [
    "# Pandas One Hot Encoding\n",
    "df = pd.get_dummies(df, columns=categ_df.columns, prefix=categ_df.columns, drop_first=True)"
   ]
  },
  {
   "cell_type": "markdown",
   "metadata": {},
   "source": [
    "## Data Splitting"
   ]
  },
  {
   "cell_type": "code",
   "execution_count": 22,
   "metadata": {},
   "outputs": [],
   "source": [
    "X = df.iloc[:,:456] # defining X and y before splitting the data\n",
    "X = X.drop(columns=['SalePrice'])\n",
    "y = df.iloc[:,29] # df.columns.get_loc(\"SalePrice\")\n",
    "X_train, X_test, y_train, y_test = train_test_split(X, y, random_state = 21, test_size = 0.2)"
   ]
  },
  {
   "cell_type": "code",
   "execution_count": 23,
   "metadata": {},
   "outputs": [
    {
     "data": {
      "text/html": [
       "<div>\n",
       "<style scoped>\n",
       "    .dataframe tbody tr th:only-of-type {\n",
       "        vertical-align: middle;\n",
       "    }\n",
       "\n",
       "    .dataframe tbody tr th {\n",
       "        vertical-align: top;\n",
       "    }\n",
       "\n",
       "    .dataframe thead th {\n",
       "        text-align: right;\n",
       "    }\n",
       "</style>\n",
       "<table border=\"1\" class=\"dataframe\">\n",
       "  <thead>\n",
       "    <tr style=\"text-align: right;\">\n",
       "      <th></th>\n",
       "      <th>LotFrontage</th>\n",
       "      <th>LotArea</th>\n",
       "      <th>MasVnrArea</th>\n",
       "      <th>BsmtFinSF1</th>\n",
       "      <th>BsmtFinSF2</th>\n",
       "      <th>BsmtUnfSF</th>\n",
       "      <th>TotalBsmtSF</th>\n",
       "      <th>1stFlrSF</th>\n",
       "      <th>2ndFlrSF</th>\n",
       "      <th>LowQualFinSF</th>\n",
       "      <th>...</th>\n",
       "      <th>SaleType_ConLI</th>\n",
       "      <th>SaleType_ConLw</th>\n",
       "      <th>SaleType_New</th>\n",
       "      <th>SaleType_Oth</th>\n",
       "      <th>SaleType_WD</th>\n",
       "      <th>SaleCondition_AdjLand</th>\n",
       "      <th>SaleCondition_Alloca</th>\n",
       "      <th>SaleCondition_Family</th>\n",
       "      <th>SaleCondition_Normal</th>\n",
       "      <th>SaleCondition_Partial</th>\n",
       "    </tr>\n",
       "  </thead>\n",
       "  <tbody>\n",
       "    <tr>\n",
       "      <th>985</th>\n",
       "      <td>0.160959</td>\n",
       "      <td>0.044778</td>\n",
       "      <td>0.000000</td>\n",
       "      <td>0.475320</td>\n",
       "      <td>0.0</td>\n",
       "      <td>0.053082</td>\n",
       "      <td>0.363069</td>\n",
       "      <td>0.286800</td>\n",
       "      <td>0.000000</td>\n",
       "      <td>0.0</td>\n",
       "      <td>...</td>\n",
       "      <td>0</td>\n",
       "      <td>0</td>\n",
       "      <td>0</td>\n",
       "      <td>0</td>\n",
       "      <td>0</td>\n",
       "      <td>0</td>\n",
       "      <td>0</td>\n",
       "      <td>0</td>\n",
       "      <td>1</td>\n",
       "      <td>0</td>\n",
       "    </tr>\n",
       "    <tr>\n",
       "      <th>188</th>\n",
       "      <td>0.147260</td>\n",
       "      <td>0.026726</td>\n",
       "      <td>0.171875</td>\n",
       "      <td>0.496344</td>\n",
       "      <td>0.0</td>\n",
       "      <td>0.000000</td>\n",
       "      <td>0.338740</td>\n",
       "      <td>0.307533</td>\n",
       "      <td>0.000000</td>\n",
       "      <td>0.0</td>\n",
       "      <td>...</td>\n",
       "      <td>0</td>\n",
       "      <td>0</td>\n",
       "      <td>0</td>\n",
       "      <td>0</td>\n",
       "      <td>1</td>\n",
       "      <td>0</td>\n",
       "      <td>1</td>\n",
       "      <td>0</td>\n",
       "      <td>0</td>\n",
       "      <td>0</td>\n",
       "    </tr>\n",
       "    <tr>\n",
       "      <th>90</th>\n",
       "      <td>0.133562</td>\n",
       "      <td>0.027577</td>\n",
       "      <td>0.000000</td>\n",
       "      <td>0.000000</td>\n",
       "      <td>0.0</td>\n",
       "      <td>0.000000</td>\n",
       "      <td>0.000000</td>\n",
       "      <td>0.243953</td>\n",
       "      <td>0.000000</td>\n",
       "      <td>0.0</td>\n",
       "      <td>...</td>\n",
       "      <td>0</td>\n",
       "      <td>0</td>\n",
       "      <td>0</td>\n",
       "      <td>0</td>\n",
       "      <td>1</td>\n",
       "      <td>0</td>\n",
       "      <td>0</td>\n",
       "      <td>0</td>\n",
       "      <td>1</td>\n",
       "      <td>0</td>\n",
       "    </tr>\n",
       "    <tr>\n",
       "      <th>84</th>\n",
       "      <td>0.164384</td>\n",
       "      <td>0.033794</td>\n",
       "      <td>0.013750</td>\n",
       "      <td>0.000000</td>\n",
       "      <td>0.0</td>\n",
       "      <td>0.164384</td>\n",
       "      <td>0.119775</td>\n",
       "      <td>0.162405</td>\n",
       "      <td>0.368537</td>\n",
       "      <td>0.0</td>\n",
       "      <td>...</td>\n",
       "      <td>0</td>\n",
       "      <td>0</td>\n",
       "      <td>0</td>\n",
       "      <td>0</td>\n",
       "      <td>1</td>\n",
       "      <td>0</td>\n",
       "      <td>0</td>\n",
       "      <td>0</td>\n",
       "      <td>1</td>\n",
       "      <td>0</td>\n",
       "    </tr>\n",
       "    <tr>\n",
       "      <th>508</th>\n",
       "      <td>0.133562</td>\n",
       "      <td>0.038795</td>\n",
       "      <td>0.000000</td>\n",
       "      <td>0.064442</td>\n",
       "      <td>0.0</td>\n",
       "      <td>0.234589</td>\n",
       "      <td>0.214910</td>\n",
       "      <td>0.122668</td>\n",
       "      <td>0.378988</td>\n",
       "      <td>0.0</td>\n",
       "      <td>...</td>\n",
       "      <td>0</td>\n",
       "      <td>0</td>\n",
       "      <td>0</td>\n",
       "      <td>0</td>\n",
       "      <td>1</td>\n",
       "      <td>0</td>\n",
       "      <td>0</td>\n",
       "      <td>0</td>\n",
       "      <td>1</td>\n",
       "      <td>0</td>\n",
       "    </tr>\n",
       "  </tbody>\n",
       "</table>\n",
       "<p>5 rows × 455 columns</p>\n",
       "</div>"
      ],
      "text/plain": [
       "     LotFrontage   LotArea  MasVnrArea  BsmtFinSF1  BsmtFinSF2  BsmtUnfSF  \\\n",
       "985     0.160959  0.044778    0.000000    0.475320         0.0   0.053082   \n",
       "188     0.147260  0.026726    0.171875    0.496344         0.0   0.000000   \n",
       "90      0.133562  0.027577    0.000000    0.000000         0.0   0.000000   \n",
       "84      0.164384  0.033794    0.013750    0.000000         0.0   0.164384   \n",
       "508     0.133562  0.038795    0.000000    0.064442         0.0   0.234589   \n",
       "\n",
       "     TotalBsmtSF  1stFlrSF  2ndFlrSF  LowQualFinSF  ...  SaleType_ConLI  \\\n",
       "985     0.363069  0.286800  0.000000           0.0  ...               0   \n",
       "188     0.338740  0.307533  0.000000           0.0  ...               0   \n",
       "90      0.000000  0.243953  0.000000           0.0  ...               0   \n",
       "84      0.119775  0.162405  0.368537           0.0  ...               0   \n",
       "508     0.214910  0.122668  0.378988           0.0  ...               0   \n",
       "\n",
       "     SaleType_ConLw  SaleType_New  SaleType_Oth  SaleType_WD  \\\n",
       "985               0             0             0            0   \n",
       "188               0             0             0            1   \n",
       "90                0             0             0            1   \n",
       "84                0             0             0            1   \n",
       "508               0             0             0            1   \n",
       "\n",
       "     SaleCondition_AdjLand  SaleCondition_Alloca  SaleCondition_Family  \\\n",
       "985                      0                     0                     0   \n",
       "188                      0                     1                     0   \n",
       "90                       0                     0                     0   \n",
       "84                       0                     0                     0   \n",
       "508                      0                     0                     0   \n",
       "\n",
       "     SaleCondition_Normal  SaleCondition_Partial  \n",
       "985                     1                      0  \n",
       "188                     0                      0  \n",
       "90                      1                      0  \n",
       "84                      1                      0  \n",
       "508                     1                      0  \n",
       "\n",
       "[5 rows x 455 columns]"
      ]
     },
     "execution_count": 23,
     "metadata": {},
     "output_type": "execute_result"
    }
   ],
   "source": [
    "X_train.head()"
   ]
  },
  {
   "cell_type": "code",
   "execution_count": 24,
   "metadata": {},
   "outputs": [
    {
     "data": {
      "text/plain": [
       "985    125000\n",
       "188    153337\n",
       "90     109900\n",
       "84     168500\n",
       "508    161000\n",
       "Name: SalePrice, dtype: int64"
      ]
     },
     "execution_count": 24,
     "metadata": {},
     "output_type": "execute_result"
    }
   ],
   "source": [
    "y_train.head()"
   ]
  },
  {
   "cell_type": "markdown",
   "metadata": {},
   "source": [
    "## Feature Selection\n",
    "- Variance Threshold after scaling and one-hot encoding\n",
    "    - dropped the R^2 score significantly (455 columns --> 38 columns)\n",
    "- SelectFromModel using Lasso Regression after scaling and one-hot encoding\n",
    "    - barely changed the R^2 score (455 columns --> 451 columns)\n",
    "- RFE using Random Forest Regression after scaling and one-hot encoding\n",
    "    - gives an ordered ranking of most important features to least important features"
   ]
  },
  {
   "cell_type": "code",
   "execution_count": 25,
   "metadata": {},
   "outputs": [],
   "source": [
    "# Code for SelectFromModel using Lasso Regression is below:"
   ]
  },
  {
   "cell_type": "code",
   "execution_count": 26,
   "metadata": {},
   "outputs": [],
   "source": [
    "# from sklearn.linear_model import Lasso\n",
    "# from sklearn.feature_selection import SelectFromModel\n",
    "# feature_sel_model = SelectFromModel(Lasso(alpha=0.05,random_state=21))\n",
    "# feature_sel_model.fit(X, y)\n",
    "\n",
    "# selected_feat = X_train.columns[(feature_sel_model.get_support())]\n",
    "# print('selected features:',len(selected_feat))\n",
    "# selected_feat"
   ]
  },
  {
   "cell_type": "code",
   "execution_count": 27,
   "metadata": {},
   "outputs": [],
   "source": [
    "# df2 = pd.concat([X[selected_feat], y], axis=1)"
   ]
  },
  {
   "cell_type": "code",
   "execution_count": 28,
   "metadata": {},
   "outputs": [],
   "source": [
    "# defining X and y before splitting the data\n",
    "# X2 = df2.iloc[:,:451]\n",
    "# y2 = df2.iloc[:,451] # df.columns.get_loc(\"SalePrice\")\n",
    "# X_train2, X_test2, y_train2, y_test2 = train_test_split(X2, y2, random_state = 21, test_size = 0.2)"
   ]
  },
  {
   "cell_type": "code",
   "execution_count": null,
   "metadata": {},
   "outputs": [],
   "source": []
  },
  {
   "cell_type": "code",
   "execution_count": 29,
   "metadata": {},
   "outputs": [],
   "source": [
    "# Code for RFE using Random Forest is below:"
   ]
  },
  {
   "cell_type": "code",
   "execution_count": 30,
   "metadata": {},
   "outputs": [],
   "source": [
    "# from sklearn.feature_selection import RFE\n",
    "# from sklearn.ensemble import RandomForestRegressor\n",
    "\n",
    "# regressor = RandomForestRegressor(n_estimators=100, max_depth=10)\n",
    "# regressor.fit(X, y)\n",
    "\n",
    "# rfe = RFE(regressor, n_features_to_select=1)\n",
    "# rfe.fit(X, y)"
   ]
  },
  {
   "cell_type": "code",
   "execution_count": 31,
   "metadata": {},
   "outputs": [],
   "source": [
    "# features = X.columns.values.tolist()"
   ]
  },
  {
   "cell_type": "code",
   "execution_count": 32,
   "metadata": {},
   "outputs": [],
   "source": [
    "# import operator\n",
    "# from operator import itemgetter\n",
    "# for x, y in (sorted(zip(rfe.ranking_ , features), key=itemgetter(0))):\n",
    "#     print(x, y)"
   ]
  },
  {
   "cell_type": "code",
   "execution_count": null,
   "metadata": {},
   "outputs": [],
   "source": []
  },
  {
   "cell_type": "code",
   "execution_count": 33,
   "metadata": {},
   "outputs": [],
   "source": [
    "# Code for VarianceThreshold is below:"
   ]
  },
  {
   "cell_type": "code",
   "execution_count": 34,
   "metadata": {},
   "outputs": [],
   "source": [
    "# from sklearn.feature_selection import VarianceThreshold\n",
    "# sel = VarianceThreshold(threshold=(.8 * (1 - .8)))\n",
    "# df2 = df\n",
    "# X2 = df2.iloc[:,:456] # defining X and y before splitting the data\n",
    "# X2 = X2.drop(columns=['SalePrice'])\n",
    "# sel.fit_transform(X2)\n",
    "# # print(sel.fit_transform(X2))\n",
    "# df2 = df2[df2.columns[sel.get_support(indices=True)]]\n",
    "# df2.columns.values.tolist()"
   ]
  },
  {
   "cell_type": "code",
   "execution_count": 35,
   "metadata": {},
   "outputs": [],
   "source": [
    "# df2 = pd.concat([df2, df['SalePrice']], axis=1)"
   ]
  },
  {
   "cell_type": "code",
   "execution_count": 36,
   "metadata": {},
   "outputs": [],
   "source": [
    "# defining X and y before splitting the data\n",
    "# X2 = df2.iloc[:,:38]\n",
    "# y2 = df2.iloc[:,38] # df.columns.get_loc(\"SalePrice\")\n",
    "# X_train2, X_test2, y_train2, y_test2 = train_test_split(X2, y2, random_state = 21, test_size = 0.2)"
   ]
  },
  {
   "cell_type": "markdown",
   "metadata": {},
   "source": [
    "## Ridge Regression"
   ]
  },
  {
   "cell_type": "markdown",
   "metadata": {},
   "source": [
    "Testing with original training and testing sets split from df"
   ]
  },
  {
   "cell_type": "code",
   "execution_count": 37,
   "metadata": {},
   "outputs": [
    {
     "name": "stdout",
     "output_type": "stream",
     "text": [
      "Ridge\n",
      "0.9053587893828716\n"
     ]
    }
   ],
   "source": [
    "from sklearn.linear_model import Ridge\n",
    "ridgeReg = Ridge(alpha = 0.5)\n",
    "ridgeReg.fit(X_train, y_train)\n",
    "print('Ridge')\n",
    "print(ridgeReg.score(X_test, y_test)) # returns R^2 score"
   ]
  },
  {
   "cell_type": "code",
   "execution_count": 38,
   "metadata": {},
   "outputs": [
    {
     "name": "stdout",
     "output_type": "stream",
     "text": [
      "R^2 Score: [0.93390685 0.87611335 0.91096567 0.87382648 0.90970349 0.88481428\n",
      " 0.91067372 0.87449852 0.90458642 0.91119848]\n",
      "\n",
      "\n",
      "Mean R^2 Score: 0.8990287260235423\n",
      "\n",
      "\n",
      "MSE: [4.19609734e+08 5.30360986e+08 5.77307138e+08 5.25021404e+08\n",
      " 5.58529186e+08 7.56045832e+08 4.47411100e+08 7.68068783e+08\n",
      " 5.53135374e+08 6.62242473e+08]\n",
      "\n",
      "\n",
      "Mean MSE Value: 579773201.0358196\n"
     ]
    }
   ],
   "source": [
    "from sklearn.model_selection import KFold\n",
    "from sklearn.model_selection import cross_val_score\n",
    "from statistics import *\n",
    "\n",
    "cv = KFold(n_splits=10, random_state=21, shuffle=True)\n",
    "\n",
    "r2_ridge = cross_val_score(ridgeReg, X, y, scoring='r2', cv=cv, n_jobs=-1)\n",
    "mse_ridge = cross_val_score(ridgeReg, X, y, scoring='neg_mean_squared_error', cv=cv, n_jobs=-1)\n",
    "\n",
    "print(\"R^2 Score:\", r2_ridge)\n",
    "print(\"\\n\")\n",
    "print(\"Mean R^2 Score:\", mean(r2_ridge))\n",
    "print(\"\\n\")\n",
    "print(\"MSE:\", abs(mse_ridge))\n",
    "print(\"\\n\")\n",
    "print(\"Mean MSE Value:\", abs(mean(mse_ridge)))"
   ]
  },
  {
   "cell_type": "markdown",
   "metadata": {},
   "source": [
    "Testing with new training and testing sets after feature selection"
   ]
  },
  {
   "cell_type": "code",
   "execution_count": 39,
   "metadata": {},
   "outputs": [],
   "source": [
    "# ridgeReg2 = Ridge(alpha = 0.5)\n",
    "# ridgeReg2.fit(X_train2, y_train2)\n",
    "# print('Ridge')\n",
    "# print(ridgeReg2.score(X_test2, y_test2))"
   ]
  },
  {
   "cell_type": "code",
   "execution_count": 40,
   "metadata": {},
   "outputs": [],
   "source": [
    "# r2_ridge2 = cross_val_score(ridgeReg2, X2, y2, scoring='r2', cv=cv, n_jobs=-1)\n",
    "# mse_ridge2 = cross_val_score(ridgeReg2, X2, y2, scoring='neg_mean_squared_error', cv=cv, n_jobs=-1)\n",
    "\n",
    "# print(\"R^2 Score:\", r2_ridge2)\n",
    "# print(\"\\n\")\n",
    "# print(\"Mean R^2 Score:\", mean(r2_ridge2))\n",
    "# print(\"\\n\")\n",
    "# print(\"MSE:\", abs(mse_ridge2))\n",
    "# print(\"\\n\")\n",
    "# print(\"Mean MSE Value:\", abs(mean(mse_ridge2)))"
   ]
  },
  {
   "cell_type": "markdown",
   "metadata": {},
   "source": [
    "## Lasso Regression"
   ]
  },
  {
   "cell_type": "markdown",
   "metadata": {},
   "source": [
    "Testing with original training and testing sets split from df"
   ]
  },
  {
   "cell_type": "code",
   "execution_count": 41,
   "metadata": {},
   "outputs": [
    {
     "name": "stdout",
     "output_type": "stream",
     "text": [
      "Lasso\n",
      "0.8914717025028142\n"
     ]
    },
    {
     "name": "stderr",
     "output_type": "stream",
     "text": [
      "/Users/anchal/.pyenv/versions/3.8.6/lib/python3.8/site-packages/sklearn/linear_model/_coordinate_descent.py:530: ConvergenceWarning: Objective did not converge. You might want to increase the number of iterations. Duality gap: 127118143403.48778, tolerance: 691623240.1457597\n",
      "  model = cd_fast.enet_coordinate_descent(\n"
     ]
    }
   ],
   "source": [
    "from sklearn.linear_model import Lasso\n",
    "lassoReg = Lasso(alpha = 0.5)\n",
    "lassoReg.fit(X_train, y_train)\n",
    "print('Lasso')\n",
    "print(lassoReg.score(X_test, y_test)) # returns R^2 score"
   ]
  },
  {
   "cell_type": "code",
   "execution_count": 42,
   "metadata": {},
   "outputs": [
    {
     "name": "stdout",
     "output_type": "stream",
     "text": [
      "R^2 Score: [0.92187953 0.86208999 0.90328472 0.86430442 0.90089484 0.84717255\n",
      " 0.89262804 0.87912685 0.87511775 0.90462706]\n",
      "\n",
      "\n",
      "Mean R^2 Score: 0.885112575047387\n",
      "\n",
      "\n",
      "MSE: [4.95968345e+08 5.90395231e+08 6.27111122e+08 5.64643702e+08\n",
      " 6.13015091e+08 1.00311534e+09 5.37796992e+08 7.39743384e+08\n",
      " 7.23972340e+08 7.11249273e+08]\n",
      "\n",
      "\n",
      "Mean MSE Value: 660701081.9418061\n"
     ]
    }
   ],
   "source": [
    "r2_lasso = cross_val_score(lassoReg, X, y, scoring='r2', cv=cv, n_jobs=-1)\n",
    "mse_lasso = cross_val_score(lassoReg, X, y, scoring='neg_mean_squared_error', cv=cv, n_jobs=-1)\n",
    "\n",
    "print(\"R^2 Score:\", r2_lasso)\n",
    "print(\"\\n\")\n",
    "print(\"Mean R^2 Score:\", mean(r2_lasso))\n",
    "print(\"\\n\")\n",
    "print(\"MSE:\", abs(mse_lasso))\n",
    "print(\"\\n\")\n",
    "print(\"Mean MSE Value:\", abs(mean(mse_lasso)))"
   ]
  },
  {
   "cell_type": "markdown",
   "metadata": {},
   "source": [
    "Testing with new training and testing sets after feature selection"
   ]
  },
  {
   "cell_type": "code",
   "execution_count": 43,
   "metadata": {},
   "outputs": [],
   "source": [
    "# lassoReg2 = Lasso(alpha = 0.5)\n",
    "# lassoReg2.fit(X_train2, y_train2)\n",
    "# print('Lasso')\n",
    "# print(lassoReg2.score(X_test2, y_test2))"
   ]
  },
  {
   "cell_type": "code",
   "execution_count": 44,
   "metadata": {},
   "outputs": [],
   "source": [
    "# r2_lasso2 = cross_val_score(lassoReg2, X2, y2, scoring='r2', cv=cv, n_jobs=-1)\n",
    "# mse_lasso2 = cross_val_score(lassoReg2, X2, y2, scoring='neg_mean_squared_error', cv=cv, n_jobs=-1)\n",
    "\n",
    "# print(\"R^2 Score:\", r2_lasso2)\n",
    "# print(\"\\n\")\n",
    "# print(\"Mean R^2 Score:\", mean(r2_lasso2))\n",
    "# print(\"\\n\")\n",
    "# print(\"MSE:\", abs(mse_lasso2))\n",
    "# print(\"\\n\")\n",
    "# print(\"Mean MSE Value:\", abs(mean(mse_lasso2)))"
   ]
  },
  {
   "cell_type": "markdown",
   "metadata": {},
   "source": [
    "## XGBoost"
   ]
  },
  {
   "cell_type": "markdown",
   "metadata": {},
   "source": [
    "Testing with original training and testing sets split from df"
   ]
  },
  {
   "cell_type": "code",
   "execution_count": 45,
   "metadata": {},
   "outputs": [
    {
     "name": "stdout",
     "output_type": "stream",
     "text": [
      "0.8985280782483196\n"
     ]
    }
   ],
   "source": [
    "# !pip install xgboost\n",
    "from xgboost import XGBRegressor\n",
    "\n",
    "# XGB = XGBRegressor(n_estimators=1000, learning_rate=0.05, n_jobs=4)\n",
    "XGB = XGBRegressor()\n",
    "XGB.fit(X_train, y_train)\n",
    "print(XGB.score(X_test, y_test))"
   ]
  },
  {
   "cell_type": "code",
   "execution_count": 47,
   "metadata": {},
   "outputs": [
    {
     "name": "stdout",
     "output_type": "stream",
     "text": [
      "R^2 Score: [0.88244606 0.87320095 0.85108567 0.87686199 0.8615024  0.90428937\n",
      " 0.8759493  0.84961334 0.89764429 0.86574054]\n",
      "\n",
      "\n",
      "Mean R^2 Score: 0.8738333896472396\n",
      "\n",
      "\n",
      "MSE: [7.46322161e+08 5.42828992e+08 9.65574794e+08 5.12390318e+08\n",
      " 8.56677133e+08 6.28217004e+08 6.21336281e+08 9.20365987e+08\n",
      " 5.93380571e+08 1.00124777e+09]\n",
      "\n",
      "\n",
      "Mean MSE Value: 738834101.5453306\n"
     ]
    }
   ],
   "source": [
    "r2_XGB = cross_val_score(XGB, X, y, scoring='r2', cv=cv, n_jobs=-1)\n",
    "mse_XGB = cross_val_score(XGB, X, y, scoring='neg_mean_squared_error', cv=cv, n_jobs=-1)\n",
    "\n",
    "print(\"R^2 Score:\", r2_XGB)\n",
    "print(\"\\n\")\n",
    "print(\"Mean R^2 Score:\", mean(r2_XGB))\n",
    "print(\"\\n\")\n",
    "print(\"MSE:\", abs(mse_XGB))\n",
    "print(\"\\n\")\n",
    "print(\"Mean MSE Value:\", abs(mean(mse_XGB)))"
   ]
  },
  {
   "cell_type": "markdown",
   "metadata": {},
   "source": [
    "Testing with new training and testing sets after feature selection"
   ]
  },
  {
   "cell_type": "code",
   "execution_count": 48,
   "metadata": {},
   "outputs": [],
   "source": [
    "# XGB2 = XGBRegressor()\n",
    "# XGB2.fit(X_train2, y_train2)\n",
    "# print(XGB2.score(X_test2, y_test2))"
   ]
  },
  {
   "cell_type": "code",
   "execution_count": 49,
   "metadata": {},
   "outputs": [],
   "source": [
    "# r2_XGB2 = cross_val_score(XGB2, X2, y2, scoring='r2', cv=cv, n_jobs=-1)\n",
    "# mse_XGB2 = cross_val_score(XGB2, X2, y2, scoring='neg_mean_squared_error', cv=cv, n_jobs=-1)\n",
    "\n",
    "# print(\"R^2 Score:\", r2_XGB2)\n",
    "# print(\"\\n\")\n",
    "# print(\"Mean R^2 Score:\", mean(r2_XGB2))\n",
    "# print(\"\\n\")\n",
    "# print(\"MSE:\", abs(mse_XGB2))\n",
    "# print(\"\\n\")\n",
    "# print(\"Mean MSE Value:\", abs(mean(mse_XGB2)))"
   ]
  },
  {
   "cell_type": "markdown",
   "metadata": {},
   "source": [
    "## KNN Regression"
   ]
  },
  {
   "cell_type": "markdown",
   "metadata": {},
   "source": [
    "Testing with original training and testing sets split from df"
   ]
  },
  {
   "cell_type": "code",
   "execution_count": 50,
   "metadata": {},
   "outputs": [
    {
     "name": "stdout",
     "output_type": "stream",
     "text": [
      "0.7378623498064758\n"
     ]
    }
   ],
   "source": [
    "from sklearn.neighbors import KNeighborsRegressor\n",
    "\n",
    "KNN = KNeighborsRegressor()\n",
    "KNN.fit(X_train,y_train)\n",
    "print(KNN.score(X_test, y_test))"
   ]
  },
  {
   "cell_type": "code",
   "execution_count": 51,
   "metadata": {},
   "outputs": [
    {
     "name": "stdout",
     "output_type": "stream",
     "text": [
      "R^2 Score: [0.75516376 0.71720315 0.78060768 0.72190718 0.71525981 0.81732457\n",
      " 0.82735886 0.67034498 0.79522505 0.81757501]\n",
      "\n",
      "\n",
      "Mean R^2 Score: 0.7617970055659906\n",
      "\n",
      "\n",
      "MSE: [1.55440733e+09 1.21065840e+09 1.42256082e+09 1.15717369e+09\n",
      " 1.76126089e+09 1.19902883e+09 8.64712567e+08 2.01748795e+09\n",
      " 1.18712946e+09 1.36044496e+09]\n",
      "\n",
      "\n",
      "Mean MSE Value: 1373486489.7087648\n"
     ]
    }
   ],
   "source": [
    "r2_KNN = cross_val_score(KNN, X, y, scoring='r2', cv=cv, n_jobs=-1)\n",
    "mse_KNN = cross_val_score(KNN, X, y, scoring='neg_mean_squared_error', cv=cv, n_jobs=-1)\n",
    "\n",
    "print(\"R^2 Score:\", r2_KNN)\n",
    "print(\"\\n\")\n",
    "print(\"Mean R^2 Score:\", mean(r2_KNN))\n",
    "print(\"\\n\")\n",
    "print(\"MSE:\", abs(mse_KNN))\n",
    "print(\"\\n\")\n",
    "print(\"Mean MSE Value:\", abs(mean(mse_KNN)))"
   ]
  },
  {
   "cell_type": "markdown",
   "metadata": {},
   "source": [
    "Testing with new training and testing sets after feature selection"
   ]
  },
  {
   "cell_type": "code",
   "execution_count": 52,
   "metadata": {},
   "outputs": [],
   "source": [
    "# KNN2 = KNeighborsRegressor()\n",
    "# KNN2.fit(X_train2, y_train2)\n",
    "# print(KNN2.score(X_test2, y_test2))"
   ]
  },
  {
   "cell_type": "code",
   "execution_count": 53,
   "metadata": {},
   "outputs": [],
   "source": [
    "# r2_KNN2 = cross_val_score(KNN2, X2, y2, scoring='r2', cv=cv, n_jobs=-1)\n",
    "# mse_KNN2 = cross_val_score(KNN2, X2, y2, scoring='neg_mean_squared_error', cv=cv, n_jobs=-1)\n",
    "\n",
    "# print(\"R^2 Score:\", r2_KNN2)\n",
    "# print(\"\\n\")\n",
    "# print(\"Mean R^2 Score:\", mean(r2_KNN2))\n",
    "# print(\"\\n\")\n",
    "# print(\"MSE:\", abs(mse_KNN2))\n",
    "# print(\"\\n\")\n",
    "# print(\"Mean MSE Value:\", abs(mean(mse_KNN2)))"
   ]
  },
  {
   "cell_type": "markdown",
   "metadata": {},
   "source": [
    "## Linear Regression"
   ]
  },
  {
   "cell_type": "markdown",
   "metadata": {},
   "source": [
    "Testing with original training and testing sets split from df"
   ]
  },
  {
   "cell_type": "code",
   "execution_count": 54,
   "metadata": {},
   "outputs": [
    {
     "data": {
      "text/plain": [
       "0.9571065892118549"
      ]
     },
     "execution_count": 54,
     "metadata": {},
     "output_type": "execute_result"
    }
   ],
   "source": [
    "from sklearn.linear_model import LinearRegression\n",
    "LR = LinearRegression()\n",
    "LR.fit(X_train, y_train)\n",
    "LR.score(X_train, y_train)"
   ]
  },
  {
   "cell_type": "code",
   "execution_count": 55,
   "metadata": {},
   "outputs": [
    {
     "name": "stdout",
     "output_type": "stream",
     "text": [
      "R^2 Score: [-2.38425217e+16 -1.21345502e+19 -1.02486878e+18 -5.93569014e+19\n",
      " -8.11021379e+19 -9.81480313e+17 -1.03641145e+20 -2.13134272e+17\n",
      " -3.49883899e+20 -8.00388556e+00]\n",
      "\n",
      "\n",
      "Mean R^2 Score: -6.083619593620631e+19\n",
      "\n",
      "\n",
      "MSE: [1.51370526e+26 5.19482271e+28 6.64534729e+27 2.46990361e+29\n",
      " 5.01657400e+29 6.44215372e+27 5.19110350e+29 1.30438123e+27\n",
      " 2.02836083e+30 6.71470008e+10]\n",
      "\n",
      "\n",
      "Mean MSE Value: 3.362610423020905e+29\n"
     ]
    }
   ],
   "source": [
    "r2_LR = cross_val_score(LR, X, y, scoring='r2', cv=cv, n_jobs=-1)\n",
    "mse_LR = cross_val_score(LR, X, y, scoring='neg_mean_squared_error', cv=cv, n_jobs=-1)\n",
    "\n",
    "print(\"R^2 Score:\", r2_LR)\n",
    "print(\"\\n\")\n",
    "print(\"Mean R^2 Score:\", mean(r2_LR))\n",
    "print(\"\\n\")\n",
    "print(\"MSE:\", abs(mse_LR))\n",
    "print(\"\\n\")\n",
    "print(\"Mean MSE Value:\", abs(mean(mse_LR)))"
   ]
  },
  {
   "cell_type": "markdown",
   "metadata": {},
   "source": [
    "Testing with new training and testing sets after feature selection"
   ]
  },
  {
   "cell_type": "code",
   "execution_count": 56,
   "metadata": {},
   "outputs": [],
   "source": [
    "# LR2 = LinearRegression()\n",
    "# LR2.fit(X_train2, y_train2)\n",
    "# LR2.score(X_train2, y_train2)"
   ]
  },
  {
   "cell_type": "code",
   "execution_count": 57,
   "metadata": {},
   "outputs": [],
   "source": [
    "# r2_LR2 = cross_val_score(LR2, X2, y2, scoring='r2', cv=cv, n_jobs=-1)\n",
    "# mse_LR2 = cross_val_score(LR2, X2, y2, scoring='neg_mean_squared_error', cv=cv, n_jobs=-1)\n",
    "\n",
    "# print(\"R^2 Score:\", r2_LR2)\n",
    "# print(\"\\n\")\n",
    "# print(\"Mean R^2 Score:\", mean(r2_LR2))\n",
    "# print(\"\\n\")\n",
    "# print(\"MSE:\", abs(mse_LR2))\n",
    "# print(\"\\n\")\n",
    "# print(\"Mean MSE Value:\", abs(mean(mse_LR2)))"
   ]
  },
  {
   "cell_type": "markdown",
   "metadata": {},
   "source": [
    "## Random Forest Regression"
   ]
  },
  {
   "cell_type": "markdown",
   "metadata": {},
   "source": [
    "Testing with original training and testing sets split from df"
   ]
  },
  {
   "cell_type": "code",
   "execution_count": 58,
   "metadata": {},
   "outputs": [
    {
     "name": "stdout",
     "output_type": "stream",
     "text": [
      "0.8978961230199591\n"
     ]
    }
   ],
   "source": [
    "from sklearn.ensemble import RandomForestRegressor\n",
    "rfr = RandomForestRegressor()\n",
    "rfr.fit(X_train, y_train)\n",
    "print(rfr.score(X_test, y_test))"
   ]
  },
  {
   "cell_type": "code",
   "execution_count": 59,
   "metadata": {},
   "outputs": [
    {
     "name": "stdout",
     "output_type": "stream",
     "text": [
      "R^2 Score: [0.89471143 0.89273817 0.87145347 0.88657108 0.85401285 0.91684292\n",
      " 0.88223587 0.86011082 0.89295811 0.87210906]\n",
      "\n",
      "\n",
      "Mean R^2 Score: 0.8823743788277837\n",
      "\n",
      "\n",
      "MSE: [6.25258407e+08 4.05714289e+08 8.48847053e+08 4.54253333e+08\n",
      " 9.49254781e+08 5.63344031e+08 5.44827725e+08 9.32213019e+08\n",
      " 6.23710484e+08 9.83664957e+08]\n",
      "\n",
      "\n",
      "Mean MSE Value: 693108807.8632405\n"
     ]
    }
   ],
   "source": [
    "r2_rfr = cross_val_score(rfr, X, y, scoring='r2', cv=cv, n_jobs=-1)\n",
    "mse_rfr = cross_val_score(rfr, X, y, scoring='neg_mean_squared_error', cv=cv, n_jobs=-1)\n",
    "\n",
    "print(\"R^2 Score:\", r2_rfr)\n",
    "print(\"\\n\")\n",
    "print(\"Mean R^2 Score:\", mean(r2_rfr))\n",
    "print(\"\\n\")\n",
    "print(\"MSE:\", abs(mse_rfr))\n",
    "print(\"\\n\")\n",
    "print(\"Mean MSE Value:\", abs(mean(mse_rfr)))"
   ]
  },
  {
   "cell_type": "markdown",
   "metadata": {},
   "source": [
    "Testing with new training and testing sets after feature selection"
   ]
  },
  {
   "cell_type": "code",
   "execution_count": 60,
   "metadata": {},
   "outputs": [],
   "source": [
    "# rfr2 = RandomForestRegressor()\n",
    "# rfr2.fit(X_train2, y_train2)\n",
    "# print(rfr2.score(X_test2, y_test2))"
   ]
  },
  {
   "cell_type": "code",
   "execution_count": 61,
   "metadata": {},
   "outputs": [],
   "source": [
    "# r2_rfr2 = cross_val_score(rfr2, X2, y2, scoring='r2', cv=cv, n_jobs=-1)\n",
    "# mse_rfr2 = cross_val_score(rfr2, X2, y2, scoring='neg_mean_squared_error', cv=cv, n_jobs=-1)\n",
    "\n",
    "# print(\"R^2 Score:\", r2_rfr2)\n",
    "# print(\"\\n\")\n",
    "# print(\"Mean R^2 Score:\", mean(r2_rfr2))\n",
    "# print(\"\\n\")\n",
    "# print(\"MSE:\", abs(mse_rfr2))\n",
    "# print(\"\\n\")\n",
    "# print(\"Mean MSE Value:\", abs(mean(mse_rfr2)))"
   ]
  },
  {
   "cell_type": "markdown",
   "metadata": {},
   "source": [
    "## SVR"
   ]
  },
  {
   "cell_type": "markdown",
   "metadata": {},
   "source": [
    "Testing with original training and testing sets split from df"
   ]
  },
  {
   "cell_type": "code",
   "execution_count": 62,
   "metadata": {},
   "outputs": [
    {
     "data": {
      "text/plain": [
       "-0.01908866057047809"
      ]
     },
     "execution_count": 62,
     "metadata": {},
     "output_type": "execute_result"
    }
   ],
   "source": [
    "from sklearn.svm import SVR\n",
    "from sklearn.metrics import r2_score\n",
    "\n",
    "svr = SVR(kernel='linear')\n",
    "svr.fit(X_train, np.asarray(y_train))\n",
    "y_pred_svr = svr.predict(X_test)\n",
    "r2_score(y_test, y_pred_svr)"
   ]
  },
  {
   "cell_type": "code",
   "execution_count": 63,
   "metadata": {},
   "outputs": [
    {
     "name": "stdout",
     "output_type": "stream",
     "text": [
      "R^2 Score: [-0.02637214 -0.00707388 -0.00765367  0.0027514  -0.00154652  0.01044408\n",
      "  0.01850272 -0.07456941 -0.00735306 -0.03524247]\n",
      "\n",
      "\n",
      "Mean R^2 Score: -0.012811294587724198\n",
      "\n",
      "\n",
      "MSE: [6.51619371e+09 4.31130133e+09 6.53372288e+09 4.14965715e+09\n",
      " 6.19506757e+09 6.49515968e+09 4.91605337e+09 6.57636216e+09\n",
      " 5.83986717e+09 7.72038099e+09]\n",
      "\n",
      "\n",
      "Mean MSE Value: 5925376602.109986\n"
     ]
    }
   ],
   "source": [
    "r2_svr = cross_val_score(svr, X, y, scoring='r2', cv=cv, n_jobs=-1)\n",
    "mse_svr = cross_val_score(svr, X, y, scoring='neg_mean_squared_error', cv=cv, n_jobs=-1)\n",
    "\n",
    "print(\"R^2 Score:\", r2_svr)\n",
    "print(\"\\n\")\n",
    "print(\"Mean R^2 Score:\", mean(r2_svr))\n",
    "print(\"\\n\")\n",
    "print(\"MSE:\", abs(mse_svr))\n",
    "print(\"\\n\")\n",
    "print(\"Mean MSE Value:\", abs(mean(mse_svr)))"
   ]
  },
  {
   "cell_type": "markdown",
   "metadata": {},
   "source": [
    "Testing with new training and testing sets after feature selection"
   ]
  },
  {
   "cell_type": "code",
   "execution_count": 64,
   "metadata": {},
   "outputs": [],
   "source": [
    "# svr2 = SVR(kernel='linear')\n",
    "# svr2.fit(X_train2, np.asarray(y_train2))\n",
    "# y_pred_svr2 = svr2.predict(X_test2)\n",
    "# r2_score(y_test2, y_pred_svr2)"
   ]
  },
  {
   "cell_type": "code",
   "execution_count": 65,
   "metadata": {},
   "outputs": [],
   "source": [
    "# r2_svr2 = cross_val_score(svr2, X2, y2, scoring='r2', cv=cv, n_jobs=-1)\n",
    "# mse_svr2 = cross_val_score(svr2, X2, y2, scoring='neg_mean_squared_error', cv=cv, n_jobs=-1)\n",
    "\n",
    "# print(\"R^2 Score:\", r2_svr2)\n",
    "# print(\"\\n\")\n",
    "# print(\"Mean R^2 Score:\", mean(r2_svr2))\n",
    "# print(\"\\n\")\n",
    "# print(\"MSE:\", abs(mse_svr2))\n",
    "# print(\"\\n\")\n",
    "# print(\"Mean MSE Value:\", abs(mean(mse_svr2)))"
   ]
  },
  {
   "cell_type": "markdown",
   "metadata": {},
   "source": [
    "## Notes for ML Algorithms\n",
    "- So far, cannot find an effective feature selection method (reasons are under \"feature selection\")\n",
    "- The MSE values are insanely high; I suspect it's due to underfitting because there are too many features (455)\n",
    "- For linear regression and SVR, the R^2 values are negative which is technically not possible - eliminate them as methods"
   ]
  },
  {
   "cell_type": "markdown",
   "metadata": {},
   "source": [
    "## Finding Optimal Hyperparameters"
   ]
  },
  {
   "cell_type": "markdown",
   "metadata": {},
   "source": [
    "- Using GridSearch to populate optimal hyperparameters for each regression method\n",
    "- In progress..."
   ]
  },
  {
   "cell_type": "code",
   "execution_count": null,
   "metadata": {},
   "outputs": [],
   "source": []
  },
  {
   "cell_type": "markdown",
   "metadata": {},
   "source": [
    "# Notes\n",
    "- Use \"df\" for the cleaned data \n",
    "- Some features, like 'PoolArea', seem to mostly have all the same values. Perhaps worth dropping these as well if too many features for the model?\n",
    "- Correlation matrix will help with linear regression models"
   ]
  },
  {
   "cell_type": "code",
   "execution_count": 66,
   "metadata": {},
   "outputs": [
    {
     "data": {
      "text/plain": [
       "0.000000    1439\n",
       "0.780488       1\n",
       "0.693767       1\n",
       "0.703252       1\n",
       "0.878049       1\n",
       "1.000000       1\n",
       "Name: PoolArea, dtype: int64"
      ]
     },
     "execution_count": 66,
     "metadata": {},
     "output_type": "execute_result"
    }
   ],
   "source": [
    "df[\"PoolArea\"].value_counts()"
   ]
  },
  {
   "cell_type": "code",
   "execution_count": null,
   "metadata": {},
   "outputs": [],
   "source": []
  }
 ],
 "metadata": {
  "kernelspec": {
   "display_name": "Python 3",
   "language": "python",
   "name": "python3"
  },
  "language_info": {
   "codemirror_mode": {
    "name": "ipython",
    "version": 3
   },
   "file_extension": ".py",
   "mimetype": "text/x-python",
   "name": "python",
   "nbconvert_exporter": "python",
   "pygments_lexer": "ipython3",
   "version": "3.8.6"
  }
 },
 "nbformat": 4,
 "nbformat_minor": 2
}
