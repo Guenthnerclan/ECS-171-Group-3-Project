{
 "cells": [
  {
   "cell_type": "code",
   "execution_count": 1,
   "metadata": {},
   "outputs": [],
   "source": [
    "import numpy as np\n",
    "import pandas as pd\n",
    "from sklearn.preprocessing import OneHotEncoder\n",
    "from sklearn.preprocessing import MinMaxScaler\n",
    "\n",
    "from matplotlib import pyplot as plt\n",
    "%matplotlib inline\n",
    "import seaborn as sns\n",
    "\n",
    "df = pd.read_csv(\"train.csv\")\n",
    "\n",
    "categ_df = df.select_dtypes(include=['object'])\n",
    "numer_df =df.select_dtypes(exclude=['object'])"
   ]
  },
  {
   "cell_type": "code",
   "execution_count": 2,
   "metadata": {},
   "outputs": [],
   "source": [
    "#Show features with at least some NaN values\n",
    "null_counts = df.isnull().sum()\n",
    "null_cols = []\n",
    "##print(\"Percentage of null values in each column:\\n\")\n",
    "for i in range(len(null_counts)):\n",
    "    if null_counts[i] != 0:\n",
    "        #print(null_counts.index[i], null_counts[i]/len(df))\n",
    "        null_cols.append(null_counts.index[i])"
   ]
  },
  {
   "cell_type": "code",
   "execution_count": 3,
   "metadata": {},
   "outputs": [],
   "source": [
    "#Features with too many NaN values, dropping them\n",
    "#Also Id which has no correlation to houses, just a sample marker\n",
    "df = df.drop([\"Id\",\"Alley\",\"PoolQC\",\"Fence\",\"MiscFeature\"],axis=1)"
   ]
  },
  {
   "cell_type": "code",
   "execution_count": 4,
   "metadata": {},
   "outputs": [],
   "source": [
    "##df.info()"
   ]
  },
  {
   "cell_type": "code",
   "execution_count": 5,
   "metadata": {},
   "outputs": [],
   "source": [
    "#Show features with at least some NaN values\n",
    "null_counts = df.isnull().sum()\n",
    "null_cols = []\n",
    "#print(\"Number of null values in each column:\\n\")\n",
    "for i in range(len(null_counts)):\n",
    "    if null_counts[i] != 0:\n",
    "        ##print(null_counts.index[i], null_counts[i])\n",
    "        null_cols.append(null_counts.index[i])"
   ]
  },
  {
   "cell_type": "code",
   "execution_count": 6,
   "metadata": {},
   "outputs": [],
   "source": [
    "#Columns that have the data description with an explanation for NaN values\n",
    "##Basically indicates a lack of the feature is specified\n",
    "valid_none_cols = ['BsmtQual','BsmtCond','BsmtExposure','BsmtFinType1','BsmtFinType2','GarageType',\n",
    "                'GarageFinish','GarageQual','FireplaceQu','GarageCond']\n",
    "\n",
    "##Filling in with value 'None' to indicate for machine learning later\n",
    "df[valid_none_cols]= df[valid_none_cols].fillna('None')"
   ]
  },
  {
   "cell_type": "code",
   "execution_count": 7,
   "metadata": {},
   "outputs": [],
   "source": [
    "#Organizing the other features with NaN values into numerical and categorical features\n",
    "#\"Invalid\" simply means the data description didn't specify NaN values\n",
    "\n",
    "invalid_none_cols = np.array(null_cols)\n",
    "#Fill with feature names in null_cols that only are NOT already in valid_none_cols\n",
    "invalid_none_cols = invalid_none_cols[[i not in valid_none_cols for i in invalid_none_cols]]\n",
    "\n",
    "#Splitting\n",
    "invalid_none_categ = invalid_none_cols[[i in categ_df for i in invalid_none_cols]]\n",
    "invalid_none_numer = invalid_none_cols[[i in numer_df for i in invalid_none_cols]]\n",
    "\n",
    "#print(invalid_none_categ)\n",
    "##print(invalid_none_numer)\n",
    "#fill missing values for each column (using its own most frequent value)\n",
    "#object_columns_df[columns_with_lowNA] = object_columns_df[columns_with_lowNA].fillna(object_columns_df.mode().iloc[0])"
   ]
  },
  {
   "cell_type": "markdown",
   "metadata": {},
   "source": [
    "### Dropping rows in MasVnrType and Electrical with NaN values"
   ]
  },
  {
   "cell_type": "code",
   "execution_count": 8,
   "metadata": {},
   "outputs": [],
   "source": [
    "# According to data description file, the most columns uses 'NA' as 'No fireplace', 'No basement' and etc.\n",
    "# However, MasVnrType/Electrical column contains 'NA' without any designation. Then it should be missing value.\n",
    "\n",
    "bad_categ  = pd.concat([df['MasVnrType'],df['Electrical']],axis=1)\n",
    "#Getting the particular rows in the df with NaN values\n",
    "bad_rows = bad_categ[bad_categ.isna().any(axis=1)]\n",
    "#Deleting these rows from the total df\n",
    "df = df.drop(bad_rows.index)\n",
    "#Categories without NaN descriptions should no longer have NaN values"
   ]
  },
  {
   "cell_type": "code",
   "execution_count": 9,
   "metadata": {},
   "outputs": [],
   "source": [
    "##ADJUSTING NUMERICAL FEATURES\n",
    "#For the most part these values can be assumed to indicate 0 when not filled with a number\n",
    "##LotFrontage has many missing values, so all 0 wouldn't be great\n",
    "#GarageYrBlt makes no sense with a value of 0. We'll change these two individually\n",
    "\n",
    "#Adjusting LotFrontage by assuming the fill takes on the median value\n",
    "#Perhaps this can be improved with comparisons to the LotArea feature?\n",
    "df['LotFrontage'] = df['LotFrontage'].fillna(df['LotFrontage'].median())\n",
    "\n",
    "#Adjusting GarageYrBlt based on the year the house was built\n",
    "\n",
    "#plt.plot(df[\"GarageYrBlt\"],df[\"YearBuilt\"],\"b.\")\n",
    "#plt.xticks(np.arange(min(df[\"GarageYrBlt\"]),max(df[\"GarageYrBlt\"]),20.0))\n",
    "#plt.xlabel(\"Year Garage Built\")\n",
    "#plt.ylabel(\"Year Built\")\n",
    "\n",
    "#seems like the garage is built around the same year as the house or a bit later\n",
    "#Again use the median value to fill in\n",
    "df[\"GarageYrBlt\"] = df[\"GarageYrBlt\"].fillna(df['YearBuilt']-(df['GarageYrBlt']-df['YearBuilt']).median())\n",
    "\n",
    "#Fill the rest of the null values to 0\n",
    "for i in invalid_none_numer:\n",
    "    df[i] = df[i].fillna(0)"
   ]
  },
  {
   "cell_type": "markdown",
   "metadata": {},
   "source": [
    "## Removing Outliers based on plots"
   ]
  },
  {
   "cell_type": "code",
   "execution_count": 10,
   "metadata": {},
   "outputs": [],
   "source": [
    "# GrLivArea and GarageArea columns have relatively large correlation with the SalePrice.\n",
    "# Use scatterplots to detect the outliers.\n",
    "def visualDetectionOutlier(train_df):\n",
    "    sp = train_df['SalePrice']\n",
    "    fig, axes = plt.subplots(nrows=2,ncols=1,figsize=(7,12))\n",
    "    axes[0].scatter(x=train_df['GrLivArea'],y=sp, alpha=0.5)\n",
    "    axes[0].set_title(\"GrLivArea vs SalePrice\")\n",
    "    axes[0].set_xlabel(\"sqft\")\n",
    "    axes[0].set_ylabel(\"Price\")\n",
    "    axes[1].scatter(x=train_df['GarageArea'],y=sp, alpha=0.5)\n",
    "    axes[1].set_title(\"GarageArea vs SalePrice\")\n",
    "    axes[1].set_xlabel(\"sqft\")\n",
    "    axes[1].set_ylabel(\"Price\")\n",
    "    fig.tight_layout()\n",
    "    plt.show()"
   ]
  },
  {
   "cell_type": "code",
   "execution_count": 11,
   "metadata": {},
   "outputs": [],
   "source": [
    "# Before removing outliers.\n",
    "##visualDetectionOutlier(df)"
   ]
  },
  {
   "cell_type": "code",
   "execution_count": 12,
   "metadata": {},
   "outputs": [],
   "source": [
    "# [Plot 1: GrLivArea vs SalePrice] Bottom right two points look like outliers.\n",
    "ol_plot1_bottomright = df.loc[(df['GrLivArea'] > 4000) & (df['SalePrice'] < 300000)]\n",
    "# [Plot 2: GarageArea vs SalePrice] Bottom right four points look like outliers.\n",
    "ol_plot2_bottomright = df.loc[((df['GarageArea'] > 1200) & (df['SalePrice'] < 300000))]\n",
    "# [Plot 2: GarageArea vs SalePrice] Top middle two points look like outliers.\n",
    "ol_plot2_topmiddle = df.loc[((df['GarageArea'] > 800) & (df['GarageArea'] < 1000)) &\n",
    "                                  (df['SalePrice'] > 700000)]\n",
    "# Remove the outliers.\n",
    "df = df.drop(ol_plot1_bottomright.index.append(ol_plot2_bottomright.index).\n",
    "                         append(ol_plot2_topmiddle.index))"
   ]
  },
  {
   "cell_type": "code",
   "execution_count": 13,
   "metadata": {},
   "outputs": [],
   "source": [
    "# Check out the linearity again.\n",
    "#visualDetectionOutlier(df)"
   ]
  },
  {
   "cell_type": "markdown",
   "metadata": {},
   "source": [
    "# One Hot Encoding Categorical Data, Min-Max Scaling, Correlation Matrix"
   ]
  },
  {
   "cell_type": "code",
   "execution_count": 14,
   "metadata": {},
   "outputs": [],
   "source": [
    "# According to the data description, these numeric columns are actually categorical columns.\n",
    "num_to_cat_list = ['MSSubClass','OverallQual','OverallCond','YearBuilt', \n",
    "                             'YearBuilt','YearRemodAdd','MoSold','YrSold']\n",
    "# Transform numeric data types into string data type.\n",
    "df[num_to_cat_list] = df[num_to_cat_list].astype(str)"
   ]
  },
  {
   "cell_type": "code",
   "execution_count": 15,
   "metadata": {},
   "outputs": [],
   "source": [
    "# The data type should be floating point because it indicates sqft.\n",
    "df['MasVnrArea'] = df['MasVnrArea'].astype(np.float)"
   ]
  },
  {
   "cell_type": "code",
   "execution_count": 16,
   "metadata": {},
   "outputs": [],
   "source": [
    "# Transform numerical features by scaling each feature to a given range.\n",
    "categ_df = df.select_dtypes(include=['object'])\n",
    "numer_df =df.select_dtypes(exclude=['object'])\n",
    "#MIN MAX SCALER\n",
    "scaler = MinMaxScaler()\n",
    "df[numer_df.columns] = scaler.fit_transform(df[numer_df.columns])"
   ]
  },
  {
   "cell_type": "code",
   "execution_count": 17,
   "metadata": {},
   "outputs": [
    {
     "data": {
      "image/png": "[encoded data removed]",
      "text/plain": [
       "<Figure size 864x648 with 2 Axes>"
      ]
     },
     "metadata": {
      "needs_background": "light"
     },
     "output_type": "display_data"
    }
   ],
   "source": [
    "##This gets royally fucked by one hot encoding\n",
    "corrmat = df.corr()\n",
    "f, ax = plt.subplots(figsize=(12, 9))\n",
    "sns.heatmap(corrmat, vmax=.8, square=True);"
   ]
  },
  {
   "cell_type": "code",
   "execution_count": 18,
   "metadata": {},
   "outputs": [
    {
     "name": "stdout",
     "output_type": "stream",
     "text": [
      "List of parameters that have a good linear model fit to Sale Price\n",
      "TotalBsmtSF 0.6466812085464384\n",
      "1stFlrSF 0.6268726701318776\n",
      "GrLivArea 0.7216771976009548\n",
      "FullBath 0.5606284641370041\n",
      "TotRmsAbvGrd 0.5401086509685614\n",
      "GarageYrBlt 0.5215241554070829\n",
      "GarageCars 0.6532628671017016\n",
      "GarageArea 0.6487457042566279\n"
     ]
    }
   ],
   "source": [
    "#Find out which parameters appear to have an appreciable linear relationship with SalePrice\n",
    "#Arbitrary 0.5 correlation cutoff\n",
    "print(\"List of parameters that have a good linear model fit to Sale Price\")\n",
    "# Correlation between SalePrice and other variables.\n",
    "sorted_corrs = corrmat.loc['SalePrice'].abs().sort_values()[:-1]\n",
    "for i in range(len(corrmat[\"SalePrice\"])-1):\n",
    "    #Likely to be a linear relationship\n",
    "    if((corrmat[\"SalePrice\"][i] > 0.5 or corrmat[\"SalePrice\"][i] < -0.5)):\n",
    "        print(corrmat.columns[i], corrmat[\"SalePrice\"][i])"
   ]
  },
  {
   "cell_type": "code",
   "execution_count": 19,
   "metadata": {},
   "outputs": [],
   "source": [
    "#Pandas One Hot Encoding\n",
    "df = pd.get_dummies(df, columns=categ_df.columns, prefix=categ_df.columns, drop_first=True)"
   ]
  },
  {
   "cell_type": "markdown",
   "metadata": {},
   "source": [
    "# Notes\n",
    "- Use \"df\" for the cleaned data \n",
    "- Some features, like 'PoolArea', seem to mostly have all the same values. Perhaps worth dropping these as well if too many features for the model?\n",
    "- Correlation matrix will help with linear regression models"
   ]
  },
  {
   "cell_type": "code",
   "execution_count": 20,
   "metadata": {},
   "outputs": [
    {
     "data": {
      "text/plain": [
       "0.000000    1439\n",
       "0.703252       1\n",
       "0.780488       1\n",
       "0.693767       1\n",
       "0.878049       1\n",
       "1.000000       1\n",
       "Name: PoolArea, dtype: int64"
      ]
     },
     "execution_count": 20,
     "metadata": {},
     "output_type": "execute_result"
    }
   ],
   "source": [
    "df[\"PoolArea\"].value_counts()"
   ]
  }
 ],
 "metadata": {
  "kernelspec": {
   "display_name": "Python 3",
   "language": "python",
   "name": "python3"
  },
  "language_info": {
   "codemirror_mode": {
    "name": "ipython",
    "version": 3
   },
   "file_extension": ".py",
   "mimetype": "text/x-python",
   "name": "python",
   "nbconvert_exporter": "python",
   "pygments_lexer": "ipython3",
   "version": "3.7.3"
  }
 },
 "nbformat": 4,
 "nbformat_minor": 2
}
