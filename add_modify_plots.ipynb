{
 "cells": [
  {
   "cell_type": "code",
   "execution_count": 212,
   "metadata": {},
   "outputs": [],
   "source": [
    "import numpy as np\n",
    "import pandas as pd\n",
    "\n",
    "from sklearn.preprocessing import MinMaxScaler\n",
    "\n",
    "import seaborn as sns\n",
    "import matplotlib.pyplot as plt\n",
    "\n",
    "%matplotlib inline"
   ]
  },
  {
   "cell_type": "markdown",
   "metadata": {},
   "source": [
    "# 1. Data Management\n",
    "\n",
    "### 1-1. Read the data set"
   ]
  },
  {
   "cell_type": "code",
   "execution_count": 213,
   "metadata": {},
   "outputs": [
    {
     "data": {
      "text/html": [
       "<div>\n",
       "<style scoped>\n",
       "    .dataframe tbody tr th:only-of-type {\n",
       "        vertical-align: middle;\n",
       "    }\n",
       "\n",
       "    .dataframe tbody tr th {\n",
       "        vertical-align: top;\n",
       "    }\n",
       "\n",
       "    .dataframe thead th {\n",
       "        text-align: right;\n",
       "    }\n",
       "</style>\n",
       "<table border=\"1\" class=\"dataframe\">\n",
       "  <thead>\n",
       "    <tr style=\"text-align: right;\">\n",
       "      <th></th>\n",
       "      <th>Id</th>\n",
       "      <th>MSSubClass</th>\n",
       "      <th>MSZoning</th>\n",
       "      <th>LotFrontage</th>\n",
       "      <th>LotArea</th>\n",
       "      <th>Street</th>\n",
       "      <th>Alley</th>\n",
       "      <th>LotShape</th>\n",
       "      <th>LandContour</th>\n",
       "      <th>Utilities</th>\n",
       "      <th>...</th>\n",
       "      <th>PoolArea</th>\n",
       "      <th>PoolQC</th>\n",
       "      <th>Fence</th>\n",
       "      <th>MiscFeature</th>\n",
       "      <th>MiscVal</th>\n",
       "      <th>MoSold</th>\n",
       "      <th>YrSold</th>\n",
       "      <th>SaleType</th>\n",
       "      <th>SaleCondition</th>\n",
       "      <th>SalePrice</th>\n",
       "    </tr>\n",
       "  </thead>\n",
       "  <tbody>\n",
       "    <tr>\n",
       "      <th>0</th>\n",
       "      <td>1</td>\n",
       "      <td>60</td>\n",
       "      <td>RL</td>\n",
       "      <td>65.0</td>\n",
       "      <td>8450</td>\n",
       "      <td>Pave</td>\n",
       "      <td>NaN</td>\n",
       "      <td>Reg</td>\n",
       "      <td>Lvl</td>\n",
       "      <td>AllPub</td>\n",
       "      <td>...</td>\n",
       "      <td>0</td>\n",
       "      <td>NaN</td>\n",
       "      <td>NaN</td>\n",
       "      <td>NaN</td>\n",
       "      <td>0</td>\n",
       "      <td>2</td>\n",
       "      <td>2008</td>\n",
       "      <td>WD</td>\n",
       "      <td>Normal</td>\n",
       "      <td>208500</td>\n",
       "    </tr>\n",
       "    <tr>\n",
       "      <th>1</th>\n",
       "      <td>2</td>\n",
       "      <td>20</td>\n",
       "      <td>RL</td>\n",
       "      <td>80.0</td>\n",
       "      <td>9600</td>\n",
       "      <td>Pave</td>\n",
       "      <td>NaN</td>\n",
       "      <td>Reg</td>\n",
       "      <td>Lvl</td>\n",
       "      <td>AllPub</td>\n",
       "      <td>...</td>\n",
       "      <td>0</td>\n",
       "      <td>NaN</td>\n",
       "      <td>NaN</td>\n",
       "      <td>NaN</td>\n",
       "      <td>0</td>\n",
       "      <td>5</td>\n",
       "      <td>2007</td>\n",
       "      <td>WD</td>\n",
       "      <td>Normal</td>\n",
       "      <td>181500</td>\n",
       "    </tr>\n",
       "    <tr>\n",
       "      <th>2</th>\n",
       "      <td>3</td>\n",
       "      <td>60</td>\n",
       "      <td>RL</td>\n",
       "      <td>68.0</td>\n",
       "      <td>11250</td>\n",
       "      <td>Pave</td>\n",
       "      <td>NaN</td>\n",
       "      <td>IR1</td>\n",
       "      <td>Lvl</td>\n",
       "      <td>AllPub</td>\n",
       "      <td>...</td>\n",
       "      <td>0</td>\n",
       "      <td>NaN</td>\n",
       "      <td>NaN</td>\n",
       "      <td>NaN</td>\n",
       "      <td>0</td>\n",
       "      <td>9</td>\n",
       "      <td>2008</td>\n",
       "      <td>WD</td>\n",
       "      <td>Normal</td>\n",
       "      <td>223500</td>\n",
       "    </tr>\n",
       "    <tr>\n",
       "      <th>3</th>\n",
       "      <td>4</td>\n",
       "      <td>70</td>\n",
       "      <td>RL</td>\n",
       "      <td>60.0</td>\n",
       "      <td>9550</td>\n",
       "      <td>Pave</td>\n",
       "      <td>NaN</td>\n",
       "      <td>IR1</td>\n",
       "      <td>Lvl</td>\n",
       "      <td>AllPub</td>\n",
       "      <td>...</td>\n",
       "      <td>0</td>\n",
       "      <td>NaN</td>\n",
       "      <td>NaN</td>\n",
       "      <td>NaN</td>\n",
       "      <td>0</td>\n",
       "      <td>2</td>\n",
       "      <td>2006</td>\n",
       "      <td>WD</td>\n",
       "      <td>Abnorml</td>\n",
       "      <td>140000</td>\n",
       "    </tr>\n",
       "    <tr>\n",
       "      <th>4</th>\n",
       "      <td>5</td>\n",
       "      <td>60</td>\n",
       "      <td>RL</td>\n",
       "      <td>84.0</td>\n",
       "      <td>14260</td>\n",
       "      <td>Pave</td>\n",
       "      <td>NaN</td>\n",
       "      <td>IR1</td>\n",
       "      <td>Lvl</td>\n",
       "      <td>AllPub</td>\n",
       "      <td>...</td>\n",
       "      <td>0</td>\n",
       "      <td>NaN</td>\n",
       "      <td>NaN</td>\n",
       "      <td>NaN</td>\n",
       "      <td>0</td>\n",
       "      <td>12</td>\n",
       "      <td>2008</td>\n",
       "      <td>WD</td>\n",
       "      <td>Normal</td>\n",
       "      <td>250000</td>\n",
       "    </tr>\n",
       "  </tbody>\n",
       "</table>\n",
       "<p>5 rows × 81 columns</p>\n",
       "</div>"
      ],
      "text/plain": [
       "   Id  MSSubClass MSZoning  LotFrontage  LotArea Street Alley LotShape  \\\n",
       "0   1          60       RL         65.0     8450   Pave   NaN      Reg   \n",
       "1   2          20       RL         80.0     9600   Pave   NaN      Reg   \n",
       "2   3          60       RL         68.0    11250   Pave   NaN      IR1   \n",
       "3   4          70       RL         60.0     9550   Pave   NaN      IR1   \n",
       "4   5          60       RL         84.0    14260   Pave   NaN      IR1   \n",
       "\n",
       "  LandContour Utilities  ... PoolArea PoolQC Fence MiscFeature MiscVal MoSold  \\\n",
       "0         Lvl    AllPub  ...        0    NaN   NaN         NaN       0      2   \n",
       "1         Lvl    AllPub  ...        0    NaN   NaN         NaN       0      5   \n",
       "2         Lvl    AllPub  ...        0    NaN   NaN         NaN       0      9   \n",
       "3         Lvl    AllPub  ...        0    NaN   NaN         NaN       0      2   \n",
       "4         Lvl    AllPub  ...        0    NaN   NaN         NaN       0     12   \n",
       "\n",
       "  YrSold  SaleType  SaleCondition  SalePrice  \n",
       "0   2008        WD         Normal     208500  \n",
       "1   2007        WD         Normal     181500  \n",
       "2   2008        WD         Normal     223500  \n",
       "3   2006        WD        Abnorml     140000  \n",
       "4   2008        WD         Normal     250000  \n",
       "\n",
       "[5 rows x 81 columns]"
      ]
     },
     "execution_count": 213,
     "metadata": {},
     "output_type": "execute_result"
    }
   ],
   "source": [
    "# Read the train.csv data file.\n",
    "df = pd.read_csv('train.csv')\n",
    "df.head()"
   ]
  },
  {
   "cell_type": "code",
   "execution_count": 214,
   "metadata": {},
   "outputs": [
    {
     "name": "stdout",
     "output_type": "stream",
     "text": [
      "<class 'pandas.core.frame.DataFrame'>\n",
      "RangeIndex: 1460 entries, 0 to 1459\n",
      "Data columns (total 81 columns):\n",
      " #   Column         Non-Null Count  Dtype  \n",
      "---  ------         --------------  -----  \n",
      " 0   Id             1460 non-null   int64  \n",
      " 1   MSSubClass     1460 non-null   int64  \n",
      " 2   MSZoning       1460 non-null   object \n",
      " 3   LotFrontage    1201 non-null   float64\n",
      " 4   LotArea        1460 non-null   int64  \n",
      " 5   Street         1460 non-null   object \n",
      " 6   Alley          91 non-null     object \n",
      " 7   LotShape       1460 non-null   object \n",
      " 8   LandContour    1460 non-null   object \n",
      " 9   Utilities      1460 non-null   object \n",
      " 10  LotConfig      1460 non-null   object \n",
      " 11  LandSlope      1460 non-null   object \n",
      " 12  Neighborhood   1460 non-null   object \n",
      " 13  Condition1     1460 non-null   object \n",
      " 14  Condition2     1460 non-null   object \n",
      " 15  BldgType       1460 non-null   object \n",
      " 16  HouseStyle     1460 non-null   object \n",
      " 17  OverallQual    1460 non-null   int64  \n",
      " 18  OverallCond    1460 non-null   int64  \n",
      " 19  YearBuilt      1460 non-null   int64  \n",
      " 20  YearRemodAdd   1460 non-null   int64  \n",
      " 21  RoofStyle      1460 non-null   object \n",
      " 22  RoofMatl       1460 non-null   object \n",
      " 23  Exterior1st    1460 non-null   object \n",
      " 24  Exterior2nd    1460 non-null   object \n",
      " 25  MasVnrType     1452 non-null   object \n",
      " 26  MasVnrArea     1452 non-null   float64\n",
      " 27  ExterQual      1460 non-null   object \n",
      " 28  ExterCond      1460 non-null   object \n",
      " 29  Foundation     1460 non-null   object \n",
      " 30  BsmtQual       1423 non-null   object \n",
      " 31  BsmtCond       1423 non-null   object \n",
      " 32  BsmtExposure   1422 non-null   object \n",
      " 33  BsmtFinType1   1423 non-null   object \n",
      " 34  BsmtFinSF1     1460 non-null   int64  \n",
      " 35  BsmtFinType2   1422 non-null   object \n",
      " 36  BsmtFinSF2     1460 non-null   int64  \n",
      " 37  BsmtUnfSF      1460 non-null   int64  \n",
      " 38  TotalBsmtSF    1460 non-null   int64  \n",
      " 39  Heating        1460 non-null   object \n",
      " 40  HeatingQC      1460 non-null   object \n",
      " 41  CentralAir     1460 non-null   object \n",
      " 42  Electrical     1459 non-null   object \n",
      " 43  1stFlrSF       1460 non-null   int64  \n",
      " 44  2ndFlrSF       1460 non-null   int64  \n",
      " 45  LowQualFinSF   1460 non-null   int64  \n",
      " 46  GrLivArea      1460 non-null   int64  \n",
      " 47  BsmtFullBath   1460 non-null   int64  \n",
      " 48  BsmtHalfBath   1460 non-null   int64  \n",
      " 49  FullBath       1460 non-null   int64  \n",
      " 50  HalfBath       1460 non-null   int64  \n",
      " 51  BedroomAbvGr   1460 non-null   int64  \n",
      " 52  KitchenAbvGr   1460 non-null   int64  \n",
      " 53  KitchenQual    1460 non-null   object \n",
      " 54  TotRmsAbvGrd   1460 non-null   int64  \n",
      " 55  Functional     1460 non-null   object \n",
      " 56  Fireplaces     1460 non-null   int64  \n",
      " 57  FireplaceQu    770 non-null    object \n",
      " 58  GarageType     1379 non-null   object \n",
      " 59  GarageYrBlt    1379 non-null   float64\n",
      " 60  GarageFinish   1379 non-null   object \n",
      " 61  GarageCars     1460 non-null   int64  \n",
      " 62  GarageArea     1460 non-null   int64  \n",
      " 63  GarageQual     1379 non-null   object \n",
      " 64  GarageCond     1379 non-null   object \n",
      " 65  PavedDrive     1460 non-null   object \n",
      " 66  WoodDeckSF     1460 non-null   int64  \n",
      " 67  OpenPorchSF    1460 non-null   int64  \n",
      " 68  EnclosedPorch  1460 non-null   int64  \n",
      " 69  3SsnPorch      1460 non-null   int64  \n",
      " 70  ScreenPorch    1460 non-null   int64  \n",
      " 71  PoolArea       1460 non-null   int64  \n",
      " 72  PoolQC         7 non-null      object \n",
      " 73  Fence          281 non-null    object \n",
      " 74  MiscFeature    54 non-null     object \n",
      " 75  MiscVal        1460 non-null   int64  \n",
      " 76  MoSold         1460 non-null   int64  \n",
      " 77  YrSold         1460 non-null   int64  \n",
      " 78  SaleType       1460 non-null   object \n",
      " 79  SaleCondition  1460 non-null   object \n",
      " 80  SalePrice      1460 non-null   int64  \n",
      "dtypes: float64(3), int64(35), object(43)\n",
      "memory usage: 924.0+ KB\n"
     ]
    }
   ],
   "source": [
    "df.info()"
   ]
  },
  {
   "cell_type": "code",
   "execution_count": 215,
   "metadata": {},
   "outputs": [],
   "source": [
    "# According to the data description, these are ordinal or categorical column.\n",
    "num_to_cat_list = ['MSSubClass','OverallQual','OverallCond','MoSold']\n",
    "# Transform numeric data types into string data type.\n",
    "df[num_to_cat_list] = df[num_to_cat_list].astype(str)"
   ]
  },
  {
   "cell_type": "code",
   "execution_count": 216,
   "metadata": {},
   "outputs": [],
   "source": [
    "# The data type should be floating point because it indicates sqft.\n",
    "df['MasVnrArea'] = df['MasVnrArea'].astype(np.float)"
   ]
  },
  {
   "cell_type": "code",
   "execution_count": 217,
   "metadata": {},
   "outputs": [
    {
     "data": {
      "text/plain": [
       "Index(['MSSubClass', 'MSZoning', 'Street', 'Alley', 'LotShape', 'LandContour',\n",
       "       'Utilities', 'LotConfig', 'LandSlope', 'Neighborhood', 'Condition1',\n",
       "       'Condition2', 'BldgType', 'HouseStyle', 'OverallQual', 'OverallCond',\n",
       "       'RoofStyle', 'RoofMatl', 'Exterior1st', 'Exterior2nd', 'MasVnrType',\n",
       "       'ExterQual', 'ExterCond', 'Foundation', 'BsmtQual', 'BsmtCond',\n",
       "       'BsmtExposure', 'BsmtFinType1', 'BsmtFinType2', 'Heating', 'HeatingQC',\n",
       "       'CentralAir', 'Electrical', 'KitchenQual', 'Functional', 'FireplaceQu',\n",
       "       'GarageType', 'GarageFinish', 'GarageQual', 'GarageCond', 'PavedDrive',\n",
       "       'PoolQC', 'Fence', 'MiscFeature', 'MoSold', 'SaleType',\n",
       "       'SaleCondition'],\n",
       "      dtype='object')"
      ]
     },
     "execution_count": 217,
     "metadata": {},
     "output_type": "execute_result"
    }
   ],
   "source": [
    "# Categorical columns.\n",
    "categ_df = df.select_dtypes(include=['object'])\n",
    "categ_df.columns"
   ]
  },
  {
   "cell_type": "code",
   "execution_count": 218,
   "metadata": {},
   "outputs": [
    {
     "data": {
      "text/plain": [
       "Index(['Id', 'LotFrontage', 'LotArea', 'YearBuilt', 'YearRemodAdd',\n",
       "       'MasVnrArea', 'BsmtFinSF1', 'BsmtFinSF2', 'BsmtUnfSF', 'TotalBsmtSF',\n",
       "       '1stFlrSF', '2ndFlrSF', 'LowQualFinSF', 'GrLivArea', 'BsmtFullBath',\n",
       "       'BsmtHalfBath', 'FullBath', 'HalfBath', 'BedroomAbvGr', 'KitchenAbvGr',\n",
       "       'TotRmsAbvGrd', 'Fireplaces', 'GarageYrBlt', 'GarageCars', 'GarageArea',\n",
       "       'WoodDeckSF', 'OpenPorchSF', 'EnclosedPorch', '3SsnPorch',\n",
       "       'ScreenPorch', 'PoolArea', 'MiscVal', 'YrSold'],\n",
       "      dtype='object')"
      ]
     },
     "execution_count": 218,
     "metadata": {},
     "output_type": "execute_result"
    }
   ],
   "source": [
    "# Numerical columns.\n",
    "numer_df = df.select_dtypes(exclude=['object']).drop(columns='SalePrice')\n",
    "numer_df.columns"
   ]
  },
  {
   "cell_type": "markdown",
   "metadata": {},
   "source": [
    "### 1-2. Missing Values"
   ]
  },
  {
   "cell_type": "code",
   "execution_count": 219,
   "metadata": {},
   "outputs": [
    {
     "data": {
      "text/plain": [
       "19"
      ]
     },
     "execution_count": 219,
     "metadata": {},
     "output_type": "execute_result"
    }
   ],
   "source": [
    "# There are missing values.\n",
    "df.isnull().any().sum()"
   ]
  },
  {
   "cell_type": "code",
   "execution_count": 220,
   "metadata": {},
   "outputs": [],
   "source": [
    "#Show features with at least some NaN values\n",
    "null_counts = df.isnull().sum()\n",
    "null_cols = []\n",
    "##print(\"Percentage of null values in each column:\\n\")\n",
    "for i in range(len(null_counts)):\n",
    "    if null_counts[i] != 0:\n",
    "        #print(null_counts.index[i], null_counts[i]/len(df))\n",
    "        null_cols.append(null_counts.index[i])"
   ]
  },
  {
   "cell_type": "code",
   "execution_count": 221,
   "metadata": {},
   "outputs": [
    {
     "data": {
      "text/plain": [
       "<AxesSubplot:title={'center':'Missing Value Counts Per Columns'}, ylabel='Frequency'>"
      ]
     },
     "execution_count": 221,
     "metadata": {},
     "output_type": "execute_result"
    },
    {
     "data": {
      "image/png": "[encoded data removed]",
      "text/plain": [
       "<Figure size 864x360 with 1 Axes>"
      ]
     },
     "metadata": {
      "needs_background": "light"
     },
     "output_type": "display_data"
    }
   ],
   "source": [
    "# Plot missing values.\n",
    "# Number of \"NA\" in each column.\n",
    "na_series = df.isnull().sum().sort_values()\n",
    "na_series[na_series.values >0].plot(kind='bar',figsize=(12,5), rot=60,ylabel = 'Frequency', \n",
    "               title = 'Missing Value Counts Per Columns', alpha=0.7)"
   ]
  },
  {
   "cell_type": "code",
   "execution_count": 222,
   "metadata": {},
   "outputs": [
    {
     "data": {
      "text/plain": [
       "0"
      ]
     },
     "execution_count": 222,
     "metadata": {},
     "output_type": "execute_result"
    }
   ],
   "source": [
    "#Columns that have the data description with an explanation for NaN values\n",
    "##Basically indicates a lack of the feature is specified\n",
    "valid_none_cols = ['BsmtQual','BsmtCond','BsmtExposure','BsmtFinType1','BsmtFinType2','GarageType',\n",
    "                'GarageFinish','GarageQual','FireplaceQu','GarageCond']\n",
    "\n",
    "##Filling in with value 'None' to indicate for machine learning later\n",
    "df[valid_none_cols]= df[valid_none_cols].fillna('None')\n",
    "df[valid_none_cols].isna().any().sum() # No more NAs."
   ]
  },
  {
   "cell_type": "code",
   "execution_count": 223,
   "metadata": {},
   "outputs": [
    {
     "name": "stdout",
     "output_type": "stream",
     "text": [
      "['Alley' 'MasVnrType' 'Electrical' 'PoolQC' 'Fence' 'MiscFeature']\n"
     ]
    }
   ],
   "source": [
    "#Organizing the other features with NaN values into numerical and categorical features\n",
    "#\"Invalid\" simply means the data description didn't specify NaN values\n",
    "\n",
    "invalid_none_cols = np.array(null_cols)\n",
    "#Fill with feature names in null_cols that only are NOT already in valid_none_cols\n",
    "invalid_none_cols = invalid_none_cols[[i not in valid_none_cols for i in invalid_none_cols]]\n",
    "\n",
    "#Splitting\n",
    "invalid_none_categ = invalid_none_cols[[i in categ_df for i in invalid_none_cols]]\n",
    "print(invalid_none_categ)"
   ]
  },
  {
   "cell_type": "code",
   "execution_count": 224,
   "metadata": {},
   "outputs": [
    {
     "name": "stdout",
     "output_type": "stream",
     "text": [
      "['LotFrontage' 'MasVnrArea' 'GarageYrBlt']\n"
     ]
    }
   ],
   "source": [
    "invalid_none_numer = invalid_none_cols[[i in numer_df for i in invalid_none_cols]]\n",
    "print(invalid_none_numer)"
   ]
  },
  {
   "cell_type": "markdown",
   "metadata": {},
   "source": [
    "#### Comment:\n",
    "- From data_description.txt file:\n",
    "\n",
    "    PoolQC: Pool quality\n",
    "\n",
    "           Ex\tExcellent\n",
    "           Gd\tGood\n",
    "           TA\tAverage/Typical\n",
    "           Fa\tFair\n",
    "           NA\tNo Pool\n",
    "\n",
    "    Fence: Fence quality\n",
    "\n",
    "           GdPrv\tGood Privacy\n",
    "           MnPrv\tMinimum Privacy\n",
    "           GdWo\tGood Wood\n",
    "           MnWw\tMinimum Wood/Wire\n",
    "           NA\tNo Fence\n",
    "\n",
    "    MiscFeature: Miscellaneous feature not covered in other categories\n",
    "\n",
    "           Elev\tElevator\n",
    "           Gar2\t2nd Garage (if not described in garage section)\n",
    "           Othr\tOther\n",
    "           Shed\tShed (over 100 SF)\n",
    "           TenC\tTennis Court\n",
    "           NA\tNone\n",
    "\n",
    "- When read_csv() function reads the csv file, it reads NA as NaN value(as data is missing, unregistered). However, according to the data description, 'NA' is one of feature level to describ there is no feature in the corresponding house.\n",
    "- Regardless this information, it is right call to drop these columns because it has too many 'NA' levels(more than half of data) which means it will not likely affect the SalePrice anyway."
   ]
  },
  {
   "cell_type": "code",
   "execution_count": 225,
   "metadata": {},
   "outputs": [],
   "source": [
    "# Remove unnecessary features.\n",
    "df = df.drop(columns=[\"Id\", \"Alley\",\"PoolQC\",\"Fence\",\"MiscFeature\"])"
   ]
  },
  {
   "cell_type": "code",
   "execution_count": 226,
   "metadata": {},
   "outputs": [],
   "source": [
    "# According to data description file, the most columns uses 'NA' as 'No fireplace', 'No basement' and etc.\n",
    "# However, MasVnrType/Electrical column contains 'NA' without any designation. Then it should be missing value.\n",
    "\n",
    "bad_categ  = pd.concat([df['MasVnrType'],df['Electrical']],axis=1)\n",
    "#Getting the particular rows in the df with NaN values\n",
    "bad_rows = bad_categ[bad_categ.isna().any(axis=1)]\n",
    "#Deleting these rows from the total df\n",
    "df = df.drop(bad_rows.index)\n",
    "#Categories without NaN descriptions should no longer have NaN values"
   ]
  },
  {
   "cell_type": "code",
   "execution_count": 227,
   "metadata": {},
   "outputs": [
    {
     "data": {
      "text/plain": [
       "(1451, 76)"
      ]
     },
     "execution_count": 227,
     "metadata": {},
     "output_type": "execute_result"
    }
   ],
   "source": [
    "# 9 rows are dropped.\n",
    "df.shape"
   ]
  },
  {
   "cell_type": "code",
   "execution_count": 228,
   "metadata": {},
   "outputs": [
    {
     "data": {
      "text/plain": [
       "(257,)"
      ]
     },
     "execution_count": 228,
     "metadata": {},
     "output_type": "execute_result"
    }
   ],
   "source": [
    "##IMPUTING NUMERICAL FEATURES\n",
    "#For the most part these values can be assumed to indicate 0 when not filled with a number\n",
    "##LotFrontage has many missing values, so all 0 wouldn't be great\n",
    "#GarageYrBlt makes no sense with a value of 0. We'll change these two individually\n",
    "df['LotFrontage'].loc[df['LotFrontage'].isnull()].shape # 257 NAs."
   ]
  },
  {
   "cell_type": "code",
   "execution_count": 229,
   "metadata": {},
   "outputs": [
    {
     "data": {
      "text/plain": [
       "0"
      ]
     },
     "execution_count": 229,
     "metadata": {},
     "output_type": "execute_result"
    }
   ],
   "source": [
    "#Imputing LotFrontage by assuming the fill takes on the median value\n",
    "#Perhaps this can be improved with comparisons to the LotArea feature?\n",
    "df['LotFrontage'] = df['LotFrontage'].fillna(df['LotFrontage'].median())\n",
    "df['LotFrontage'].isna().sum() # 0 NAs."
   ]
  },
  {
   "cell_type": "code",
   "execution_count": 230,
   "metadata": {},
   "outputs": [
    {
     "data": {
      "text/plain": [
       "Text(0, 0.5, 'Year Built')"
      ]
     },
     "execution_count": 230,
     "metadata": {},
     "output_type": "execute_result"
    },
    {
     "data": {
      "image/png": "[encoded data removed]",
      "text/plain": [
       "<Figure size 432x288 with 1 Axes>"
      ]
     },
     "metadata": {
      "needs_background": "light"
     },
     "output_type": "display_data"
    }
   ],
   "source": [
    "#Imputing GarageYrBlt based on the year the house was built\n",
    "plt.plot(df[\"GarageYrBlt\"],df[\"YearBuilt\"],\"b.\",color='steelblue',alpha=0.7)\n",
    "plt.xticks(np.arange(min(df[\"GarageYrBlt\"]),max(df[\"GarageYrBlt\"]),20.0))\n",
    "plt.title(\"GarageYrBlt vs YearBuilt\")\n",
    "plt.xlabel(\"Year Garage Built\")\n",
    "plt.ylabel(\"Year Built\")"
   ]
  },
  {
   "cell_type": "code",
   "execution_count": 231,
   "metadata": {},
   "outputs": [],
   "source": [
    "#seems like the garage is built around the same year as the house or a bit later\n",
    "#Again use the median value to fill in\n",
    "df[\"GarageYrBlt\"] = df[\"GarageYrBlt\"].fillna(df['YearBuilt']-(df['GarageYrBlt']-df['YearBuilt']).median())\n",
    "\n",
    "#Fill the rest of the null values to 0\n",
    "for i in invalid_none_numer:\n",
    "    df[i] = df[i].fillna(0)"
   ]
  },
  {
   "cell_type": "markdown",
   "metadata": {},
   "source": [
    "### 1-3. The response variable (SalePrice) Transformation\n",
    "- src: https://www.marsja.se/transform-skewed-data-using-square-root-log-box-cox-methods-in-python/"
   ]
  },
  {
   "cell_type": "code",
   "execution_count": 232,
   "metadata": {},
   "outputs": [
    {
     "data": {
      "image/png": "[encoded data removed]",
      "text/plain": [
       "<Figure size 432x288 with 1 Axes>"
      ]
     },
     "metadata": {
      "needs_background": "light"
     },
     "output_type": "display_data"
    }
   ],
   "source": [
    "# See if SalePrice column is normal.\n",
    "# !pip install statsmodels\n",
    "import statsmodels.api as sm\n",
    "from scipy.stats import boxcox\n",
    "\n",
    "# Use Q-Q plot to see normality. It is supposed to be straight line.\n",
    "fig = sm.qqplot(df['SalePrice'], fit= True, line=\"45\", color='steelblue',alpha=0.7)\n",
    "plt.title(\"Normal QQ Plot(Original)\")\n",
    "plt.show()"
   ]
  },
  {
   "cell_type": "markdown",
   "metadata": {},
   "source": [
    "#### Comment: \n",
    "- Since we are going to use linear regression models, it is necessary to transform the response variable normally distributed. Becuase the response variable is linear combination of feature variables."
   ]
  },
  {
   "cell_type": "code",
   "execution_count": 233,
   "metadata": {},
   "outputs": [
    {
     "data": {
      "image/png": "[encoded data removed]",
      "text/plain": [
       "<Figure size 432x288 with 1 Axes>"
      ]
     },
     "metadata": {
      "needs_background": "light"
     },
     "output_type": "display_data"
    }
   ],
   "source": [
    "# Log transformation. (Better)\n",
    "fig = sm.qqplot(np.log(df['SalePrice']), fit= True, line=\"45\", color='steelblue',alpha=0.7)\n",
    "plt.title(\"Normal QQ Plot(Log)\")\n",
    "plt.show()"
   ]
  },
  {
   "cell_type": "code",
   "execution_count": 234,
   "metadata": {},
   "outputs": [
    {
     "data": {
      "image/png": "[encoded data removed]",
      "text/plain": [
       "<Figure size 432x288 with 1 Axes>"
      ]
     },
     "metadata": {
      "needs_background": "light"
     },
     "output_type": "display_data"
    }
   ],
   "source": [
    "# Sqrt transformation. (Worse)\n",
    "fig = sm.qqplot(np.sqrt(df['SalePrice']), fit= True, line=\"45\",color='steelblue',alpha=0.7)\n",
    "plt.title(\"Normal QQ Plot(Squared)\")\n",
    "plt.show()"
   ]
  },
  {
   "cell_type": "code",
   "execution_count": 235,
   "metadata": {},
   "outputs": [
    {
     "data": {
      "image/png": "[encoded data removed]",
      "text/plain": [
       "<Figure size 864x360 with 2 Axes>"
      ]
     },
     "metadata": {
      "needs_background": "light"
     },
     "output_type": "display_data"
    }
   ],
   "source": [
    "# Compare distribution.\n",
    "fig, (ax1,ax2) = plt.subplots(1,2, figsize=(12,5))\n",
    "# Left plot.\n",
    "ax1.hist(df['SalePrice'], alpha=0.7)\n",
    "ax1.set_title(\"Before Log-Transformation\")\n",
    "ax1.set_xlabel('SalePrice')\n",
    "ax1.set_ylabel('Frequency')\n",
    "# Right plot.\n",
    "ax2.hist(np.log(df['SalePrice']), alpha=0.7, color='orange')\n",
    "ax2.set_title('After Log-Transformation')\n",
    "ax2.set_xlabel('Log-Scaled SalePrice')\n",
    "\n",
    "plt.tight_layout()\n",
    "plt.show()"
   ]
  },
  {
   "cell_type": "markdown",
   "metadata": {},
   "source": [
    "#### Comment:\n",
    "- Since log transformation normalizes the response variable, apply log transformation on SalePrice column."
   ]
  },
  {
   "cell_type": "code",
   "execution_count": 236,
   "metadata": {},
   "outputs": [],
   "source": [
    "# Apply log transformation.\n",
    "df['SalePrice'] = np.log(df['SalePrice'])"
   ]
  },
  {
   "cell_type": "markdown",
   "metadata": {},
   "source": [
    "### 1-4. Removing Outliers"
   ]
  },
  {
   "cell_type": "code",
   "execution_count": 237,
   "metadata": {},
   "outputs": [],
   "source": [
    "# GrLivArea and GarageArea columns have relatively large correlation with the SalePrice.\n",
    "# Use scatterplots to detect the outliers.\n",
    "def visualDetectionOutlier(train_df):\n",
    "    sp = train_df['SalePrice']\n",
    "    fig, axes = plt.subplots(nrows=2,ncols=1,figsize=(5,8))\n",
    "    axes[0].scatter(x=train_df['GrLivArea'],y=sp, alpha=0.5)\n",
    "    axes[0].set_title(\"GrLivArea vs SalePrice\")\n",
    "    axes[0].set_xlabel(\"sqft\")\n",
    "    axes[0].set_ylabel(\"Price\")\n",
    "    axes[1].scatter(x=train_df['GarageArea'],y=sp, alpha=0.5)\n",
    "    axes[1].set_title(\"GarageArea vs SalePrice\")\n",
    "    axes[1].set_xlabel(\"sqft\")\n",
    "    axes[1].set_ylabel(\"Price\")\n",
    "    fig.tight_layout()\n",
    "    plt.show()"
   ]
  },
  {
   "cell_type": "code",
   "execution_count": 238,
   "metadata": {},
   "outputs": [
    {
     "data": {
      "image/png": "[encoded data removed]",
      "text/plain": [
       "<Figure size 360x576 with 2 Axes>"
      ]
     },
     "metadata": {
      "needs_background": "light"
     },
     "output_type": "display_data"
    }
   ],
   "source": [
    "# Before removing outliers.\n",
    "visualDetectionOutlier(df)"
   ]
  },
  {
   "cell_type": "code",
   "execution_count": 239,
   "metadata": {},
   "outputs": [],
   "source": [
    "# [Plot 1: GrLivArea vs SalePrice] Bottom right two points look like outliers.\n",
    "ol_plot1_bottomright = df.loc[(df['GrLivArea'] > 4000) & (df['SalePrice'] < 300000)]\n",
    "# [Plot 2: GarageArea vs SalePrice] Bottom right four points look like outliers.\n",
    "ol_plot2_bottomright = df.loc[((df['GarageArea'] > 1200) & (df['SalePrice'] < 300000))]\n",
    "# [Plot 2: GarageArea vs SalePrice] Top middle two points look like outliers.\n",
    "ol_plot2_topmiddle = df.loc[((df['GarageArea'] > 800) & (df['GarageArea'] < 1000)) &\n",
    "                                  (df['SalePrice'] > 700000)]\n",
    "# Remove the outliers.\n",
    "df = df.drop(ol_plot1_bottomright.index.append(ol_plot2_bottomright.index).\n",
    "                         append(ol_plot2_topmiddle.index))"
   ]
  },
  {
   "cell_type": "code",
   "execution_count": 240,
   "metadata": {},
   "outputs": [
    {
     "data": {
      "image/png": "[encoded data removed]",
      "text/plain": [
       "<Figure size 360x576 with 2 Axes>"
      ]
     },
     "metadata": {
      "needs_background": "light"
     },
     "output_type": "display_data"
    }
   ],
   "source": [
    "# Check out the linearity again.\n",
    "visualDetectionOutlier(df)"
   ]
  },
  {
   "cell_type": "markdown",
   "metadata": {},
   "source": [
    "### 1-5. Min-Max Scale Numerical Columns"
   ]
  },
  {
   "cell_type": "code",
   "execution_count": 241,
   "metadata": {},
   "outputs": [],
   "source": [
    "# Select categorical and numerical columns from the cleaned dataframe.\n",
    "categ_df = df.select_dtypes(include=['object'])\n",
    "numer_df = df.select_dtypes(exclude=['object']).drop(columns='SalePrice')"
   ]
  },
  {
   "cell_type": "code",
   "execution_count": 242,
   "metadata": {},
   "outputs": [
    {
     "data": {
      "text/plain": [
       "Index(['LotFrontage', 'LotArea', 'YearBuilt', 'YearRemodAdd', 'MasVnrArea',\n",
       "       'BsmtFinSF1', 'BsmtFinSF2', 'BsmtUnfSF', 'TotalBsmtSF', '1stFlrSF',\n",
       "       '2ndFlrSF', 'LowQualFinSF', 'GrLivArea', 'BsmtFullBath', 'BsmtHalfBath',\n",
       "       'FullBath', 'HalfBath', 'BedroomAbvGr', 'KitchenAbvGr', 'TotRmsAbvGrd',\n",
       "       'Fireplaces', 'GarageYrBlt', 'GarageCars', 'GarageArea', 'WoodDeckSF',\n",
       "       'OpenPorchSF', 'EnclosedPorch', '3SsnPorch', 'ScreenPorch', 'PoolArea',\n",
       "       'MiscVal', 'YrSold'],\n",
       "      dtype='object')"
      ]
     },
     "execution_count": 242,
     "metadata": {},
     "output_type": "execute_result"
    }
   ],
   "source": [
    "# Transform numerical columns.\n",
    "# Use MinMaxScaler.\n",
    "scaler = MinMaxScaler()\n",
    "\n",
    "# Numerical column names.\n",
    "numer_col_names = numer_df.columns\n",
    "numer_col_names"
   ]
  },
  {
   "cell_type": "code",
   "execution_count": 243,
   "metadata": {},
   "outputs": [
    {
     "data": {
      "text/html": [
       "<div>\n",
       "<style scoped>\n",
       "    .dataframe tbody tr th:only-of-type {\n",
       "        vertical-align: middle;\n",
       "    }\n",
       "\n",
       "    .dataframe tbody tr th {\n",
       "        vertical-align: top;\n",
       "    }\n",
       "\n",
       "    .dataframe thead th {\n",
       "        text-align: right;\n",
       "    }\n",
       "</style>\n",
       "<table border=\"1\" class=\"dataframe\">\n",
       "  <thead>\n",
       "    <tr style=\"text-align: right;\">\n",
       "      <th></th>\n",
       "      <th>LotFrontage</th>\n",
       "      <th>LotArea</th>\n",
       "      <th>YearBuilt</th>\n",
       "      <th>YearRemodAdd</th>\n",
       "      <th>MasVnrArea</th>\n",
       "      <th>BsmtFinSF1</th>\n",
       "      <th>BsmtFinSF2</th>\n",
       "      <th>BsmtUnfSF</th>\n",
       "      <th>TotalBsmtSF</th>\n",
       "      <th>1stFlrSF</th>\n",
       "      <th>...</th>\n",
       "      <th>GarageCars</th>\n",
       "      <th>GarageArea</th>\n",
       "      <th>WoodDeckSF</th>\n",
       "      <th>OpenPorchSF</th>\n",
       "      <th>EnclosedPorch</th>\n",
       "      <th>3SsnPorch</th>\n",
       "      <th>ScreenPorch</th>\n",
       "      <th>PoolArea</th>\n",
       "      <th>MiscVal</th>\n",
       "      <th>YrSold</th>\n",
       "    </tr>\n",
       "  </thead>\n",
       "  <tbody>\n",
       "    <tr>\n",
       "      <th>0</th>\n",
       "      <td>0.150685</td>\n",
       "      <td>0.033420</td>\n",
       "      <td>0.949275</td>\n",
       "      <td>0.883333</td>\n",
       "      <td>0.122500</td>\n",
       "      <td>0.322669</td>\n",
       "      <td>0.000000</td>\n",
       "      <td>0.064212</td>\n",
       "      <td>0.266999</td>\n",
       "      <td>0.180373</td>\n",
       "      <td>...</td>\n",
       "      <td>0.50</td>\n",
       "      <td>0.469983</td>\n",
       "      <td>0.000000</td>\n",
       "      <td>0.111517</td>\n",
       "      <td>0.000000</td>\n",
       "      <td>0.0</td>\n",
       "      <td>0.0</td>\n",
       "      <td>0.0</td>\n",
       "      <td>0.00000</td>\n",
       "      <td>0.50</td>\n",
       "    </tr>\n",
       "    <tr>\n",
       "      <th>1</th>\n",
       "      <td>0.202055</td>\n",
       "      <td>0.038795</td>\n",
       "      <td>0.753623</td>\n",
       "      <td>0.433333</td>\n",
       "      <td>0.000000</td>\n",
       "      <td>0.446984</td>\n",
       "      <td>0.000000</td>\n",
       "      <td>0.121575</td>\n",
       "      <td>0.393637</td>\n",
       "      <td>0.320663</td>\n",
       "      <td>...</td>\n",
       "      <td>0.50</td>\n",
       "      <td>0.394511</td>\n",
       "      <td>0.347725</td>\n",
       "      <td>0.000000</td>\n",
       "      <td>0.000000</td>\n",
       "      <td>0.0</td>\n",
       "      <td>0.0</td>\n",
       "      <td>0.0</td>\n",
       "      <td>0.00000</td>\n",
       "      <td>0.25</td>\n",
       "    </tr>\n",
       "    <tr>\n",
       "      <th>2</th>\n",
       "      <td>0.160959</td>\n",
       "      <td>0.046507</td>\n",
       "      <td>0.934783</td>\n",
       "      <td>0.866667</td>\n",
       "      <td>0.101250</td>\n",
       "      <td>0.222121</td>\n",
       "      <td>0.000000</td>\n",
       "      <td>0.185788</td>\n",
       "      <td>0.286962</td>\n",
       "      <td>0.202488</td>\n",
       "      <td>...</td>\n",
       "      <td>0.50</td>\n",
       "      <td>0.521441</td>\n",
       "      <td>0.000000</td>\n",
       "      <td>0.076782</td>\n",
       "      <td>0.000000</td>\n",
       "      <td>0.0</td>\n",
       "      <td>0.0</td>\n",
       "      <td>0.0</td>\n",
       "      <td>0.00000</td>\n",
       "      <td>0.50</td>\n",
       "    </tr>\n",
       "    <tr>\n",
       "      <th>3</th>\n",
       "      <td>0.133562</td>\n",
       "      <td>0.038561</td>\n",
       "      <td>0.311594</td>\n",
       "      <td>0.333333</td>\n",
       "      <td>0.000000</td>\n",
       "      <td>0.098720</td>\n",
       "      <td>0.000000</td>\n",
       "      <td>0.231164</td>\n",
       "      <td>0.235808</td>\n",
       "      <td>0.216655</td>\n",
       "      <td>...</td>\n",
       "      <td>0.75</td>\n",
       "      <td>0.550600</td>\n",
       "      <td>0.000000</td>\n",
       "      <td>0.063985</td>\n",
       "      <td>0.492754</td>\n",
       "      <td>0.0</td>\n",
       "      <td>0.0</td>\n",
       "      <td>0.0</td>\n",
       "      <td>0.00000</td>\n",
       "      <td>0.00</td>\n",
       "    </tr>\n",
       "    <tr>\n",
       "      <th>4</th>\n",
       "      <td>0.215753</td>\n",
       "      <td>0.060576</td>\n",
       "      <td>0.927536</td>\n",
       "      <td>0.833333</td>\n",
       "      <td>0.218750</td>\n",
       "      <td>0.299360</td>\n",
       "      <td>0.000000</td>\n",
       "      <td>0.209760</td>\n",
       "      <td>0.357143</td>\n",
       "      <td>0.280235</td>\n",
       "      <td>...</td>\n",
       "      <td>0.75</td>\n",
       "      <td>0.716981</td>\n",
       "      <td>0.224037</td>\n",
       "      <td>0.153565</td>\n",
       "      <td>0.000000</td>\n",
       "      <td>0.0</td>\n",
       "      <td>0.0</td>\n",
       "      <td>0.0</td>\n",
       "      <td>0.00000</td>\n",
       "      <td>0.50</td>\n",
       "    </tr>\n",
       "    <tr>\n",
       "      <th>...</th>\n",
       "      <td>...</td>\n",
       "      <td>...</td>\n",
       "      <td>...</td>\n",
       "      <td>...</td>\n",
       "      <td>...</td>\n",
       "      <td>...</td>\n",
       "      <td>...</td>\n",
       "      <td>...</td>\n",
       "      <td>...</td>\n",
       "      <td>...</td>\n",
       "      <td>...</td>\n",
       "      <td>...</td>\n",
       "      <td>...</td>\n",
       "      <td>...</td>\n",
       "      <td>...</td>\n",
       "      <td>...</td>\n",
       "      <td>...</td>\n",
       "      <td>...</td>\n",
       "      <td>...</td>\n",
       "      <td>...</td>\n",
       "      <td>...</td>\n",
       "    </tr>\n",
       "    <tr>\n",
       "      <th>1455</th>\n",
       "      <td>0.140411</td>\n",
       "      <td>0.030929</td>\n",
       "      <td>0.920290</td>\n",
       "      <td>0.833333</td>\n",
       "      <td>0.000000</td>\n",
       "      <td>0.000000</td>\n",
       "      <td>0.000000</td>\n",
       "      <td>0.407962</td>\n",
       "      <td>0.297255</td>\n",
       "      <td>0.213891</td>\n",
       "      <td>...</td>\n",
       "      <td>0.50</td>\n",
       "      <td>0.394511</td>\n",
       "      <td>0.000000</td>\n",
       "      <td>0.073126</td>\n",
       "      <td>0.000000</td>\n",
       "      <td>0.0</td>\n",
       "      <td>0.0</td>\n",
       "      <td>0.0</td>\n",
       "      <td>0.00000</td>\n",
       "      <td>0.25</td>\n",
       "    </tr>\n",
       "    <tr>\n",
       "      <th>1456</th>\n",
       "      <td>0.219178</td>\n",
       "      <td>0.055505</td>\n",
       "      <td>0.768116</td>\n",
       "      <td>0.633333</td>\n",
       "      <td>0.074375</td>\n",
       "      <td>0.361060</td>\n",
       "      <td>0.110583</td>\n",
       "      <td>0.252140</td>\n",
       "      <td>0.480973</td>\n",
       "      <td>0.600898</td>\n",
       "      <td>...</td>\n",
       "      <td>0.50</td>\n",
       "      <td>0.428816</td>\n",
       "      <td>0.407235</td>\n",
       "      <td>0.000000</td>\n",
       "      <td>0.000000</td>\n",
       "      <td>0.0</td>\n",
       "      <td>0.0</td>\n",
       "      <td>0.0</td>\n",
       "      <td>0.00000</td>\n",
       "      <td>1.00</td>\n",
       "    </tr>\n",
       "    <tr>\n",
       "      <th>1457</th>\n",
       "      <td>0.154110</td>\n",
       "      <td>0.036187</td>\n",
       "      <td>0.500000</td>\n",
       "      <td>0.933333</td>\n",
       "      <td>0.000000</td>\n",
       "      <td>0.125686</td>\n",
       "      <td>0.000000</td>\n",
       "      <td>0.375428</td>\n",
       "      <td>0.359326</td>\n",
       "      <td>0.295093</td>\n",
       "      <td>...</td>\n",
       "      <td>0.25</td>\n",
       "      <td>0.216123</td>\n",
       "      <td>0.000000</td>\n",
       "      <td>0.109689</td>\n",
       "      <td>0.000000</td>\n",
       "      <td>0.0</td>\n",
       "      <td>0.0</td>\n",
       "      <td>0.0</td>\n",
       "      <td>0.16129</td>\n",
       "      <td>1.00</td>\n",
       "    </tr>\n",
       "    <tr>\n",
       "      <th>1458</th>\n",
       "      <td>0.160959</td>\n",
       "      <td>0.039342</td>\n",
       "      <td>0.565217</td>\n",
       "      <td>0.766667</td>\n",
       "      <td>0.000000</td>\n",
       "      <td>0.022395</td>\n",
       "      <td>0.698100</td>\n",
       "      <td>0.000000</td>\n",
       "      <td>0.336245</td>\n",
       "      <td>0.257084</td>\n",
       "      <td>...</td>\n",
       "      <td>0.25</td>\n",
       "      <td>0.205832</td>\n",
       "      <td>0.427071</td>\n",
       "      <td>0.000000</td>\n",
       "      <td>0.202899</td>\n",
       "      <td>0.0</td>\n",
       "      <td>0.0</td>\n",
       "      <td>0.0</td>\n",
       "      <td>0.00000</td>\n",
       "      <td>1.00</td>\n",
       "    </tr>\n",
       "    <tr>\n",
       "      <th>1459</th>\n",
       "      <td>0.184932</td>\n",
       "      <td>0.040370</td>\n",
       "      <td>0.673913</td>\n",
       "      <td>0.250000</td>\n",
       "      <td>0.000000</td>\n",
       "      <td>0.379342</td>\n",
       "      <td>0.196744</td>\n",
       "      <td>0.058219</td>\n",
       "      <td>0.391765</td>\n",
       "      <td>0.318590</td>\n",
       "      <td>...</td>\n",
       "      <td>0.25</td>\n",
       "      <td>0.236707</td>\n",
       "      <td>0.858810</td>\n",
       "      <td>0.124314</td>\n",
       "      <td>0.000000</td>\n",
       "      <td>0.0</td>\n",
       "      <td>0.0</td>\n",
       "      <td>0.0</td>\n",
       "      <td>0.00000</td>\n",
       "      <td>0.50</td>\n",
       "    </tr>\n",
       "  </tbody>\n",
       "</table>\n",
       "<p>1443 rows × 32 columns</p>\n",
       "</div>"
      ],
      "text/plain": [
       "      LotFrontage   LotArea  YearBuilt  YearRemodAdd  MasVnrArea  BsmtFinSF1  \\\n",
       "0        0.150685  0.033420   0.949275      0.883333    0.122500    0.322669   \n",
       "1        0.202055  0.038795   0.753623      0.433333    0.000000    0.446984   \n",
       "2        0.160959  0.046507   0.934783      0.866667    0.101250    0.222121   \n",
       "3        0.133562  0.038561   0.311594      0.333333    0.000000    0.098720   \n",
       "4        0.215753  0.060576   0.927536      0.833333    0.218750    0.299360   \n",
       "...           ...       ...        ...           ...         ...         ...   \n",
       "1455     0.140411  0.030929   0.920290      0.833333    0.000000    0.000000   \n",
       "1456     0.219178  0.055505   0.768116      0.633333    0.074375    0.361060   \n",
       "1457     0.154110  0.036187   0.500000      0.933333    0.000000    0.125686   \n",
       "1458     0.160959  0.039342   0.565217      0.766667    0.000000    0.022395   \n",
       "1459     0.184932  0.040370   0.673913      0.250000    0.000000    0.379342   \n",
       "\n",
       "      BsmtFinSF2  BsmtUnfSF  TotalBsmtSF  1stFlrSF  ...  GarageCars  \\\n",
       "0       0.000000   0.064212     0.266999  0.180373  ...        0.50   \n",
       "1       0.000000   0.121575     0.393637  0.320663  ...        0.50   \n",
       "2       0.000000   0.185788     0.286962  0.202488  ...        0.50   \n",
       "3       0.000000   0.231164     0.235808  0.216655  ...        0.75   \n",
       "4       0.000000   0.209760     0.357143  0.280235  ...        0.75   \n",
       "...          ...        ...          ...       ...  ...         ...   \n",
       "1455    0.000000   0.407962     0.297255  0.213891  ...        0.50   \n",
       "1456    0.110583   0.252140     0.480973  0.600898  ...        0.50   \n",
       "1457    0.000000   0.375428     0.359326  0.295093  ...        0.25   \n",
       "1458    0.698100   0.000000     0.336245  0.257084  ...        0.25   \n",
       "1459    0.196744   0.058219     0.391765  0.318590  ...        0.25   \n",
       "\n",
       "      GarageArea  WoodDeckSF  OpenPorchSF  EnclosedPorch  3SsnPorch  \\\n",
       "0       0.469983    0.000000     0.111517       0.000000        0.0   \n",
       "1       0.394511    0.347725     0.000000       0.000000        0.0   \n",
       "2       0.521441    0.000000     0.076782       0.000000        0.0   \n",
       "3       0.550600    0.000000     0.063985       0.492754        0.0   \n",
       "4       0.716981    0.224037     0.153565       0.000000        0.0   \n",
       "...          ...         ...          ...            ...        ...   \n",
       "1455    0.394511    0.000000     0.073126       0.000000        0.0   \n",
       "1456    0.428816    0.407235     0.000000       0.000000        0.0   \n",
       "1457    0.216123    0.000000     0.109689       0.000000        0.0   \n",
       "1458    0.205832    0.427071     0.000000       0.202899        0.0   \n",
       "1459    0.236707    0.858810     0.124314       0.000000        0.0   \n",
       "\n",
       "      ScreenPorch  PoolArea  MiscVal  YrSold  \n",
       "0             0.0       0.0  0.00000    0.50  \n",
       "1             0.0       0.0  0.00000    0.25  \n",
       "2             0.0       0.0  0.00000    0.50  \n",
       "3             0.0       0.0  0.00000    0.00  \n",
       "4             0.0       0.0  0.00000    0.50  \n",
       "...           ...       ...      ...     ...  \n",
       "1455          0.0       0.0  0.00000    0.25  \n",
       "1456          0.0       0.0  0.00000    1.00  \n",
       "1457          0.0       0.0  0.16129    1.00  \n",
       "1458          0.0       0.0  0.00000    1.00  \n",
       "1459          0.0       0.0  0.00000    0.50  \n",
       "\n",
       "[1443 rows x 32 columns]"
      ]
     },
     "execution_count": 243,
     "metadata": {},
     "output_type": "execute_result"
    }
   ],
   "source": [
    "# Transform the numerical columsn.\n",
    "df[numer_col_names] = scaler.fit_transform(df[numer_col_names])\n",
    "df[numer_col_names]"
   ]
  },
  {
   "cell_type": "markdown",
   "metadata": {},
   "source": [
    "### 1-6. Correlation Matrix "
   ]
  },
  {
   "cell_type": "code",
   "execution_count": 244,
   "metadata": {},
   "outputs": [
    {
     "data": {
      "image/png": "[encoded data removed]",
      "text/plain": [
       "<Figure size 864x648 with 2 Axes>"
      ]
     },
     "metadata": {
      "needs_background": "light"
     },
     "output_type": "display_data"
    }
   ],
   "source": [
    "# Correlation matrix.\n",
    "corrmat = df.corr()\n",
    "f, ax = plt.subplots(figsize=(12, 9))\n",
    "sns.heatmap(corrmat, vmax=.8, square=True, cmap='YlGnBu');"
   ]
  },
  {
   "cell_type": "code",
   "execution_count": 245,
   "metadata": {},
   "outputs": [
    {
     "name": "stdout",
     "output_type": "stream",
     "text": [
      "List of parameters that have a good linear model fit to Sale Price\n"
     ]
    },
    {
     "data": {
      "text/plain": [
       "TotRmsAbvGrd    0.535635\n",
       "YearRemodAdd    0.566891\n",
       "GarageYrBlt     0.571302\n",
       "YearBuilt       0.587201\n",
       "FullBath        0.591328\n",
       "1stFlrSF        0.613928\n",
       "TotalBsmtSF     0.640654\n",
       "GarageArea      0.666923\n",
       "GarageCars      0.684121\n",
       "GrLivArea       0.718665\n",
       "Name: SalePrice, dtype: float64"
      ]
     },
     "execution_count": 245,
     "metadata": {},
     "output_type": "execute_result"
    }
   ],
   "source": [
    "#Find out which parameters appear to have an appreciable linear relationship with SalePrice\n",
    "#Arbitrary 0.5 correlation cutoff\n",
    "print(\"List of parameters that have a good linear model fit to Sale Price\")\n",
    "corr_series = corrmat['SalePrice'].sort_values()[:-1]\n",
    "good_params = corr_series[(corr_series > 0.5) | (corr_series < -0.5)]\n",
    "good_params"
   ]
  },
  {
   "cell_type": "code",
   "execution_count": 246,
   "metadata": {},
   "outputs": [
    {
     "data": {
      "text/plain": [
       "GrLivArea        0.718665\n",
       "GarageCars       0.684121\n",
       "GarageArea       0.666923\n",
       "TotalBsmtSF      0.640654\n",
       "1stFlrSF         0.613928\n",
       "FullBath         0.591328\n",
       "YearBuilt        0.587201\n",
       "GarageYrBlt      0.571302\n",
       "YearRemodAdd     0.566891\n",
       "TotRmsAbvGrd     0.535635\n",
       "Fireplaces       0.488206\n",
       "MasVnrArea       0.426611\n",
       "BsmtFinSF1       0.378682\n",
       "LotFrontage      0.342499\n",
       "WoodDeckSF       0.331922\n",
       "OpenPorchSF      0.323636\n",
       "2ndFlrSF         0.310751\n",
       "HalfBath         0.309967\n",
       "LotArea          0.260770\n",
       "BsmtFullBath     0.235625\n",
       "BsmtUnfSF        0.224954\n",
       "BedroomAbvGr     0.208011\n",
       "KitchenAbvGr     0.150184\n",
       "EnclosedPorch    0.149259\n",
       "ScreenPorch      0.126086\n",
       "3SsnPorch        0.057026\n",
       "PoolArea         0.041235\n",
       "LowQualFinSF     0.037301\n",
       "YrSold           0.033518\n",
       "MiscVal          0.018007\n",
       "BsmtHalfBath     0.013811\n",
       "BsmtFinSF2       0.007980\n",
       "Name: SalePrice, dtype: float64"
      ]
     },
     "execution_count": 246,
     "metadata": {},
     "output_type": "execute_result"
    }
   ],
   "source": [
    "# Correlation between SalePrice and other variables.\n",
    "# Sorted from the least to the most correlated. Exclude SalePrice vs SalePrice corr.\n",
    "corrmat.loc['SalePrice'].abs().sort_values(ascending=False)[1:]"
   ]
  },
  {
   "cell_type": "code",
   "execution_count": 247,
   "metadata": {},
   "outputs": [
    {
     "data": {
      "text/plain": [
       "Index(['YearBuilt', 'YearRemodAdd', 'TotalBsmtSF', '1stFlrSF', 'GrLivArea',\n",
       "       'FullBath', 'TotRmsAbvGrd', 'GarageYrBlt', 'GarageCars', 'GarageArea'],\n",
       "      dtype='object')"
      ]
     },
     "execution_count": 247,
     "metadata": {},
     "output_type": "execute_result"
    }
   ],
   "source": [
    "# Find the list of good numerical good parameters.\n",
    "good_numer = numer_df.columns.intersection(good_params.index)\n",
    "good_numer"
   ]
  },
  {
   "cell_type": "code",
   "execution_count": 248,
   "metadata": {},
   "outputs": [
    {
     "data": {
      "text/plain": [
       "4.0"
      ]
     },
     "execution_count": 248,
     "metadata": {},
     "output_type": "execute_result"
    }
   ],
   "source": [
    "# To find row numbers for plots.\n",
    "np.ceil(np.sqrt(len(good_numer)))"
   ]
  },
  {
   "cell_type": "code",
   "execution_count": 249,
   "metadata": {},
   "outputs": [
    {
     "data": {
      "image/png": "[encoded data removed]",
      "text/plain": [
       "<Figure size 864x864 with 12 Axes>"
      ]
     },
     "metadata": {
      "needs_background": "light"
     },
     "output_type": "display_data"
    }
   ],
   "source": [
    "# Make it list.\n",
    "lst_gn = list(good_numer)\n",
    "\n",
    "# Plot highly correlated numerical columns against SalePrice.\n",
    "fig, axs = plt.subplots(3,4, figsize=(12,12))\n",
    "\n",
    "for i in range(0,4):\n",
    "    for j in range(0,4):\n",
    "        if len(lst_gn) > 0:\n",
    "            col = lst_gn.pop()\n",
    "        else:\n",
    "            break\n",
    "        axs[i,j].scatter(df[col],df['SalePrice'],alpha=0.7)\n",
    "        axs[i,j].set_title('{} vs SalePrice'.format(col))\n",
    "            \n",
    "plt.tight_layout()\n",
    "plt.show()"
   ]
  },
  {
   "cell_type": "markdown",
   "metadata": {},
   "source": [
    "### 1-7. One-Hot Encoding Categorical Columns"
   ]
  },
  {
   "cell_type": "code",
   "execution_count": 250,
   "metadata": {},
   "outputs": [
    {
     "data": {
      "text/plain": [
       "Index(['MSSubClass', 'MSZoning', 'Street', 'LotShape', 'LandContour',\n",
       "       'Utilities', 'LotConfig', 'LandSlope', 'Neighborhood', 'Condition1',\n",
       "       'Condition2', 'BldgType', 'HouseStyle', 'OverallQual', 'OverallCond',\n",
       "       'RoofStyle', 'RoofMatl', 'Exterior1st', 'Exterior2nd', 'MasVnrType',\n",
       "       'ExterQual', 'ExterCond', 'Foundation', 'BsmtQual', 'BsmtCond',\n",
       "       'BsmtExposure', 'BsmtFinType1', 'BsmtFinType2', 'Heating', 'HeatingQC',\n",
       "       'CentralAir', 'Electrical', 'KitchenQual', 'Functional', 'FireplaceQu',\n",
       "       'GarageType', 'GarageFinish', 'GarageQual', 'GarageCond', 'PavedDrive',\n",
       "       'MoSold', 'SaleType', 'SaleCondition'],\n",
       "      dtype='object')"
      ]
     },
     "execution_count": 250,
     "metadata": {},
     "output_type": "execute_result"
    }
   ],
   "source": [
    "# The categorical columns to be encoded.\n",
    "categ_df.columns"
   ]
  },
  {
   "cell_type": "code",
   "execution_count": 251,
   "metadata": {},
   "outputs": [],
   "source": [
    "#Pandas One Hot Encoding.\n",
    "df = pd.get_dummies(df, columns=categ_df.columns,prefix=categ_df.columns, drop_first=True)"
   ]
  },
  {
   "cell_type": "code",
   "execution_count": 252,
   "metadata": {},
   "outputs": [
    {
     "data": {
      "text/html": [
       "<div>\n",
       "<style scoped>\n",
       "    .dataframe tbody tr th:only-of-type {\n",
       "        vertical-align: middle;\n",
       "    }\n",
       "\n",
       "    .dataframe tbody tr th {\n",
       "        vertical-align: top;\n",
       "    }\n",
       "\n",
       "    .dataframe thead th {\n",
       "        text-align: right;\n",
       "    }\n",
       "</style>\n",
       "<table border=\"1\" class=\"dataframe\">\n",
       "  <thead>\n",
       "    <tr style=\"text-align: right;\">\n",
       "      <th></th>\n",
       "      <th>LotFrontage</th>\n",
       "      <th>LotArea</th>\n",
       "      <th>YearBuilt</th>\n",
       "      <th>YearRemodAdd</th>\n",
       "      <th>MasVnrArea</th>\n",
       "      <th>BsmtFinSF1</th>\n",
       "      <th>BsmtFinSF2</th>\n",
       "      <th>BsmtUnfSF</th>\n",
       "      <th>TotalBsmtSF</th>\n",
       "      <th>1stFlrSF</th>\n",
       "      <th>...</th>\n",
       "      <th>SaleType_ConLI</th>\n",
       "      <th>SaleType_ConLw</th>\n",
       "      <th>SaleType_New</th>\n",
       "      <th>SaleType_Oth</th>\n",
       "      <th>SaleType_WD</th>\n",
       "      <th>SaleCondition_AdjLand</th>\n",
       "      <th>SaleCondition_Alloca</th>\n",
       "      <th>SaleCondition_Family</th>\n",
       "      <th>SaleCondition_Normal</th>\n",
       "      <th>SaleCondition_Partial</th>\n",
       "    </tr>\n",
       "  </thead>\n",
       "  <tbody>\n",
       "    <tr>\n",
       "      <th>0</th>\n",
       "      <td>0.150685</td>\n",
       "      <td>0.033420</td>\n",
       "      <td>0.949275</td>\n",
       "      <td>0.883333</td>\n",
       "      <td>0.122500</td>\n",
       "      <td>0.322669</td>\n",
       "      <td>0.000000</td>\n",
       "      <td>0.064212</td>\n",
       "      <td>0.266999</td>\n",
       "      <td>0.180373</td>\n",
       "      <td>...</td>\n",
       "      <td>0</td>\n",
       "      <td>0</td>\n",
       "      <td>0</td>\n",
       "      <td>0</td>\n",
       "      <td>1</td>\n",
       "      <td>0</td>\n",
       "      <td>0</td>\n",
       "      <td>0</td>\n",
       "      <td>1</td>\n",
       "      <td>0</td>\n",
       "    </tr>\n",
       "    <tr>\n",
       "      <th>1</th>\n",
       "      <td>0.202055</td>\n",
       "      <td>0.038795</td>\n",
       "      <td>0.753623</td>\n",
       "      <td>0.433333</td>\n",
       "      <td>0.000000</td>\n",
       "      <td>0.446984</td>\n",
       "      <td>0.000000</td>\n",
       "      <td>0.121575</td>\n",
       "      <td>0.393637</td>\n",
       "      <td>0.320663</td>\n",
       "      <td>...</td>\n",
       "      <td>0</td>\n",
       "      <td>0</td>\n",
       "      <td>0</td>\n",
       "      <td>0</td>\n",
       "      <td>1</td>\n",
       "      <td>0</td>\n",
       "      <td>0</td>\n",
       "      <td>0</td>\n",
       "      <td>1</td>\n",
       "      <td>0</td>\n",
       "    </tr>\n",
       "    <tr>\n",
       "      <th>2</th>\n",
       "      <td>0.160959</td>\n",
       "      <td>0.046507</td>\n",
       "      <td>0.934783</td>\n",
       "      <td>0.866667</td>\n",
       "      <td>0.101250</td>\n",
       "      <td>0.222121</td>\n",
       "      <td>0.000000</td>\n",
       "      <td>0.185788</td>\n",
       "      <td>0.286962</td>\n",
       "      <td>0.202488</td>\n",
       "      <td>...</td>\n",
       "      <td>0</td>\n",
       "      <td>0</td>\n",
       "      <td>0</td>\n",
       "      <td>0</td>\n",
       "      <td>1</td>\n",
       "      <td>0</td>\n",
       "      <td>0</td>\n",
       "      <td>0</td>\n",
       "      <td>1</td>\n",
       "      <td>0</td>\n",
       "    </tr>\n",
       "    <tr>\n",
       "      <th>3</th>\n",
       "      <td>0.133562</td>\n",
       "      <td>0.038561</td>\n",
       "      <td>0.311594</td>\n",
       "      <td>0.333333</td>\n",
       "      <td>0.000000</td>\n",
       "      <td>0.098720</td>\n",
       "      <td>0.000000</td>\n",
       "      <td>0.231164</td>\n",
       "      <td>0.235808</td>\n",
       "      <td>0.216655</td>\n",
       "      <td>...</td>\n",
       "      <td>0</td>\n",
       "      <td>0</td>\n",
       "      <td>0</td>\n",
       "      <td>0</td>\n",
       "      <td>1</td>\n",
       "      <td>0</td>\n",
       "      <td>0</td>\n",
       "      <td>0</td>\n",
       "      <td>0</td>\n",
       "      <td>0</td>\n",
       "    </tr>\n",
       "    <tr>\n",
       "      <th>4</th>\n",
       "      <td>0.215753</td>\n",
       "      <td>0.060576</td>\n",
       "      <td>0.927536</td>\n",
       "      <td>0.833333</td>\n",
       "      <td>0.218750</td>\n",
       "      <td>0.299360</td>\n",
       "      <td>0.000000</td>\n",
       "      <td>0.209760</td>\n",
       "      <td>0.357143</td>\n",
       "      <td>0.280235</td>\n",
       "      <td>...</td>\n",
       "      <td>0</td>\n",
       "      <td>0</td>\n",
       "      <td>0</td>\n",
       "      <td>0</td>\n",
       "      <td>1</td>\n",
       "      <td>0</td>\n",
       "      <td>0</td>\n",
       "      <td>0</td>\n",
       "      <td>1</td>\n",
       "      <td>0</td>\n",
       "    </tr>\n",
       "    <tr>\n",
       "      <th>...</th>\n",
       "      <td>...</td>\n",
       "      <td>...</td>\n",
       "      <td>...</td>\n",
       "      <td>...</td>\n",
       "      <td>...</td>\n",
       "      <td>...</td>\n",
       "      <td>...</td>\n",
       "      <td>...</td>\n",
       "      <td>...</td>\n",
       "      <td>...</td>\n",
       "      <td>...</td>\n",
       "      <td>...</td>\n",
       "      <td>...</td>\n",
       "      <td>...</td>\n",
       "      <td>...</td>\n",
       "      <td>...</td>\n",
       "      <td>...</td>\n",
       "      <td>...</td>\n",
       "      <td>...</td>\n",
       "      <td>...</td>\n",
       "      <td>...</td>\n",
       "    </tr>\n",
       "    <tr>\n",
       "      <th>1455</th>\n",
       "      <td>0.140411</td>\n",
       "      <td>0.030929</td>\n",
       "      <td>0.920290</td>\n",
       "      <td>0.833333</td>\n",
       "      <td>0.000000</td>\n",
       "      <td>0.000000</td>\n",
       "      <td>0.000000</td>\n",
       "      <td>0.407962</td>\n",
       "      <td>0.297255</td>\n",
       "      <td>0.213891</td>\n",
       "      <td>...</td>\n",
       "      <td>0</td>\n",
       "      <td>0</td>\n",
       "      <td>0</td>\n",
       "      <td>0</td>\n",
       "      <td>1</td>\n",
       "      <td>0</td>\n",
       "      <td>0</td>\n",
       "      <td>0</td>\n",
       "      <td>1</td>\n",
       "      <td>0</td>\n",
       "    </tr>\n",
       "    <tr>\n",
       "      <th>1456</th>\n",
       "      <td>0.219178</td>\n",
       "      <td>0.055505</td>\n",
       "      <td>0.768116</td>\n",
       "      <td>0.633333</td>\n",
       "      <td>0.074375</td>\n",
       "      <td>0.361060</td>\n",
       "      <td>0.110583</td>\n",
       "      <td>0.252140</td>\n",
       "      <td>0.480973</td>\n",
       "      <td>0.600898</td>\n",
       "      <td>...</td>\n",
       "      <td>0</td>\n",
       "      <td>0</td>\n",
       "      <td>0</td>\n",
       "      <td>0</td>\n",
       "      <td>1</td>\n",
       "      <td>0</td>\n",
       "      <td>0</td>\n",
       "      <td>0</td>\n",
       "      <td>1</td>\n",
       "      <td>0</td>\n",
       "    </tr>\n",
       "    <tr>\n",
       "      <th>1457</th>\n",
       "      <td>0.154110</td>\n",
       "      <td>0.036187</td>\n",
       "      <td>0.500000</td>\n",
       "      <td>0.933333</td>\n",
       "      <td>0.000000</td>\n",
       "      <td>0.125686</td>\n",
       "      <td>0.000000</td>\n",
       "      <td>0.375428</td>\n",
       "      <td>0.359326</td>\n",
       "      <td>0.295093</td>\n",
       "      <td>...</td>\n",
       "      <td>0</td>\n",
       "      <td>0</td>\n",
       "      <td>0</td>\n",
       "      <td>0</td>\n",
       "      <td>1</td>\n",
       "      <td>0</td>\n",
       "      <td>0</td>\n",
       "      <td>0</td>\n",
       "      <td>1</td>\n",
       "      <td>0</td>\n",
       "    </tr>\n",
       "    <tr>\n",
       "      <th>1458</th>\n",
       "      <td>0.160959</td>\n",
       "      <td>0.039342</td>\n",
       "      <td>0.565217</td>\n",
       "      <td>0.766667</td>\n",
       "      <td>0.000000</td>\n",
       "      <td>0.022395</td>\n",
       "      <td>0.698100</td>\n",
       "      <td>0.000000</td>\n",
       "      <td>0.336245</td>\n",
       "      <td>0.257084</td>\n",
       "      <td>...</td>\n",
       "      <td>0</td>\n",
       "      <td>0</td>\n",
       "      <td>0</td>\n",
       "      <td>0</td>\n",
       "      <td>1</td>\n",
       "      <td>0</td>\n",
       "      <td>0</td>\n",
       "      <td>0</td>\n",
       "      <td>1</td>\n",
       "      <td>0</td>\n",
       "    </tr>\n",
       "    <tr>\n",
       "      <th>1459</th>\n",
       "      <td>0.184932</td>\n",
       "      <td>0.040370</td>\n",
       "      <td>0.673913</td>\n",
       "      <td>0.250000</td>\n",
       "      <td>0.000000</td>\n",
       "      <td>0.379342</td>\n",
       "      <td>0.196744</td>\n",
       "      <td>0.058219</td>\n",
       "      <td>0.391765</td>\n",
       "      <td>0.318590</td>\n",
       "      <td>...</td>\n",
       "      <td>0</td>\n",
       "      <td>0</td>\n",
       "      <td>0</td>\n",
       "      <td>0</td>\n",
       "      <td>1</td>\n",
       "      <td>0</td>\n",
       "      <td>0</td>\n",
       "      <td>0</td>\n",
       "      <td>1</td>\n",
       "      <td>0</td>\n",
       "    </tr>\n",
       "  </tbody>\n",
       "</table>\n",
       "<p>1443 rows × 283 columns</p>\n",
       "</div>"
      ],
      "text/plain": [
       "      LotFrontage   LotArea  YearBuilt  YearRemodAdd  MasVnrArea  BsmtFinSF1  \\\n",
       "0        0.150685  0.033420   0.949275      0.883333    0.122500    0.322669   \n",
       "1        0.202055  0.038795   0.753623      0.433333    0.000000    0.446984   \n",
       "2        0.160959  0.046507   0.934783      0.866667    0.101250    0.222121   \n",
       "3        0.133562  0.038561   0.311594      0.333333    0.000000    0.098720   \n",
       "4        0.215753  0.060576   0.927536      0.833333    0.218750    0.299360   \n",
       "...           ...       ...        ...           ...         ...         ...   \n",
       "1455     0.140411  0.030929   0.920290      0.833333    0.000000    0.000000   \n",
       "1456     0.219178  0.055505   0.768116      0.633333    0.074375    0.361060   \n",
       "1457     0.154110  0.036187   0.500000      0.933333    0.000000    0.125686   \n",
       "1458     0.160959  0.039342   0.565217      0.766667    0.000000    0.022395   \n",
       "1459     0.184932  0.040370   0.673913      0.250000    0.000000    0.379342   \n",
       "\n",
       "      BsmtFinSF2  BsmtUnfSF  TotalBsmtSF  1stFlrSF  ...  SaleType_ConLI  \\\n",
       "0       0.000000   0.064212     0.266999  0.180373  ...               0   \n",
       "1       0.000000   0.121575     0.393637  0.320663  ...               0   \n",
       "2       0.000000   0.185788     0.286962  0.202488  ...               0   \n",
       "3       0.000000   0.231164     0.235808  0.216655  ...               0   \n",
       "4       0.000000   0.209760     0.357143  0.280235  ...               0   \n",
       "...          ...        ...          ...       ...  ...             ...   \n",
       "1455    0.000000   0.407962     0.297255  0.213891  ...               0   \n",
       "1456    0.110583   0.252140     0.480973  0.600898  ...               0   \n",
       "1457    0.000000   0.375428     0.359326  0.295093  ...               0   \n",
       "1458    0.698100   0.000000     0.336245  0.257084  ...               0   \n",
       "1459    0.196744   0.058219     0.391765  0.318590  ...               0   \n",
       "\n",
       "      SaleType_ConLw  SaleType_New  SaleType_Oth  SaleType_WD  \\\n",
       "0                  0             0             0            1   \n",
       "1                  0             0             0            1   \n",
       "2                  0             0             0            1   \n",
       "3                  0             0             0            1   \n",
       "4                  0             0             0            1   \n",
       "...              ...           ...           ...          ...   \n",
       "1455               0             0             0            1   \n",
       "1456               0             0             0            1   \n",
       "1457               0             0             0            1   \n",
       "1458               0             0             0            1   \n",
       "1459               0             0             0            1   \n",
       "\n",
       "      SaleCondition_AdjLand  SaleCondition_Alloca  SaleCondition_Family  \\\n",
       "0                         0                     0                     0   \n",
       "1                         0                     0                     0   \n",
       "2                         0                     0                     0   \n",
       "3                         0                     0                     0   \n",
       "4                         0                     0                     0   \n",
       "...                     ...                   ...                   ...   \n",
       "1455                      0                     0                     0   \n",
       "1456                      0                     0                     0   \n",
       "1457                      0                     0                     0   \n",
       "1458                      0                     0                     0   \n",
       "1459                      0                     0                     0   \n",
       "\n",
       "      SaleCondition_Normal  SaleCondition_Partial  \n",
       "0                        1                      0  \n",
       "1                        1                      0  \n",
       "2                        1                      0  \n",
       "3                        0                      0  \n",
       "4                        1                      0  \n",
       "...                    ...                    ...  \n",
       "1455                     1                      0  \n",
       "1456                     1                      0  \n",
       "1457                     1                      0  \n",
       "1458                     1                      0  \n",
       "1459                     1                      0  \n",
       "\n",
       "[1443 rows x 283 columns]"
      ]
     },
     "execution_count": 252,
     "metadata": {},
     "output_type": "execute_result"
    }
   ],
   "source": [
    "df"
   ]
  },
  {
   "cell_type": "code",
   "execution_count": 253,
   "metadata": {},
   "outputs": [
    {
     "data": {
      "text/plain": [
       "(1443, 283)"
      ]
     },
     "execution_count": 253,
     "metadata": {},
     "output_type": "execute_result"
    }
   ],
   "source": [
    "df.shape"
   ]
  },
  {
   "cell_type": "code",
   "execution_count": 254,
   "metadata": {},
   "outputs": [
    {
     "data": {
      "text/html": [
       "<div>\n",
       "<style scoped>\n",
       "    .dataframe tbody tr th:only-of-type {\n",
       "        vertical-align: middle;\n",
       "    }\n",
       "\n",
       "    .dataframe tbody tr th {\n",
       "        vertical-align: top;\n",
       "    }\n",
       "\n",
       "    .dataframe thead th {\n",
       "        text-align: right;\n",
       "    }\n",
       "</style>\n",
       "<table border=\"1\" class=\"dataframe\">\n",
       "  <thead>\n",
       "    <tr style=\"text-align: right;\">\n",
       "      <th></th>\n",
       "      <th>LotFrontage</th>\n",
       "      <th>LotArea</th>\n",
       "      <th>YearBuilt</th>\n",
       "      <th>YearRemodAdd</th>\n",
       "      <th>MasVnrArea</th>\n",
       "      <th>BsmtFinSF1</th>\n",
       "      <th>BsmtFinSF2</th>\n",
       "      <th>BsmtUnfSF</th>\n",
       "      <th>TotalBsmtSF</th>\n",
       "      <th>1stFlrSF</th>\n",
       "      <th>...</th>\n",
       "      <th>SaleType_ConLI</th>\n",
       "      <th>SaleType_ConLw</th>\n",
       "      <th>SaleType_New</th>\n",
       "      <th>SaleType_Oth</th>\n",
       "      <th>SaleType_WD</th>\n",
       "      <th>SaleCondition_AdjLand</th>\n",
       "      <th>SaleCondition_Alloca</th>\n",
       "      <th>SaleCondition_Family</th>\n",
       "      <th>SaleCondition_Normal</th>\n",
       "      <th>SaleCondition_Partial</th>\n",
       "    </tr>\n",
       "  </thead>\n",
       "  <tbody>\n",
       "    <tr>\n",
       "      <th>0</th>\n",
       "      <td>0.150685</td>\n",
       "      <td>0.033420</td>\n",
       "      <td>0.949275</td>\n",
       "      <td>0.883333</td>\n",
       "      <td>0.122500</td>\n",
       "      <td>0.322669</td>\n",
       "      <td>0.000000</td>\n",
       "      <td>0.064212</td>\n",
       "      <td>0.266999</td>\n",
       "      <td>0.180373</td>\n",
       "      <td>...</td>\n",
       "      <td>0</td>\n",
       "      <td>0</td>\n",
       "      <td>0</td>\n",
       "      <td>0</td>\n",
       "      <td>1</td>\n",
       "      <td>0</td>\n",
       "      <td>0</td>\n",
       "      <td>0</td>\n",
       "      <td>1</td>\n",
       "      <td>0</td>\n",
       "    </tr>\n",
       "    <tr>\n",
       "      <th>1</th>\n",
       "      <td>0.202055</td>\n",
       "      <td>0.038795</td>\n",
       "      <td>0.753623</td>\n",
       "      <td>0.433333</td>\n",
       "      <td>0.000000</td>\n",
       "      <td>0.446984</td>\n",
       "      <td>0.000000</td>\n",
       "      <td>0.121575</td>\n",
       "      <td>0.393637</td>\n",
       "      <td>0.320663</td>\n",
       "      <td>...</td>\n",
       "      <td>0</td>\n",
       "      <td>0</td>\n",
       "      <td>0</td>\n",
       "      <td>0</td>\n",
       "      <td>1</td>\n",
       "      <td>0</td>\n",
       "      <td>0</td>\n",
       "      <td>0</td>\n",
       "      <td>1</td>\n",
       "      <td>0</td>\n",
       "    </tr>\n",
       "    <tr>\n",
       "      <th>2</th>\n",
       "      <td>0.160959</td>\n",
       "      <td>0.046507</td>\n",
       "      <td>0.934783</td>\n",
       "      <td>0.866667</td>\n",
       "      <td>0.101250</td>\n",
       "      <td>0.222121</td>\n",
       "      <td>0.000000</td>\n",
       "      <td>0.185788</td>\n",
       "      <td>0.286962</td>\n",
       "      <td>0.202488</td>\n",
       "      <td>...</td>\n",
       "      <td>0</td>\n",
       "      <td>0</td>\n",
       "      <td>0</td>\n",
       "      <td>0</td>\n",
       "      <td>1</td>\n",
       "      <td>0</td>\n",
       "      <td>0</td>\n",
       "      <td>0</td>\n",
       "      <td>1</td>\n",
       "      <td>0</td>\n",
       "    </tr>\n",
       "    <tr>\n",
       "      <th>3</th>\n",
       "      <td>0.133562</td>\n",
       "      <td>0.038561</td>\n",
       "      <td>0.311594</td>\n",
       "      <td>0.333333</td>\n",
       "      <td>0.000000</td>\n",
       "      <td>0.098720</td>\n",
       "      <td>0.000000</td>\n",
       "      <td>0.231164</td>\n",
       "      <td>0.235808</td>\n",
       "      <td>0.216655</td>\n",
       "      <td>...</td>\n",
       "      <td>0</td>\n",
       "      <td>0</td>\n",
       "      <td>0</td>\n",
       "      <td>0</td>\n",
       "      <td>1</td>\n",
       "      <td>0</td>\n",
       "      <td>0</td>\n",
       "      <td>0</td>\n",
       "      <td>0</td>\n",
       "      <td>0</td>\n",
       "    </tr>\n",
       "    <tr>\n",
       "      <th>4</th>\n",
       "      <td>0.215753</td>\n",
       "      <td>0.060576</td>\n",
       "      <td>0.927536</td>\n",
       "      <td>0.833333</td>\n",
       "      <td>0.218750</td>\n",
       "      <td>0.299360</td>\n",
       "      <td>0.000000</td>\n",
       "      <td>0.209760</td>\n",
       "      <td>0.357143</td>\n",
       "      <td>0.280235</td>\n",
       "      <td>...</td>\n",
       "      <td>0</td>\n",
       "      <td>0</td>\n",
       "      <td>0</td>\n",
       "      <td>0</td>\n",
       "      <td>1</td>\n",
       "      <td>0</td>\n",
       "      <td>0</td>\n",
       "      <td>0</td>\n",
       "      <td>1</td>\n",
       "      <td>0</td>\n",
       "    </tr>\n",
       "    <tr>\n",
       "      <th>...</th>\n",
       "      <td>...</td>\n",
       "      <td>...</td>\n",
       "      <td>...</td>\n",
       "      <td>...</td>\n",
       "      <td>...</td>\n",
       "      <td>...</td>\n",
       "      <td>...</td>\n",
       "      <td>...</td>\n",
       "      <td>...</td>\n",
       "      <td>...</td>\n",
       "      <td>...</td>\n",
       "      <td>...</td>\n",
       "      <td>...</td>\n",
       "      <td>...</td>\n",
       "      <td>...</td>\n",
       "      <td>...</td>\n",
       "      <td>...</td>\n",
       "      <td>...</td>\n",
       "      <td>...</td>\n",
       "      <td>...</td>\n",
       "      <td>...</td>\n",
       "    </tr>\n",
       "    <tr>\n",
       "      <th>1455</th>\n",
       "      <td>0.140411</td>\n",
       "      <td>0.030929</td>\n",
       "      <td>0.920290</td>\n",
       "      <td>0.833333</td>\n",
       "      <td>0.000000</td>\n",
       "      <td>0.000000</td>\n",
       "      <td>0.000000</td>\n",
       "      <td>0.407962</td>\n",
       "      <td>0.297255</td>\n",
       "      <td>0.213891</td>\n",
       "      <td>...</td>\n",
       "      <td>0</td>\n",
       "      <td>0</td>\n",
       "      <td>0</td>\n",
       "      <td>0</td>\n",
       "      <td>1</td>\n",
       "      <td>0</td>\n",
       "      <td>0</td>\n",
       "      <td>0</td>\n",
       "      <td>1</td>\n",
       "      <td>0</td>\n",
       "    </tr>\n",
       "    <tr>\n",
       "      <th>1456</th>\n",
       "      <td>0.219178</td>\n",
       "      <td>0.055505</td>\n",
       "      <td>0.768116</td>\n",
       "      <td>0.633333</td>\n",
       "      <td>0.074375</td>\n",
       "      <td>0.361060</td>\n",
       "      <td>0.110583</td>\n",
       "      <td>0.252140</td>\n",
       "      <td>0.480973</td>\n",
       "      <td>0.600898</td>\n",
       "      <td>...</td>\n",
       "      <td>0</td>\n",
       "      <td>0</td>\n",
       "      <td>0</td>\n",
       "      <td>0</td>\n",
       "      <td>1</td>\n",
       "      <td>0</td>\n",
       "      <td>0</td>\n",
       "      <td>0</td>\n",
       "      <td>1</td>\n",
       "      <td>0</td>\n",
       "    </tr>\n",
       "    <tr>\n",
       "      <th>1457</th>\n",
       "      <td>0.154110</td>\n",
       "      <td>0.036187</td>\n",
       "      <td>0.500000</td>\n",
       "      <td>0.933333</td>\n",
       "      <td>0.000000</td>\n",
       "      <td>0.125686</td>\n",
       "      <td>0.000000</td>\n",
       "      <td>0.375428</td>\n",
       "      <td>0.359326</td>\n",
       "      <td>0.295093</td>\n",
       "      <td>...</td>\n",
       "      <td>0</td>\n",
       "      <td>0</td>\n",
       "      <td>0</td>\n",
       "      <td>0</td>\n",
       "      <td>1</td>\n",
       "      <td>0</td>\n",
       "      <td>0</td>\n",
       "      <td>0</td>\n",
       "      <td>1</td>\n",
       "      <td>0</td>\n",
       "    </tr>\n",
       "    <tr>\n",
       "      <th>1458</th>\n",
       "      <td>0.160959</td>\n",
       "      <td>0.039342</td>\n",
       "      <td>0.565217</td>\n",
       "      <td>0.766667</td>\n",
       "      <td>0.000000</td>\n",
       "      <td>0.022395</td>\n",
       "      <td>0.698100</td>\n",
       "      <td>0.000000</td>\n",
       "      <td>0.336245</td>\n",
       "      <td>0.257084</td>\n",
       "      <td>...</td>\n",
       "      <td>0</td>\n",
       "      <td>0</td>\n",
       "      <td>0</td>\n",
       "      <td>0</td>\n",
       "      <td>1</td>\n",
       "      <td>0</td>\n",
       "      <td>0</td>\n",
       "      <td>0</td>\n",
       "      <td>1</td>\n",
       "      <td>0</td>\n",
       "    </tr>\n",
       "    <tr>\n",
       "      <th>1459</th>\n",
       "      <td>0.184932</td>\n",
       "      <td>0.040370</td>\n",
       "      <td>0.673913</td>\n",
       "      <td>0.250000</td>\n",
       "      <td>0.000000</td>\n",
       "      <td>0.379342</td>\n",
       "      <td>0.196744</td>\n",
       "      <td>0.058219</td>\n",
       "      <td>0.391765</td>\n",
       "      <td>0.318590</td>\n",
       "      <td>...</td>\n",
       "      <td>0</td>\n",
       "      <td>0</td>\n",
       "      <td>0</td>\n",
       "      <td>0</td>\n",
       "      <td>1</td>\n",
       "      <td>0</td>\n",
       "      <td>0</td>\n",
       "      <td>0</td>\n",
       "      <td>1</td>\n",
       "      <td>0</td>\n",
       "    </tr>\n",
       "  </tbody>\n",
       "</table>\n",
       "<p>1443 rows × 282 columns</p>\n",
       "</div>"
      ],
      "text/plain": [
       "      LotFrontage   LotArea  YearBuilt  YearRemodAdd  MasVnrArea  BsmtFinSF1  \\\n",
       "0        0.150685  0.033420   0.949275      0.883333    0.122500    0.322669   \n",
       "1        0.202055  0.038795   0.753623      0.433333    0.000000    0.446984   \n",
       "2        0.160959  0.046507   0.934783      0.866667    0.101250    0.222121   \n",
       "3        0.133562  0.038561   0.311594      0.333333    0.000000    0.098720   \n",
       "4        0.215753  0.060576   0.927536      0.833333    0.218750    0.299360   \n",
       "...           ...       ...        ...           ...         ...         ...   \n",
       "1455     0.140411  0.030929   0.920290      0.833333    0.000000    0.000000   \n",
       "1456     0.219178  0.055505   0.768116      0.633333    0.074375    0.361060   \n",
       "1457     0.154110  0.036187   0.500000      0.933333    0.000000    0.125686   \n",
       "1458     0.160959  0.039342   0.565217      0.766667    0.000000    0.022395   \n",
       "1459     0.184932  0.040370   0.673913      0.250000    0.000000    0.379342   \n",
       "\n",
       "      BsmtFinSF2  BsmtUnfSF  TotalBsmtSF  1stFlrSF  ...  SaleType_ConLI  \\\n",
       "0       0.000000   0.064212     0.266999  0.180373  ...               0   \n",
       "1       0.000000   0.121575     0.393637  0.320663  ...               0   \n",
       "2       0.000000   0.185788     0.286962  0.202488  ...               0   \n",
       "3       0.000000   0.231164     0.235808  0.216655  ...               0   \n",
       "4       0.000000   0.209760     0.357143  0.280235  ...               0   \n",
       "...          ...        ...          ...       ...  ...             ...   \n",
       "1455    0.000000   0.407962     0.297255  0.213891  ...               0   \n",
       "1456    0.110583   0.252140     0.480973  0.600898  ...               0   \n",
       "1457    0.000000   0.375428     0.359326  0.295093  ...               0   \n",
       "1458    0.698100   0.000000     0.336245  0.257084  ...               0   \n",
       "1459    0.196744   0.058219     0.391765  0.318590  ...               0   \n",
       "\n",
       "      SaleType_ConLw  SaleType_New  SaleType_Oth  SaleType_WD  \\\n",
       "0                  0             0             0            1   \n",
       "1                  0             0             0            1   \n",
       "2                  0             0             0            1   \n",
       "3                  0             0             0            1   \n",
       "4                  0             0             0            1   \n",
       "...              ...           ...           ...          ...   \n",
       "1455               0             0             0            1   \n",
       "1456               0             0             0            1   \n",
       "1457               0             0             0            1   \n",
       "1458               0             0             0            1   \n",
       "1459               0             0             0            1   \n",
       "\n",
       "      SaleCondition_AdjLand  SaleCondition_Alloca  SaleCondition_Family  \\\n",
       "0                         0                     0                     0   \n",
       "1                         0                     0                     0   \n",
       "2                         0                     0                     0   \n",
       "3                         0                     0                     0   \n",
       "4                         0                     0                     0   \n",
       "...                     ...                   ...                   ...   \n",
       "1455                      0                     0                     0   \n",
       "1456                      0                     0                     0   \n",
       "1457                      0                     0                     0   \n",
       "1458                      0                     0                     0   \n",
       "1459                      0                     0                     0   \n",
       "\n",
       "      SaleCondition_Normal  SaleCondition_Partial  \n",
       "0                        1                      0  \n",
       "1                        1                      0  \n",
       "2                        1                      0  \n",
       "3                        0                      0  \n",
       "4                        1                      0  \n",
       "...                    ...                    ...  \n",
       "1455                     1                      0  \n",
       "1456                     1                      0  \n",
       "1457                     1                      0  \n",
       "1458                     1                      0  \n",
       "1459                     1                      0  \n",
       "\n",
       "[1443 rows x 282 columns]"
      ]
     },
     "execution_count": 254,
     "metadata": {},
     "output_type": "execute_result"
    }
   ],
   "source": [
    "# Feature variables.\n",
    "X = df.copy().drop(columns='SalePrice')\n",
    "X"
   ]
  },
  {
   "cell_type": "code",
   "execution_count": 255,
   "metadata": {
    "scrolled": true
   },
   "outputs": [
    {
     "data": {
      "text/plain": [
       "0       12.247694\n",
       "1       12.109011\n",
       "2       12.317167\n",
       "3       11.849398\n",
       "4       12.429216\n",
       "          ...    \n",
       "1455    12.072541\n",
       "1456    12.254863\n",
       "1457    12.493130\n",
       "1458    11.864462\n",
       "1459    11.901583\n",
       "Name: SalePrice, Length: 1443, dtype: float64"
      ]
     },
     "execution_count": 255,
     "metadata": {},
     "output_type": "execute_result"
    }
   ],
   "source": [
    "# Response variable.\n",
    "y = df['SalePrice'].copy()\n",
    "y"
   ]
  },
  {
   "cell_type": "markdown",
   "metadata": {},
   "source": [
    "# 2. Machine Learning and Algorithms\n",
    "\n",
    "### 2-1. Feature Selection\n",
    "As visualized above, there are 282 features left after extensive data preprocessing and cleaning. In order to identify the best set of features that would enable our model to accurately predict the ```SalePrice```, we need to perform the feature selection process. From [Scikit-Learn](https://scikit-learn.org/stable/modules/feature_selection.html), we attempted three separate methods:\n",
    "\n",
    "1. VarianceThreshold \n",
    "2. SelectFromModel using Lasso Regression\n",
    "3. RFE\n",
    "\n",
    "After comparing each method's impact on the R^2 scores and MSE values for the ML regression methods below, we came to the conclusion that the dataframe (df) should be left as is, without any feature selection. A visual of this is in ```feature_selection_attempt.ipynb``` with the VarianceThreshold() method, where the R^2 values dropped significantly after the removal of some features."
   ]
  },
  {
   "cell_type": "markdown",
   "metadata": {},
   "source": [
    "### 2-2. Split the Dataset "
   ]
  },
  {
   "cell_type": "code",
   "execution_count": 256,
   "metadata": {},
   "outputs": [],
   "source": [
    "from sklearn.model_selection import train_test_split\n",
    "X_train, X_test, y_train, y_test = train_test_split(X, y, random_state = 21, test_size = 0.2)"
   ]
  },
  {
   "cell_type": "code",
   "execution_count": 257,
   "metadata": {},
   "outputs": [
    {
     "data": {
      "text/html": [
       "<div>\n",
       "<style scoped>\n",
       "    .dataframe tbody tr th:only-of-type {\n",
       "        vertical-align: middle;\n",
       "    }\n",
       "\n",
       "    .dataframe tbody tr th {\n",
       "        vertical-align: top;\n",
       "    }\n",
       "\n",
       "    .dataframe thead th {\n",
       "        text-align: right;\n",
       "    }\n",
       "</style>\n",
       "<table border=\"1\" class=\"dataframe\">\n",
       "  <thead>\n",
       "    <tr style=\"text-align: right;\">\n",
       "      <th></th>\n",
       "      <th>LotFrontage</th>\n",
       "      <th>LotArea</th>\n",
       "      <th>YearBuilt</th>\n",
       "      <th>YearRemodAdd</th>\n",
       "      <th>MasVnrArea</th>\n",
       "      <th>BsmtFinSF1</th>\n",
       "      <th>BsmtFinSF2</th>\n",
       "      <th>BsmtUnfSF</th>\n",
       "      <th>TotalBsmtSF</th>\n",
       "      <th>1stFlrSF</th>\n",
       "      <th>...</th>\n",
       "      <th>SaleType_ConLI</th>\n",
       "      <th>SaleType_ConLw</th>\n",
       "      <th>SaleType_New</th>\n",
       "      <th>SaleType_Oth</th>\n",
       "      <th>SaleType_WD</th>\n",
       "      <th>SaleCondition_AdjLand</th>\n",
       "      <th>SaleCondition_Alloca</th>\n",
       "      <th>SaleCondition_Family</th>\n",
       "      <th>SaleCondition_Normal</th>\n",
       "      <th>SaleCondition_Partial</th>\n",
       "    </tr>\n",
       "  </thead>\n",
       "  <tbody>\n",
       "    <tr>\n",
       "      <th>90</th>\n",
       "      <td>0.133562</td>\n",
       "      <td>0.027577</td>\n",
       "      <td>0.565217</td>\n",
       "      <td>0.000000</td>\n",
       "      <td>0.000000</td>\n",
       "      <td>0.000000</td>\n",
       "      <td>0.0</td>\n",
       "      <td>0.000000</td>\n",
       "      <td>0.000000</td>\n",
       "      <td>0.243953</td>\n",
       "      <td>...</td>\n",
       "      <td>0</td>\n",
       "      <td>0</td>\n",
       "      <td>0</td>\n",
       "      <td>0</td>\n",
       "      <td>1</td>\n",
       "      <td>0</td>\n",
       "      <td>0</td>\n",
       "      <td>0</td>\n",
       "      <td>1</td>\n",
       "      <td>0</td>\n",
       "    </tr>\n",
       "    <tr>\n",
       "      <th>84</th>\n",
       "      <td>0.164384</td>\n",
       "      <td>0.033794</td>\n",
       "      <td>0.891304</td>\n",
       "      <td>0.766667</td>\n",
       "      <td>0.013750</td>\n",
       "      <td>0.000000</td>\n",
       "      <td>0.0</td>\n",
       "      <td>0.164384</td>\n",
       "      <td>0.119775</td>\n",
       "      <td>0.162405</td>\n",
       "      <td>...</td>\n",
       "      <td>0</td>\n",
       "      <td>0</td>\n",
       "      <td>0</td>\n",
       "      <td>0</td>\n",
       "      <td>1</td>\n",
       "      <td>0</td>\n",
       "      <td>0</td>\n",
       "      <td>0</td>\n",
       "      <td>1</td>\n",
       "      <td>0</td>\n",
       "    </tr>\n",
       "    <tr>\n",
       "      <th>506</th>\n",
       "      <td>0.202055</td>\n",
       "      <td>0.038580</td>\n",
       "      <td>0.876812</td>\n",
       "      <td>0.733333</td>\n",
       "      <td>0.078125</td>\n",
       "      <td>0.173675</td>\n",
       "      <td>0.0</td>\n",
       "      <td>0.169949</td>\n",
       "      <td>0.242358</td>\n",
       "      <td>0.252592</td>\n",
       "      <td>...</td>\n",
       "      <td>0</td>\n",
       "      <td>0</td>\n",
       "      <td>0</td>\n",
       "      <td>0</td>\n",
       "      <td>1</td>\n",
       "      <td>0</td>\n",
       "      <td>0</td>\n",
       "      <td>0</td>\n",
       "      <td>1</td>\n",
       "      <td>0</td>\n",
       "    </tr>\n",
       "    <tr>\n",
       "      <th>516</th>\n",
       "      <td>0.164384</td>\n",
       "      <td>0.042759</td>\n",
       "      <td>0.724638</td>\n",
       "      <td>0.366667</td>\n",
       "      <td>0.208125</td>\n",
       "      <td>0.000000</td>\n",
       "      <td>0.0</td>\n",
       "      <td>0.294949</td>\n",
       "      <td>0.214910</td>\n",
       "      <td>0.360746</td>\n",
       "      <td>...</td>\n",
       "      <td>0</td>\n",
       "      <td>0</td>\n",
       "      <td>0</td>\n",
       "      <td>0</td>\n",
       "      <td>0</td>\n",
       "      <td>0</td>\n",
       "      <td>0</td>\n",
       "      <td>0</td>\n",
       "      <td>0</td>\n",
       "      <td>0</td>\n",
       "    </tr>\n",
       "    <tr>\n",
       "      <th>1195</th>\n",
       "      <td>0.102740</td>\n",
       "      <td>0.031452</td>\n",
       "      <td>0.963768</td>\n",
       "      <td>0.916667</td>\n",
       "      <td>0.000000</td>\n",
       "      <td>0.000000</td>\n",
       "      <td>0.0</td>\n",
       "      <td>0.311644</td>\n",
       "      <td>0.227074</td>\n",
       "      <td>0.136144</td>\n",
       "      <td>...</td>\n",
       "      <td>0</td>\n",
       "      <td>0</td>\n",
       "      <td>0</td>\n",
       "      <td>0</td>\n",
       "      <td>1</td>\n",
       "      <td>0</td>\n",
       "      <td>0</td>\n",
       "      <td>0</td>\n",
       "      <td>1</td>\n",
       "      <td>0</td>\n",
       "    </tr>\n",
       "  </tbody>\n",
       "</table>\n",
       "<p>5 rows × 282 columns</p>\n",
       "</div>"
      ],
      "text/plain": [
       "      LotFrontage   LotArea  YearBuilt  YearRemodAdd  MasVnrArea  BsmtFinSF1  \\\n",
       "90       0.133562  0.027577   0.565217      0.000000    0.000000    0.000000   \n",
       "84       0.164384  0.033794   0.891304      0.766667    0.013750    0.000000   \n",
       "506      0.202055  0.038580   0.876812      0.733333    0.078125    0.173675   \n",
       "516      0.164384  0.042759   0.724638      0.366667    0.208125    0.000000   \n",
       "1195     0.102740  0.031452   0.963768      0.916667    0.000000    0.000000   \n",
       "\n",
       "      BsmtFinSF2  BsmtUnfSF  TotalBsmtSF  1stFlrSF  ...  SaleType_ConLI  \\\n",
       "90           0.0   0.000000     0.000000  0.243953  ...               0   \n",
       "84           0.0   0.164384     0.119775  0.162405  ...               0   \n",
       "506          0.0   0.169949     0.242358  0.252592  ...               0   \n",
       "516          0.0   0.294949     0.214910  0.360746  ...               0   \n",
       "1195         0.0   0.311644     0.227074  0.136144  ...               0   \n",
       "\n",
       "      SaleType_ConLw  SaleType_New  SaleType_Oth  SaleType_WD  \\\n",
       "90                 0             0             0            1   \n",
       "84                 0             0             0            1   \n",
       "506                0             0             0            1   \n",
       "516                0             0             0            0   \n",
       "1195               0             0             0            1   \n",
       "\n",
       "      SaleCondition_AdjLand  SaleCondition_Alloca  SaleCondition_Family  \\\n",
       "90                        0                     0                     0   \n",
       "84                        0                     0                     0   \n",
       "506                       0                     0                     0   \n",
       "516                       0                     0                     0   \n",
       "1195                      0                     0                     0   \n",
       "\n",
       "      SaleCondition_Normal  SaleCondition_Partial  \n",
       "90                       1                      0  \n",
       "84                       1                      0  \n",
       "506                      1                      0  \n",
       "516                      0                      0  \n",
       "1195                     1                      0  \n",
       "\n",
       "[5 rows x 282 columns]"
      ]
     },
     "execution_count": 257,
     "metadata": {},
     "output_type": "execute_result"
    }
   ],
   "source": [
    "X_train.head()"
   ]
  },
  {
   "cell_type": "code",
   "execution_count": 258,
   "metadata": {},
   "outputs": [
    {
     "data": {
      "text/plain": [
       "90      11.607326\n",
       "84      12.034691\n",
       "506     12.278393\n",
       "516     11.970350\n",
       "1195    12.078239\n",
       "Name: SalePrice, dtype: float64"
      ]
     },
     "execution_count": 258,
     "metadata": {},
     "output_type": "execute_result"
    }
   ],
   "source": [
    "y_train.head()"
   ]
  },
  {
   "cell_type": "markdown",
   "metadata": {},
   "source": [
    "### 2-3. Regression Methods\n",
    "\n",
    "Each regression method has been researched and chosen for its capabilities in supervised learning, especially regression. In order to avoid using biased models, 10-fold cross validation has been used to generalize each model based on the given data set. Specifically, the R^2 score and MSE has been obtained for each iteration of the cross validation, as well as the average of both metrics."
   ]
  },
  {
   "cell_type": "markdown",
   "metadata": {},
   "source": [
    "#### 2-3-1. Ridge Regression\n",
    "This model solves a regression model where the loss function is the linear least squares function and regularization is given by the L2-norm."
   ]
  },
  {
   "cell_type": "code",
   "execution_count": 259,
   "metadata": {},
   "outputs": [],
   "source": [
    "from sklearn.linear_model import Ridge\n",
    "ridgeReg = Ridge(alpha = 0.5)\n",
    "# ridgeReg.fit(X_train, y_train)\n",
    "# print('Ridge')\n",
    "# print(ridgeReg.score(X_test, y_test)) # returns R^2 score"
   ]
  },
  {
   "cell_type": "code",
   "execution_count": 260,
   "metadata": {},
   "outputs": [
    {
     "name": "stdout",
     "output_type": "stream",
     "text": [
      "R^2 Score: [0.9045374  0.90947963 0.90733268 0.90660318 0.92476194 0.90197687\n",
      " 0.91748125 0.91208179 0.87138431 0.92115005]\n",
      "\n",
      "\n",
      "Mean R^2 Score: 0.9076789095094249\n",
      "\n",
      "\n",
      "MSE: [0.01269437 0.0127063  0.01380695 0.01387421 0.01336772 0.01462665\n",
      " 0.01357315 0.01402238 0.02127065 0.01327278]\n",
      "\n",
      "\n",
      "Mean MSE Value: 0.014321515224918497\n"
     ]
    }
   ],
   "source": [
    "from sklearn.model_selection import KFold\n",
    "from sklearn.model_selection import cross_val_score\n",
    "from statistics import *\n",
    "\n",
    "cv = KFold(n_splits=10, random_state=21, shuffle=True)\n",
    "\n",
    "r2_ridge = cross_val_score(ridgeReg, X, y, scoring='r2', cv=cv, n_jobs=-1)\n",
    "mse_ridge = cross_val_score(ridgeReg, X, y, scoring='neg_mean_squared_error', cv=cv, n_jobs=-1)\n",
    "\n",
    "print(\"R^2 Score:\", r2_ridge)\n",
    "print(\"\\n\")\n",
    "print(\"Mean R^2 Score:\", mean(r2_ridge))\n",
    "print(\"\\n\")\n",
    "print(\"MSE:\", abs(mse_ridge))\n",
    "print(\"\\n\")\n",
    "print(\"Mean MSE Value:\", abs(mean(mse_ridge)))"
   ]
  },
  {
   "cell_type": "markdown",
   "metadata": {},
   "source": [
    "#### 2-3-2. Lasso Regression"
   ]
  },
  {
   "cell_type": "markdown",
   "metadata": {},
   "source": [
    "This model solves a regression model where the loss function is the linear least squares function and regularization is given by the L1-norm."
   ]
  },
  {
   "cell_type": "code",
   "execution_count": 261,
   "metadata": {},
   "outputs": [],
   "source": [
    "from sklearn.linear_model import Lasso\n",
    "lassoReg = Lasso(alpha = 0.5)\n",
    "# lassoReg.fit(X_train, y_train)\n",
    "# print('Lasso')\n",
    "# print(lassoReg.score(X_test, y_test)) # returns R^2 score"
   ]
  },
  {
   "cell_type": "code",
   "execution_count": 262,
   "metadata": {},
   "outputs": [
    {
     "name": "stdout",
     "output_type": "stream",
     "text": [
      "R^2 Score: [-1.28050776e-02 -1.07636039e-05 -6.14948583e-05 -1.26188294e-06\n",
      " -5.83888152e-03 -8.92347894e-05 -1.10165790e-02 -2.42146147e-02\n",
      " -3.38708753e-03 -4.16809986e-04]\n",
      "\n",
      "\n",
      "Mean R^2 Score: -0.005784180554372997\n",
      "\n",
      "\n",
      "MSE: [0.13468025 0.14037102 0.14900402 0.14855134 0.17870968 0.14922959\n",
      " 0.16629767 0.16335552 0.16594159 0.16839979]\n",
      "\n",
      "\n",
      "Mean MSE Value: 0.15645404747634253\n"
     ]
    }
   ],
   "source": [
    "r2_lasso = cross_val_score(lassoReg, X, y, scoring='r2', cv=cv, n_jobs=-1)\n",
    "mse_lasso = cross_val_score(lassoReg, X, y, scoring='neg_mean_squared_error', cv=cv, n_jobs=-1)\n",
    "\n",
    "print(\"R^2 Score:\", r2_lasso)\n",
    "print(\"\\n\")\n",
    "print(\"Mean R^2 Score:\", mean(r2_lasso))\n",
    "print(\"\\n\")\n",
    "print(\"MSE:\", abs(mse_lasso))\n",
    "print(\"\\n\")\n",
    "print(\"Mean MSE Value:\", abs(mean(mse_lasso)))"
   ]
  },
  {
   "cell_type": "markdown",
   "metadata": {},
   "source": [
    "#### 2-3-3. XGBoost Regression\n",
    "This model is an implementation of the gradient boosting trees algorithm for regression-based data."
   ]
  },
  {
   "cell_type": "code",
   "execution_count": 263,
   "metadata": {},
   "outputs": [
    {
     "ename": "ModuleNotFoundError",
     "evalue": "No module named 'xgboost'",
     "output_type": "error",
     "traceback": [
      "\u001b[0;31m---------------------------------------------------------------------------\u001b[0m",
      "\u001b[0;31mModuleNotFoundError\u001b[0m                       Traceback (most recent call last)",
      "\u001b[0;32m<ipython-input-263-cf04e55cce1c>\u001b[0m in \u001b[0;36m<module>\u001b[0;34m\u001b[0m\n\u001b[1;32m      1\u001b[0m \u001b[0;31m# !pip install xgboost\u001b[0m\u001b[0;34m\u001b[0m\u001b[0;34m\u001b[0m\u001b[0;34m\u001b[0m\u001b[0m\n\u001b[0;32m----> 2\u001b[0;31m \u001b[0;32mfrom\u001b[0m \u001b[0mxgboost\u001b[0m \u001b[0;32mimport\u001b[0m \u001b[0mXGBRegressor\u001b[0m\u001b[0;34m\u001b[0m\u001b[0;34m\u001b[0m\u001b[0m\n\u001b[0m\u001b[1;32m      3\u001b[0m \u001b[0;34m\u001b[0m\u001b[0m\n\u001b[1;32m      4\u001b[0m \u001b[0mXGB\u001b[0m \u001b[0;34m=\u001b[0m \u001b[0mXGBRegressor\u001b[0m\u001b[0;34m(\u001b[0m\u001b[0;34m)\u001b[0m\u001b[0;34m\u001b[0m\u001b[0;34m\u001b[0m\u001b[0m\n\u001b[1;32m      5\u001b[0m \u001b[0;31m# XGB.fit(X_train, y_train)\u001b[0m\u001b[0;34m\u001b[0m\u001b[0;34m\u001b[0m\u001b[0;34m\u001b[0m\u001b[0m\n",
      "\u001b[0;31mModuleNotFoundError\u001b[0m: No module named 'xgboost'"
     ]
    }
   ],
   "source": [
    "# !pip install xgboost\n",
    "from xgboost import XGBRegressor\n",
    "\n",
    "XGB = XGBRegressor()\n",
    "# XGB.fit(X_train, y_train)\n",
    "# print(XGB.score(X_test, y_test))"
   ]
  },
  {
   "cell_type": "code",
   "execution_count": 264,
   "metadata": {},
   "outputs": [
    {
     "ename": "NameError",
     "evalue": "name 'XGB' is not defined",
     "output_type": "error",
     "traceback": [
      "\u001b[0;31m---------------------------------------------------------------------------\u001b[0m",
      "\u001b[0;31mNameError\u001b[0m                                 Traceback (most recent call last)",
      "\u001b[0;32m<ipython-input-264-8747e0e1bfb9>\u001b[0m in \u001b[0;36m<module>\u001b[0;34m\u001b[0m\n\u001b[0;32m----> 1\u001b[0;31m \u001b[0mr2_XGB\u001b[0m \u001b[0;34m=\u001b[0m \u001b[0mcross_val_score\u001b[0m\u001b[0;34m(\u001b[0m\u001b[0mXGB\u001b[0m\u001b[0;34m,\u001b[0m \u001b[0mX\u001b[0m\u001b[0;34m,\u001b[0m \u001b[0my\u001b[0m\u001b[0;34m,\u001b[0m \u001b[0mscoring\u001b[0m\u001b[0;34m=\u001b[0m\u001b[0;34m'r2'\u001b[0m\u001b[0;34m,\u001b[0m \u001b[0mcv\u001b[0m\u001b[0;34m=\u001b[0m\u001b[0mcv\u001b[0m\u001b[0;34m,\u001b[0m \u001b[0mn_jobs\u001b[0m\u001b[0;34m=\u001b[0m\u001b[0;34m-\u001b[0m\u001b[0;36m1\u001b[0m\u001b[0;34m)\u001b[0m\u001b[0;34m\u001b[0m\u001b[0;34m\u001b[0m\u001b[0m\n\u001b[0m\u001b[1;32m      2\u001b[0m \u001b[0mmse_XGB\u001b[0m \u001b[0;34m=\u001b[0m \u001b[0mcross_val_score\u001b[0m\u001b[0;34m(\u001b[0m\u001b[0mXGB\u001b[0m\u001b[0;34m,\u001b[0m \u001b[0mX\u001b[0m\u001b[0;34m,\u001b[0m \u001b[0my\u001b[0m\u001b[0;34m,\u001b[0m \u001b[0mscoring\u001b[0m\u001b[0;34m=\u001b[0m\u001b[0;34m'neg_mean_squared_error'\u001b[0m\u001b[0;34m,\u001b[0m \u001b[0mcv\u001b[0m\u001b[0;34m=\u001b[0m\u001b[0mcv\u001b[0m\u001b[0;34m,\u001b[0m \u001b[0mn_jobs\u001b[0m\u001b[0;34m=\u001b[0m\u001b[0;34m-\u001b[0m\u001b[0;36m1\u001b[0m\u001b[0;34m)\u001b[0m\u001b[0;34m\u001b[0m\u001b[0;34m\u001b[0m\u001b[0m\n\u001b[1;32m      3\u001b[0m \u001b[0;34m\u001b[0m\u001b[0m\n\u001b[1;32m      4\u001b[0m \u001b[0mprint\u001b[0m\u001b[0;34m(\u001b[0m\u001b[0;34m\"R^2 Score:\"\u001b[0m\u001b[0;34m,\u001b[0m \u001b[0mr2_XGB\u001b[0m\u001b[0;34m)\u001b[0m\u001b[0;34m\u001b[0m\u001b[0;34m\u001b[0m\u001b[0m\n\u001b[1;32m      5\u001b[0m \u001b[0mprint\u001b[0m\u001b[0;34m(\u001b[0m\u001b[0;34m\"\\n\"\u001b[0m\u001b[0;34m)\u001b[0m\u001b[0;34m\u001b[0m\u001b[0;34m\u001b[0m\u001b[0m\n",
      "\u001b[0;31mNameError\u001b[0m: name 'XGB' is not defined"
     ]
    }
   ],
   "source": [
    "r2_XGB = cross_val_score(XGB, X, y, scoring='r2', cv=cv, n_jobs=-1)\n",
    "mse_XGB = cross_val_score(XGB, X, y, scoring='neg_mean_squared_error', cv=cv, n_jobs=-1)\n",
    "\n",
    "print(\"R^2 Score:\", r2_XGB)\n",
    "print(\"\\n\")\n",
    "print(\"Mean R^2 Score:\", mean(r2_XGB))\n",
    "print(\"\\n\")\n",
    "print(\"MSE:\", abs(mse_XGB))\n",
    "print(\"\\n\")\n",
    "print(\"Mean MSE Value:\", abs(mean(mse_XGB)))"
   ]
  },
  {
   "cell_type": "markdown",
   "metadata": {},
   "source": [
    "#### 2-3-4. KNN Regression\n",
    "This model performs regression based on k-nearest neighbors, where the target variable is predicted by local interpolation of the nearest neighbors in the training set."
   ]
  },
  {
   "cell_type": "code",
   "execution_count": 265,
   "metadata": {},
   "outputs": [],
   "source": [
    "from sklearn.neighbors import KNeighborsRegressor\n",
    "\n",
    "KNN = KNeighborsRegressor()\n",
    "# KNN.fit(X_train,y_train)\n",
    "# print(KNN.score(X_test, y_test))"
   ]
  },
  {
   "cell_type": "code",
   "execution_count": 266,
   "metadata": {},
   "outputs": [
    {
     "name": "stdout",
     "output_type": "stream",
     "text": [
      "R^2 Score: [0.75661841 0.71840843 0.80678445 0.73710456 0.7700033  0.78805909\n",
      " 0.81761206 0.80627057 0.74481492 0.8029812 ]\n",
      "\n",
      "\n",
      "Mean R^2 Score: 0.7748656989532424\n",
      "\n",
      "\n",
      "MSE: [0.03236427 0.03952687 0.02878812 0.03905342 0.04086404 0.03162503\n",
      " 0.03000019 0.03089857 0.04220287 0.0331641 ]\n",
      "\n",
      "\n",
      "Mean MSE Value: 0.03484874906043082\n"
     ]
    }
   ],
   "source": [
    "r2_KNN = cross_val_score(KNN, X, y, scoring='r2', cv=cv, n_jobs=-1)\n",
    "mse_KNN = cross_val_score(KNN, X, y, scoring='neg_mean_squared_error', cv=cv, n_jobs=-1)\n",
    "\n",
    "print(\"R^2 Score:\", r2_KNN)\n",
    "print(\"\\n\")\n",
    "print(\"Mean R^2 Score:\", mean(r2_KNN))\n",
    "print(\"\\n\")\n",
    "print(\"MSE:\", abs(mse_KNN))\n",
    "print(\"\\n\")\n",
    "print(\"Mean MSE Value:\", abs(mean(mse_KNN)))"
   ]
  },
  {
   "cell_type": "markdown",
   "metadata": {},
   "source": [
    "#### 2-3-5. Linear Regression\n",
    "This model perfoms ordinary least squares linear regression by minimizing the residual sum of squares between the observed targets (predicted by linear approximation) in the dataset. "
   ]
  },
  {
   "cell_type": "code",
   "execution_count": 267,
   "metadata": {},
   "outputs": [],
   "source": [
    "from sklearn.linear_model import LinearRegression\n",
    "LR = LinearRegression()\n",
    "# LR.fit(X_train, y_train)\n",
    "# LR.score(X_train, y_train)"
   ]
  },
  {
   "cell_type": "code",
   "execution_count": 268,
   "metadata": {},
   "outputs": [
    {
     "name": "stdout",
     "output_type": "stream",
     "text": [
      "R^2 Score: [-4.79059487e+17 -1.82990121e+20 -8.55185406e+14 -2.10227356e+03\n",
      " -1.25235579e+15 -4.03120271e+20 -1.44445847e+19 -1.22720141e+18\n",
      " -3.20061349e+20 -5.39257123e+18]\n",
      "\n",
      "\n",
      "Mean R^2 Score: -9.27717264358451e+19\n",
      "\n",
      "\n",
      "MSE: [6.37041142e+16 2.56862336e+19 1.27418232e+14 3.12443716e+02\n",
      " 2.22508906e+14 6.01521050e+19 2.37592623e+18 1.95730581e+17\n",
      " 5.29322027e+19 9.07729492e+17]\n",
      "\n",
      "\n",
      "Mean MSE Value: 1.4231398165607383e+19\n"
     ]
    }
   ],
   "source": [
    "r2_LR = cross_val_score(LR, X, y, scoring='r2', cv=cv, n_jobs=-1)\n",
    "mse_LR = cross_val_score(LR, X, y, scoring='neg_mean_squared_error', cv=cv, n_jobs=-1)\n",
    "\n",
    "print(\"R^2 Score:\", r2_LR)\n",
    "print(\"\\n\")\n",
    "print(\"Mean R^2 Score:\", mean(r2_LR))\n",
    "print(\"\\n\")\n",
    "print(\"MSE:\", abs(mse_LR))\n",
    "print(\"\\n\")\n",
    "print(\"Mean MSE Value:\", abs(mean(mse_LR)))"
   ]
  },
  {
   "cell_type": "markdown",
   "metadata": {},
   "source": [
    "#### 2-3-6. Random Forest Regression\n",
    "This model uses a meta estimator that fits a number of classifying decision trees on various sub-samples of the dataset, and uses averaging to improve the predictive accuracy and control over-fitting."
   ]
  },
  {
   "cell_type": "code",
   "execution_count": 269,
   "metadata": {},
   "outputs": [],
   "source": [
    "from sklearn.ensemble import RandomForestRegressor\n",
    "rfr = RandomForestRegressor()\n",
    "# rfr.fit(X_train, y_train)\n",
    "# print(rfr.score(X_test, y_test))"
   ]
  },
  {
   "cell_type": "code",
   "execution_count": 270,
   "metadata": {},
   "outputs": [
    {
     "name": "stdout",
     "output_type": "stream",
     "text": [
      "R^2 Score: [0.87800642 0.87398078 0.90329852 0.8487127  0.84101973 0.85554296\n",
      " 0.87074932 0.88757037 0.84966433 0.89667667]\n",
      "\n",
      "\n",
      "Mean R^2 Score: 0.8705221803162911\n",
      "\n",
      "\n",
      "MSE: [0.01579828 0.01793906 0.01422511 0.02237535 0.02587011 0.02113181\n",
      " 0.02233944 0.01859197 0.02562874 0.0173158 ]\n",
      "\n",
      "\n",
      "Mean MSE Value: 0.020121566499513105\n"
     ]
    }
   ],
   "source": [
    "r2_rfr = cross_val_score(rfr, X, y, scoring='r2', cv=cv, n_jobs=-1)\n",
    "mse_rfr = cross_val_score(rfr, X, y, scoring='neg_mean_squared_error', cv=cv, n_jobs=-1)\n",
    "\n",
    "print(\"R^2 Score:\", r2_rfr)\n",
    "print(\"\\n\")\n",
    "print(\"Mean R^2 Score:\", mean(r2_rfr))\n",
    "print(\"\\n\")\n",
    "print(\"MSE:\", abs(mse_rfr))\n",
    "print(\"\\n\")\n",
    "print(\"Mean MSE Value:\", abs(mean(mse_rfr)))"
   ]
  },
  {
   "cell_type": "markdown",
   "metadata": {},
   "source": [
    "#### 2-3-7. Support Vector Regression\n",
    "This model identifies the data points within the epsilon-defined error decision boundary to produce a line of best fit for predicting discrete values. For our dataset, the linear kernel was the best fit."
   ]
  },
  {
   "cell_type": "code",
   "execution_count": 271,
   "metadata": {},
   "outputs": [],
   "source": [
    "from sklearn.svm import SVR\n",
    "# from sklearn.metrics import r2_score\n",
    "\n",
    "svr = SVR(kernel='linear')\n",
    "# svr.fit(X_train, np.asarray(y_train))\n",
    "# y_pred_svr = svr.predict(X_test)\n",
    "# r2_score(y_test, y_pred_svr)"
   ]
  },
  {
   "cell_type": "code",
   "execution_count": 272,
   "metadata": {},
   "outputs": [
    {
     "name": "stdout",
     "output_type": "stream",
     "text": [
      "R^2 Score: [0.89499305 0.88335153 0.90063252 0.89422505 0.9186517  0.88253\n",
      " 0.90820499 0.90601667 0.85123047 0.91937944]\n",
      "\n",
      "\n",
      "Mean R^2 Score: 0.8959215438729505\n",
      "\n",
      "\n",
      "MSE: [0.01396356 0.01637389 0.01480524 0.01571299 0.01445334 0.01752844\n",
      " 0.01509896 0.01498972 0.02460372 0.01357083]\n",
      "\n",
      "\n",
      "Mean MSE Value: 0.016110068009764177\n"
     ]
    }
   ],
   "source": [
    "r2_svr = cross_val_score(svr, X, y, scoring='r2', cv=cv, n_jobs=-1)\n",
    "mse_svr = cross_val_score(svr, X, y, scoring='neg_mean_squared_error', cv=cv, n_jobs=-1)\n",
    "\n",
    "print(\"R^2 Score:\", r2_svr)\n",
    "print(\"\\n\")\n",
    "print(\"Mean R^2 Score:\", mean(r2_svr))\n",
    "print(\"\\n\")\n",
    "print(\"MSE:\", abs(mse_svr))\n",
    "print(\"\\n\")\n",
    "print(\"Mean MSE Value:\", abs(mean(mse_svr)))"
   ]
  },
  {
   "cell_type": "markdown",
   "metadata": {},
   "source": [
    "#### 2-3-8. Neural Network"
   ]
  },
  {
   "cell_type": "code",
   "execution_count": null,
   "metadata": {},
   "outputs": [],
   "source": [
    "# !pip install keras\n",
    "# !pip install tensorflow\n",
    "import keras\n",
    "import matplotlib.pyplot as plt\n",
    "\n",
    "from keras.models import Sequential\n",
    "from keras.layers import Dense, Activation, Embedding, Flatten, LeakyReLU, BatchNormalization, Dropout\n",
    "from keras.activations import relu, sigmoid\n",
    "from keras.layers import LeakyReLU"
   ]
  },
  {
   "cell_type": "code",
   "execution_count": null,
   "metadata": {},
   "outputs": [],
   "source": [
    "from keras.wrappers.scikit_learn import KerasClassifier\n",
    "from sklearn.model_selection import GridSearchCV\n",
    "\n",
    "x_train_nn, x_test_nn, y_train_nn, y_test_nn = train_test_split(X, y,test_size = 0.2, random_state = 21)\n",
    "X_val, X_test, Y_val, Y_test = train_test_split(x_test_nn, y_test_nn, test_size=0.5)"
   ]
  },
  {
   "cell_type": "code",
   "execution_count": null,
   "metadata": {},
   "outputs": [],
   "source": [
    "# creating model\n",
    "model = keras.Sequential()\n",
    "\n",
    "# I will be testing out activation rectifided linear units\n",
    "# first layer (input layer)\n",
    "model.add(keras.layers.Dense(60, activation='relu', input_shape=(282,)))\n",
    "# second layer\n",
    "# now using sigmoid as activation \n",
    "model.add(keras.layers.Dense(60, activation='sigmoid'))\n",
    "# third layer\n",
    "# output layer should still only be one (sale price)\n",
    "model.add(keras.layers.Dense(1))\n",
    "\n",
    "# using mean squared error for metric because it is regression problem\n",
    "model.compile(optimizer='adam', loss= 'mean_squared_error', metrics = ['mean_squared_error'])"
   ]
  },
  {
   "cell_type": "code",
   "execution_count": null,
   "metadata": {},
   "outputs": [],
   "source": [
    "# train the model\n",
    "\n",
    "# testing different number of epochs\n",
    "hist=model.fit(x_train_nn,y_train_nn, epochs=150, validation_data=(X_val, Y_val))"
   ]
  },
  {
   "cell_type": "code",
   "execution_count": null,
   "metadata": {},
   "outputs": [],
   "source": [
    "#evaluating the model\n",
    "model.evaluate(x_test_nn, y_test_nn)[1]"
   ]
  },
  {
   "cell_type": "code",
   "execution_count": null,
   "metadata": {},
   "outputs": [],
   "source": [
    "# plotting to look for overfitting\n",
    "plt.plot(hist.history['loss'])\n",
    "plt.plot(hist.history['val_loss'])\n",
    "plt.title('Model Loss')\n",
    "plt.ylabel('Loss')\n",
    "plt.xlabel('Epoch')\n",
    "plt.legend(['Train', 'Pred'], loc = 'upper right')\n",
    "plt.show()"
   ]
  },
  {
   "cell_type": "markdown",
   "metadata": {},
   "source": [
    "### 2-4. Finding Optimal Hyperparameters"
   ]
  },
  {
   "cell_type": "markdown",
   "metadata": {},
   "source": [
    "We will use GridSearch() to populate optimal hyperparameters for the above regression methods. In this section and the following section, we will exclude lasso regression and linear regression, as their R^2 scores were negative and indicate a worse fit than the mean line. Additionally, we will exclude the neural network because optimization has already been attempted through trial-and-error of the number of hidden layers, neurons, activations, and epochs."
   ]
  },
  {
   "cell_type": "markdown",
   "metadata": {},
   "source": [
    "#### 2-4-1. Ridge Regression"
   ]
  },
  {
   "cell_type": "code",
   "execution_count": null,
   "metadata": {},
   "outputs": [],
   "source": [
    "# https://scikit-learn.org/stable/modules/generated/sklearn.linear_model.Ridge.html\n",
    "\n",
    "alpha = [0.05, 0.1, 0.5, 1, 2, 3, 4, 4.5, 5]\n",
    "tol = [0.0001, 0.0005, 0.001, 0.01, 0.05, 0.1, 0.15, 0.2, 0.25, 0.3]\n",
    "parameter_space = {\n",
    "    'alpha' : alpha,\n",
    "    'tol'   : tol,\n",
    "}"
   ]
  },
  {
   "cell_type": "code",
   "execution_count": null,
   "metadata": {},
   "outputs": [],
   "source": [
    "from sklearn.model_selection import GridSearchCV\n",
    "\n",
    "def grid_search(clf, parameters, X, y): # using the GridSearch method to parse through every combination of hyperparameters specified in the above code block\n",
    "    gridSearch = GridSearchCV(clf, param_grid=parameters, n_jobs=-1, cv=5) \n",
    "    gridSearch.fit(X,y)\n",
    "    params = gridSearch.best_params_\n",
    "    score = gridSearch.best_score_\n",
    "    return gridSearch, params, score\n",
    "\n",
    "clf, params, score = grid_search(ridgeReg, parameter_space, X, y)\n",
    "\n",
    "print('Best parameters found :\\n', params)\n",
    "print('Best score :\\n', score)"
   ]
  },
  {
   "cell_type": "markdown",
   "metadata": {},
   "source": [
    "After performing GridSearch, there is a minimal increase in scores."
   ]
  },
  {
   "cell_type": "markdown",
   "metadata": {},
   "source": [
    "#### 2-4-2. XGBoost Regression"
   ]
  },
  {
   "cell_type": "code",
   "execution_count": null,
   "metadata": {},
   "outputs": [],
   "source": [
    "# https://xgboost.readthedocs.io/en/latest/python/python_api.html\n",
    "\n",
    "learning_rate = [0.05, 0.1, 0.15, 0.2, 0.25, 0.3]\n",
    "n_estimators = [1000, 2000, 500]\n",
    "max_depth = [5, 6, 7, 8, 9, 10]\n",
    "\n",
    "parameter_space = {\n",
    "    'learning_rate' : learning_rate,\n",
    "    'n_estimators': n_estimators,\n",
    "    'max_depth' : max_depth\n",
    "}"
   ]
  },
  {
   "cell_type": "code",
   "execution_count": null,
   "metadata": {},
   "outputs": [],
   "source": [
    "from sklearn.model_selection import GridSearchCV\n",
    "\n",
    "def grid_search(clf, parameters, X, y): # using the GridSearch method to parse through every combination of hyperparameters specified in the above code block\n",
    "    gridSearch = GridSearchCV(clf, param_grid=parameters, n_jobs=-1, cv=5) \n",
    "    gridSearch.fit(X,y)\n",
    "    params = gridSearch.best_params_\n",
    "    score = gridSearch.best_score_\n",
    "    return gridSearch, params, score\n",
    "\n",
    "clf, params, score = grid_search(XGB, parameter_space, X, y)\n",
    "\n",
    "print('Best parameters found :\\n', params)\n",
    "print('Best score :\\n', score)"
   ]
  },
  {
   "cell_type": "markdown",
   "metadata": {},
   "source": [
    "After performing GridSearch, there is a decent increase in scores."
   ]
  },
  {
   "cell_type": "markdown",
   "metadata": {},
   "source": [
    "#### 2-4-3. KNN Regression"
   ]
  },
  {
   "cell_type": "code",
   "execution_count": null,
   "metadata": {},
   "outputs": [],
   "source": [
    "# https://scikit-learn.org/stable/modules/generated/sklearn.neighbors.KNeighborsRegressor.html\n",
    "\n",
    "n_neighbors = [1, 2, 3, 4, 5, 6, 7, 8, 9, 10]\n",
    "leaf_size = [2, 5, 7, 10, 20, 30]\n",
    "\n",
    "parameter_space = {\n",
    "    'n_neighbors' : n_neighbors,\n",
    "    'leaf_size': leaf_size\n",
    "}"
   ]
  },
  {
   "cell_type": "code",
   "execution_count": null,
   "metadata": {},
   "outputs": [],
   "source": [
    "from sklearn.model_selection import GridSearchCV\n",
    "\n",
    "def grid_search(clf, parameters, X, y): # using the GridSearch method to parse through every combination of hyperparameters specified in the above code block\n",
    "    gridSearch = GridSearchCV(clf, param_grid=parameters, n_jobs=-1, cv=5) \n",
    "    gridSearch.fit(X,y)\n",
    "    params = gridSearch.best_params_\n",
    "    score = gridSearch.best_score_\n",
    "    return gridSearch, params, score\n",
    "\n",
    "clf, params, score = grid_search(KNN, parameter_space, X, y)\n",
    "\n",
    "print('Best parameters found :\\n', params)\n",
    "print('Best score :\\n', score)"
   ]
  },
  {
   "cell_type": "markdown",
   "metadata": {},
   "source": [
    "After performing GridSearch, there is a minimal increase in scores."
   ]
  },
  {
   "cell_type": "markdown",
   "metadata": {},
   "source": [
    "#### 2-4-4. Random Forest Regression"
   ]
  },
  {
   "cell_type": "code",
   "execution_count": null,
   "metadata": {},
   "outputs": [],
   "source": [
    "# https://scikit-learn.org/stable/modules/generated/sklearn.ensemble.RandomForestRegressor.html\n",
    "\n",
    "min_samples_leaf = [1, 2, 3, 4, 5]\n",
    "n_estimators = [1000, 2000, 500]\n",
    "# max_depth = [5, 6, 7, 8, 9, 10]\n",
    "\n",
    "parameter_space = {\n",
    "    'min_samples_leaf' : min_samples_leaf,\n",
    "    'n_estimators': n_estimators\n",
    "    #'max_depth' : max_depth\n",
    "}"
   ]
  },
  {
   "cell_type": "code",
   "execution_count": null,
   "metadata": {},
   "outputs": [],
   "source": [
    "from sklearn.model_selection import GridSearchCV\n",
    "\n",
    "def grid_search(clf, parameters, X, y): # using the GridSearch method to parse through every combination of hyperparameters specified in the above code block\n",
    "    gridSearch = GridSearchCV(clf, param_grid=parameters, n_jobs=-1, cv=5) \n",
    "    gridSearch.fit(X,y)\n",
    "    params = gridSearch.best_params_\n",
    "    score = gridSearch.best_score_\n",
    "    return gridSearch, params, score\n",
    "\n",
    "clf, params, score = grid_search(rfr, parameter_space, X, y)\n",
    "\n",
    "print('Best parameters found :\\n', params)\n",
    "print('Best score :\\n', score)"
   ]
  },
  {
   "cell_type": "markdown",
   "metadata": {},
   "source": [
    "After performing GridSearch, there is a minimal increase in scores."
   ]
  },
  {
   "cell_type": "markdown",
   "metadata": {},
   "source": [
    "#### 2-4-5. Support Vector Regression"
   ]
  },
  {
   "cell_type": "code",
   "execution_count": null,
   "metadata": {},
   "outputs": [],
   "source": [
    "# https://scikit-learn.org/stable/modules/generated/sklearn.svm.SVR.html\n",
    "\n",
    "C = [0.001, 0.005, 0.05, 0.01, 0.1, 0.5, 1.0, 10.0]\n",
    "epsilon = [0.001, 0.005, 0.05, 0.01, 0.1, 0.5, 1.0, 10.0]\n",
    "\n",
    "parameter_space = {\n",
    "    'C' : C,\n",
    "    'epsilon': epsilon\n",
    "}"
   ]
  },
  {
   "cell_type": "code",
   "execution_count": null,
   "metadata": {},
   "outputs": [],
   "source": [
    "from sklearn.model_selection import GridSearchCV\n",
    "\n",
    "def grid_search(clf, parameters, X, y): # using the GridSearch method to parse through every combination of hyperparameters specified in the above code block\n",
    "    gridSearch = GridSearchCV(clf, param_grid=parameters, n_jobs=-1, cv=5) \n",
    "    gridSearch.fit(X,y)\n",
    "    params = gridSearch.best_params_\n",
    "    score = gridSearch.best_score_\n",
    "    return gridSearch, params, score\n",
    "\n",
    "clf, params, score = grid_search(svr, parameter_space, X, y)\n",
    "\n",
    "print('Best parameters found :\\n', params)\n",
    "print('Best score :\\n', score)"
   ]
  },
  {
   "cell_type": "markdown",
   "metadata": {},
   "source": [
    "After performing GridSearch, there is a decent increase in scores."
   ]
  },
  {
   "cell_type": "markdown",
   "metadata": {},
   "source": [
    "### 2-5. Implementation of Optimal Hyperparameters\n",
    "Now, we will implement the obtained hyperparameters in our initial regression methods. Once again, we will be exclusing lasso regression, linear regression and the neural network."
   ]
  },
  {
   "cell_type": "markdown",
   "metadata": {},
   "source": [
    "#### 2-5-1. Ridge Regression"
   ]
  },
  {
   "cell_type": "code",
   "execution_count": null,
   "metadata": {},
   "outputs": [],
   "source": [
    "from sklearn.linear_model import Ridge\n",
    "ridgeReg = Ridge(alpha = 4, tol = 0.0001)\n",
    "# ridgeReg.fit(X_train, y_train)\n",
    "# print('Ridge')\n",
    "# print(ridgeReg.score(X_test, y_test)) # returns R^2 score"
   ]
  },
  {
   "cell_type": "code",
   "execution_count": null,
   "metadata": {},
   "outputs": [],
   "source": [
    "from sklearn.model_selection import KFold\n",
    "from sklearn.model_selection import cross_val_score\n",
    "from statistics import *\n",
    "\n",
    "cv = KFold(n_splits=10, random_state=21, shuffle=True)\n",
    "\n",
    "r2_ridge = cross_val_score(ridgeReg, X, y, scoring='r2', cv=cv, n_jobs=-1)\n",
    "mse_ridge = cross_val_score(ridgeReg, X, y, scoring='neg_mean_squared_error', cv=cv, n_jobs=-1)\n",
    "\n",
    "print(\"R^2 Score:\", r2_ridge)\n",
    "print(\"\\n\")\n",
    "print(\"Mean R^2 Score:\", mean(r2_ridge))\n",
    "print(\"\\n\")\n",
    "print(\"MSE:\", abs(mse_ridge))\n",
    "print(\"\\n\")\n",
    "print(\"Mean MSE Value:\", abs(mean(mse_ridge)))"
   ]
  },
  {
   "cell_type": "markdown",
   "metadata": {},
   "source": [
    "#### 2-5-2. XGBoost Regression"
   ]
  },
  {
   "cell_type": "code",
   "execution_count": null,
   "metadata": {},
   "outputs": [],
   "source": [
    "# !pip install xgboost\n",
    "from xgboost import XGBRegressor\n",
    "\n",
    "XGB = XGBRegressor(learning_rate = 0.05, max_depth = 5, n_estimators = 2000)\n",
    "# XGB.fit(X_train, y_train)\n",
    "# print(XGB.score(X_test, y_test))"
   ]
  },
  {
   "cell_type": "code",
   "execution_count": null,
   "metadata": {},
   "outputs": [],
   "source": [
    "r2_XGB = cross_val_score(XGB, X, y, scoring='r2', cv=cv, n_jobs=-1)\n",
    "mse_XGB = cross_val_score(XGB, X, y, scoring='neg_mean_squared_error', cv=cv, n_jobs=-1)\n",
    "\n",
    "print(\"R^2 Score:\", r2_XGB)\n",
    "print(\"\\n\")\n",
    "print(\"Mean R^2 Score:\", mean(r2_XGB))\n",
    "print(\"\\n\")\n",
    "print(\"MSE:\", abs(mse_XGB))\n",
    "print(\"\\n\")\n",
    "print(\"Mean MSE Value:\", abs(mean(mse_XGB)))"
   ]
  },
  {
   "cell_type": "markdown",
   "metadata": {},
   "source": [
    "#### 2-5-3. KNN Regression"
   ]
  },
  {
   "cell_type": "code",
   "execution_count": null,
   "metadata": {},
   "outputs": [],
   "source": [
    "from sklearn.neighbors import KNeighborsRegressor\n",
    "\n",
    "KNN = KNeighborsRegressor(leaf_size = 2, n_neighbors = 6)\n",
    "# KNN.fit(X_train,y_train)\n",
    "# print(KNN.score(X_test, y_test))"
   ]
  },
  {
   "cell_type": "code",
   "execution_count": null,
   "metadata": {},
   "outputs": [],
   "source": [
    "r2_KNN = cross_val_score(KNN, X, y, scoring='r2', cv=cv, n_jobs=-1)\n",
    "mse_KNN = cross_val_score(KNN, X, y, scoring='neg_mean_squared_error', cv=cv, n_jobs=-1)\n",
    "\n",
    "print(\"R^2 Score:\", r2_KNN)\n",
    "print(\"\\n\")\n",
    "print(\"Mean R^2 Score:\", mean(r2_KNN))\n",
    "print(\"\\n\")\n",
    "print(\"MSE:\", abs(mse_KNN))\n",
    "print(\"\\n\")\n",
    "print(\"Mean MSE Value:\", abs(mean(mse_KNN)))"
   ]
  },
  {
   "cell_type": "markdown",
   "metadata": {},
   "source": [
    "#### 2-5-4. Random Forest Regression"
   ]
  },
  {
   "cell_type": "code",
   "execution_count": null,
   "metadata": {},
   "outputs": [],
   "source": [
    "from sklearn.ensemble import RandomForestRegressor\n",
    "rfr = RandomForestRegressor(min_samples_leaf = 2, n_estimators = 2000)\n",
    "# rfr.fit(X_train, y_train)\n",
    "# print(rfr.score(X_test, y_test))"
   ]
  },
  {
   "cell_type": "code",
   "execution_count": null,
   "metadata": {},
   "outputs": [],
   "source": [
    "r2_rfr = cross_val_score(rfr, X, y, scoring='r2', cv=cv, n_jobs=-1)\n",
    "mse_rfr = cross_val_score(rfr, X, y, scoring='neg_mean_squared_error', cv=cv, n_jobs=-1)\n",
    "\n",
    "print(\"R^2 Score:\", r2_rfr)\n",
    "print(\"\\n\")\n",
    "print(\"Mean R^2 Score:\", mean(r2_rfr))\n",
    "print(\"\\n\")\n",
    "print(\"MSE:\", abs(mse_rfr))\n",
    "print(\"\\n\")\n",
    "print(\"Mean MSE Value:\", abs(mean(mse_rfr)))"
   ]
  },
  {
   "cell_type": "markdown",
   "metadata": {},
   "source": [
    "#### 2-5-5. Support Vector Regression"
   ]
  },
  {
   "cell_type": "code",
   "execution_count": null,
   "metadata": {},
   "outputs": [],
   "source": [
    "from sklearn.svm import SVR\n",
    "# from sklearn.metrics import r2_score\n",
    "\n",
    "svr = SVR(kernel='linear', C = 0.05, epsilon = 0.005)\n",
    "# svr.fit(X_train, np.asarray(y_train))\n",
    "# y_pred_svr = svr.predict(X_test)\n",
    "# r2_score(y_test, y_pred_svr)"
   ]
  },
  {
   "cell_type": "code",
   "execution_count": null,
   "metadata": {},
   "outputs": [],
   "source": [
    "r2_svr = cross_val_score(svr, X, y, scoring='r2', cv=cv, n_jobs=-1)\n",
    "mse_svr = cross_val_score(svr, X, y, scoring='neg_mean_squared_error', cv=cv, n_jobs=-1)\n",
    "\n",
    "print(\"R^2 Score:\", r2_svr)\n",
    "print(\"\\n\")\n",
    "print(\"Mean R^2 Score:\", mean(r2_svr))\n",
    "print(\"\\n\")\n",
    "print(\"MSE:\", abs(mse_svr))\n",
    "print(\"\\n\")\n",
    "print(\"Mean MSE Value:\", abs(mean(mse_svr)))"
   ]
  },
  {
   "cell_type": "markdown",
   "metadata": {},
   "source": [
    "## 3. Results\n",
    "Below are the R^2 scores and MSE values for each regression method after implementing the optimal hyperparameters. As we can see, ridge regression had the best results, followed by support vector regression."
   ]
  },
  {
   "cell_type": "code",
   "execution_count": 244,
   "metadata": {},
   "outputs": [
    {
     "name": "stdout",
     "output_type": "stream",
     "text": [
      "+----------------+--------------------+----------------------+\n",
      "|  ML Algorithm  |   Avg R^2 Score    |       Avg MSE        |\n",
      "+----------------+--------------------+----------------------+\n",
      "|     Ridge      | 0.9108344112750121 | 0.013836693343777774 |\n",
      "|      SVR       | 0.9102385055200841 | 0.013900808872506202 |\n",
      "|    XGBoost     | 0.9015706563418072 | 0.015280968941103323 |\n",
      "| Neural Network |         -          | 0.019019585102796555 |\n",
      "| Random Forest  | 0.8726704143296444 | 0.019821473835094878 |\n",
      "|      KNN       | 0.780005248889875  | 0.03405818328993641  |\n",
      "+----------------+--------------------+----------------------+\n"
     ]
    }
   ],
   "source": [
    "# !pip install prettytable\n",
    "from prettytable import PrettyTable \n",
    "  \n",
    "# Specify the Column Names while initializing the Table \n",
    "myTable = PrettyTable([\"ML Algorithm\", \"Avg R^2 Score\", \"Avg MSE\"]) \n",
    "\n",
    "# Add rows \n",
    "myTable.add_row([\"Ridge\", mean(r2_ridge), abs(mean(mse_ridge))]) \n",
    "myTable.add_row([\"SVR\", mean(r2_svr), abs(mean(mse_svr))]) \n",
    "myTable.add_row([\"XGBoost\", mean(r2_XGB), abs(mean(mse_XGB))])\n",
    "myTable.add_row([\"Neural Network\", \"-\", 0.019019585102796555])\n",
    "myTable.add_row([\"Random Forest\", mean(r2_rfr), abs(mean(mse_rfr))]) \n",
    "myTable.add_row([\"KNN\", mean(r2_KNN), abs(mean(mse_KNN))]) \n",
    "  \n",
    "print(myTable)"
   ]
  },
  {
   "cell_type": "code",
   "execution_count": null,
   "metadata": {},
   "outputs": [],
   "source": []
  }
 ],
 "metadata": {
  "kernelspec": {
   "display_name": "Python 3",
   "language": "python",
   "name": "python3"
  },
  "language_info": {
   "codemirror_mode": {
    "name": "ipython",
    "version": 3
   },
   "file_extension": ".py",
   "mimetype": "text/x-python",
   "name": "python",
   "nbconvert_exporter": "python",
   "pygments_lexer": "ipython3",
   "version": "3.8.5"
  }
 },
 "nbformat": 4,
 "nbformat_minor": 4
}
