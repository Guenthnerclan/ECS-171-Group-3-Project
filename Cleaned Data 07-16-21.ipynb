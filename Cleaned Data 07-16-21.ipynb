{
 "cells": [
  {
   "cell_type": "code",
   "execution_count": 125,
   "metadata": {},
   "outputs": [],
   "source": [
    "import numpy as np\n",
    "import pandas as pd\n",
    "from sklearn.preprocessing import OneHotEncoder\n",
    "from sklearn.preprocessing import MinMaxScaler\n",
    "\n",
    "from matplotlib import pyplot as plt\n",
    "%matplotlib inline\n",
    "import seaborn as sns\n",
    "\n",
    "train_df = pd.read_csv(\"train.csv\")\n",
    "test_df = pd.read_csv(\"test.csv\")\n",
    "\n",
    "df = pd.concat([train_df,test_df],axis=0,sort=False)\n",
    "categ_df = df.select_dtypes(include=['object'])\n",
    "numer_df =df.select_dtypes(exclude=['object'])"
   ]
  },
  {
   "cell_type": "code",
   "execution_count": 126,
   "metadata": {},
   "outputs": [],
   "source": [
    "#Features with too many NaN values, dropping them\n",
    "#Also Id which has no correlation to houses, just a sample marker\n",
    "df = df.drop([\"Id\",\"Alley\",\"PoolQC\",\"Fence\",\"MiscFeature\"],axis=1)"
   ]
  },
  {
   "cell_type": "code",
   "execution_count": 127,
   "metadata": {},
   "outputs": [
    {
     "name": "stdout",
     "output_type": "stream",
     "text": [
      "<class 'pandas.core.frame.DataFrame'>\n",
      "Int64Index: 2919 entries, 0 to 1458\n",
      "Data columns (total 76 columns):\n",
      "MSSubClass       2919 non-null int64\n",
      "MSZoning         2915 non-null object\n",
      "LotFrontage      2433 non-null float64\n",
      "LotArea          2919 non-null int64\n",
      "Street           2919 non-null object\n",
      "LotShape         2919 non-null object\n",
      "LandContour      2919 non-null object\n",
      "Utilities        2917 non-null object\n",
      "LotConfig        2919 non-null object\n",
      "LandSlope        2919 non-null object\n",
      "Neighborhood     2919 non-null object\n",
      "Condition1       2919 non-null object\n",
      "Condition2       2919 non-null object\n",
      "BldgType         2919 non-null object\n",
      "HouseStyle       2919 non-null object\n",
      "OverallQual      2919 non-null int64\n",
      "OverallCond      2919 non-null int64\n",
      "YearBuilt        2919 non-null int64\n",
      "YearRemodAdd     2919 non-null int64\n",
      "RoofStyle        2919 non-null object\n",
      "RoofMatl         2919 non-null object\n",
      "Exterior1st      2918 non-null object\n",
      "Exterior2nd      2918 non-null object\n",
      "MasVnrType       2895 non-null object\n",
      "MasVnrArea       2896 non-null float64\n",
      "ExterQual        2919 non-null object\n",
      "ExterCond        2919 non-null object\n",
      "Foundation       2919 non-null object\n",
      "BsmtQual         2838 non-null object\n",
      "BsmtCond         2837 non-null object\n",
      "BsmtExposure     2837 non-null object\n",
      "BsmtFinType1     2840 non-null object\n",
      "BsmtFinSF1       2918 non-null float64\n",
      "BsmtFinType2     2839 non-null object\n",
      "BsmtFinSF2       2918 non-null float64\n",
      "BsmtUnfSF        2918 non-null float64\n",
      "TotalBsmtSF      2918 non-null float64\n",
      "Heating          2919 non-null object\n",
      "HeatingQC        2919 non-null object\n",
      "CentralAir       2919 non-null object\n",
      "Electrical       2918 non-null object\n",
      "1stFlrSF         2919 non-null int64\n",
      "2ndFlrSF         2919 non-null int64\n",
      "LowQualFinSF     2919 non-null int64\n",
      "GrLivArea        2919 non-null int64\n",
      "BsmtFullBath     2917 non-null float64\n",
      "BsmtHalfBath     2917 non-null float64\n",
      "FullBath         2919 non-null int64\n",
      "HalfBath         2919 non-null int64\n",
      "BedroomAbvGr     2919 non-null int64\n",
      "KitchenAbvGr     2919 non-null int64\n",
      "KitchenQual      2918 non-null object\n",
      "TotRmsAbvGrd     2919 non-null int64\n",
      "Functional       2917 non-null object\n",
      "Fireplaces       2919 non-null int64\n",
      "FireplaceQu      1499 non-null object\n",
      "GarageType       2762 non-null object\n",
      "GarageYrBlt      2760 non-null float64\n",
      "GarageFinish     2760 non-null object\n",
      "GarageCars       2918 non-null float64\n",
      "GarageArea       2918 non-null float64\n",
      "GarageQual       2760 non-null object\n",
      "GarageCond       2760 non-null object\n",
      "PavedDrive       2919 non-null object\n",
      "WoodDeckSF       2919 non-null int64\n",
      "OpenPorchSF      2919 non-null int64\n",
      "EnclosedPorch    2919 non-null int64\n",
      "3SsnPorch        2919 non-null int64\n",
      "ScreenPorch      2919 non-null int64\n",
      "PoolArea         2919 non-null int64\n",
      "MiscVal          2919 non-null int64\n",
      "MoSold           2919 non-null int64\n",
      "YrSold           2919 non-null int64\n",
      "SaleType         2918 non-null object\n",
      "SaleCondition    2919 non-null object\n",
      "SalePrice        1460 non-null float64\n",
      "dtypes: float64(12), int64(25), object(39)\n",
      "memory usage: 1.7+ MB\n"
     ]
    }
   ],
   "source": [
    "df.info()"
   ]
  },
  {
   "cell_type": "code",
   "execution_count": 131,
   "metadata": {},
   "outputs": [
    {
     "name": "stdout",
     "output_type": "stream",
     "text": [
      "Number of null values in each column:\n",
      "\n",
      "MSZoning 4\n",
      "LotFrontage 486\n",
      "Utilities 2\n",
      "Exterior1st 1\n",
      "Exterior2nd 1\n",
      "MasVnrType 24\n",
      "MasVnrArea 23\n",
      "BsmtFinSF1 1\n",
      "BsmtFinSF2 1\n",
      "BsmtUnfSF 1\n",
      "TotalBsmtSF 1\n",
      "Electrical 1\n",
      "BsmtFullBath 2\n",
      "BsmtHalfBath 2\n",
      "KitchenQual 1\n",
      "Functional 2\n",
      "GarageYrBlt 159\n",
      "GarageCars 1\n",
      "GarageArea 1\n",
      "SaleType 1\n",
      "SalePrice 1459\n"
     ]
    }
   ],
   "source": [
    "#Show features with at least some NaN values\n",
    "null_counts = df.isnull().sum()\n",
    "null_cols = []\n",
    "print(\"Number of null values in each column:\\n\")\n",
    "for i in range(len(null_counts)):\n",
    "    if null_counts[i] != 0:\n",
    "        print(null_counts.index[i], null_counts[i])\n",
    "        null_cols.append(null_counts.index[i])"
   ]
  },
  {
   "cell_type": "code",
   "execution_count": 132,
   "metadata": {},
   "outputs": [],
   "source": [
    "#Columns that have the data description with an explanation for NaN values\n",
    "##Basically indicates a lack of the feature is specified\n",
    "valid_none_cols = ['BsmtQual','BsmtCond','BsmtExposure','BsmtFinType1','BsmtFinType2','GarageType',\n",
    "                'GarageFinish','GarageQual','FireplaceQu','GarageCond']\n",
    "\n",
    "##Filling in with value 'None' to indicate for machine learning later\n",
    "df[valid_none_cols]= df[valid_none_cols].fillna('None')"
   ]
  },
  {
   "cell_type": "code",
   "execution_count": 133,
   "metadata": {},
   "outputs": [
    {
     "name": "stdout",
     "output_type": "stream",
     "text": [
      "['MSZoning' 'Utilities' 'Exterior1st' 'Exterior2nd' 'MasVnrType'\n",
      " 'Electrical' 'KitchenQual' 'Functional' 'SaleType']\n",
      "['LotFrontage' 'MasVnrArea' 'BsmtFinSF1' 'BsmtFinSF2' 'BsmtUnfSF'\n",
      " 'TotalBsmtSF' 'BsmtFullBath' 'BsmtHalfBath' 'GarageYrBlt' 'GarageCars'\n",
      " 'GarageArea']\n"
     ]
    }
   ],
   "source": [
    "#Organizing the other features with NaN values into numerical and categorical features\n",
    "#\"Invalid\" simply means the data description didn't specify NaN values\n",
    "\n",
    "invalid_none_cols = np.array(null_cols)\n",
    "invalid_none_cols = invalid_none_cols[[i not in valid_none_cols for i in invalid_none_cols]]\n",
    "\n",
    "invalid_none_categ = invalid_none_cols[[i in categ_df for i in invalid_none_cols]]\n",
    "invalid_none_numer = invalid_none_cols[[i in numer_df for i in invalid_none_cols]]\n",
    "\n",
    "#Deletes SalePrice which shows up due to being empty for the test set\n",
    "#Definitely not something we want to fill in with values yet\n",
    "invalid_none_numer = np.delete(invalid_none_numer,-1)\n",
    "\n",
    "print(invalid_none_categ)\n",
    "print(invalid_none_numer)\n",
    "#fill missing values for each column (using its own most frequent value)\n",
    "#object_columns_df[columns_with_lowNA] = object_columns_df[columns_with_lowNA].fillna(object_columns_df.mode().iloc[0])"
   ]
  },
  {
   "cell_type": "code",
   "execution_count": 134,
   "metadata": {},
   "outputs": [],
   "source": [
    "#Now we can adjust the NaN values for the rest according to type\n",
    "#Numerical features can be filled based on their most median value\n",
    "#Categorical features can be filled by their most common (mode) value\n",
    "#Not perfect, but likely a good enough approximation to the missing values in the data\n",
    "\n",
    "#ADJUSTING THE CATEGORICAL VALUES IN LINE WITH THE MODES OF THEIR DATA\n",
    "for i in invalid_none_categ:\n",
    "    mode = df[i].mode().to_numpy()[0]\n",
    "    df[i] = df[i].fillna(value = mode)\n",
    "#print(df.iloc[1379,40]) #This value is NaN until changed to SBrkr"
   ]
  },
  {
   "cell_type": "code",
   "execution_count": 136,
   "metadata": {},
   "outputs": [],
   "source": [
    "##ADJUSTING NUMERICAL FEATURES\n",
    "#For the most part these values can be assumed to indicate 0 when not filled with a number\n",
    "##LotFrontage has many missing values, so all 0 wouldn't be great\n",
    "#GarageYrBlt makes no sense with a value of 0. We'll change these two individually\n",
    "\n",
    "#Adjusting LotFrontage by assuming the fill takes on the median value\n",
    "#Perhaps this can be improved with comparisons to the LotArea feature?\n",
    "df['LotFrontage'] = df['LotFrontage'].fillna(df['LotFrontage'].median())\n",
    "\n",
    "\n",
    "#Adjusting GarageYrBlt based on the year the house was built\n",
    "\n",
    "#plt.plot(train_df_NA[\"GarageYrBlt\"],train_df_NA[\"YearBuilt\"],\"b.\")\n",
    "#plt.xticks(np.arange(min(train_df_NA[\"GarageYrBlt\"]),max(train_df_NA[\"GarageYrBlt\"]),20.0))\n",
    "#plt.xlabel(\"Year Garage Built\")\n",
    "#plt.ylabel(\"Year Built\")\n",
    "\n",
    "#seems like the garage is built around the same year as the house or a bit later\n",
    "#Again use the median value to fill in\n",
    "df[\"GarageYrBlt\"] = df[\"GarageYrBlt\"].fillna(df['YearBuilt']-(df['GarageYrBlt']-df['YearBuilt']).median())\n",
    "\n",
    "#Fill the rest of the null values to 0\n",
    "for i in invalid_none_numer:\n",
    "    df[i] = df[i].fillna(0)"
   ]
  },
  {
   "cell_type": "code",
   "execution_count": 137,
   "metadata": {},
   "outputs": [
    {
     "name": "stdout",
     "output_type": "stream",
     "text": [
      "Number of null values in each column:\n",
      "\n",
      "SalePrice 1459\n"
     ]
    }
   ],
   "source": [
    "#Show features with at least some NaN values\n",
    "null_counts = df.isnull().sum()\n",
    "null_cols = []\n",
    "print(\"Number of null values in each column:\\n\")\n",
    "for i in range(len(null_counts)):\n",
    "    if null_counts[i] != 0:\n",
    "        print(null_counts.index[i], null_counts[i])\n",
    "        null_cols.append(null_counts.index[i])\n",
    "\n",
    "##As desired the null values are only the SalePrice from the test set now"
   ]
  },
  {
   "cell_type": "code",
   "execution_count": 140,
   "metadata": {},
   "outputs": [],
   "source": [
    "#Split df back into test and train set\n",
    "train_df_clean = df[0:1460]\n",
    "test_df_clean = df[1460:]"
   ]
  },
  {
   "cell_type": "markdown",
   "metadata": {},
   "source": [
    "### Notes\n",
    "- Some features, like 'pool', seem to mostly have all the same values. Perhaps worth dropping these as well?\n",
    "- Maybe worth checking the logic of some of the data, like year features or square footage\n",
    "    - Can't have a house built after it's sold or a bathroom larger than the house!"
   ]
  },
  {
   "cell_type": "code",
   "execution_count": null,
   "metadata": {},
   "outputs": [],
   "source": []
  }
 ],
 "metadata": {
  "kernelspec": {
   "display_name": "Python 3",
   "language": "python",
   "name": "python3"
  },
  "language_info": {
   "codemirror_mode": {
    "name": "ipython",
    "version": 3
   },
   "file_extension": ".py",
   "mimetype": "text/x-python",
   "name": "python",
   "nbconvert_exporter": "python",
   "pygments_lexer": "ipython3",
   "version": "3.7.3"
  }
 },
 "nbformat": 4,
 "nbformat_minor": 2
}
